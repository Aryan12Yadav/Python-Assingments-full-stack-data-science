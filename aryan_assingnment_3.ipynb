{
 "cells": [
  {
   "cell_type": "markdown",
   "id": "8932f16f",
   "metadata": {},
   "source": [
    "# Constructor"
   ]
  },
  {
   "cell_type": "markdown",
   "id": "91fd0b42",
   "metadata": {},
   "source": [
    "##### 1. What is a constructor in Python? Explain its purpose and usage"
   ]
  },
  {
   "cell_type": "markdown",
   "id": "e9c94091",
   "metadata": {},
   "source": [
    "In Python, a constructor is a special method within a class that gets automatically called when you create an object (instance) of that class. The purpose of a constructor is to initialize the attributes of the object or perform any setup that is necessary before the object is ready for use."
   ]
  },
  {
   "cell_type": "markdown",
   "id": "db19b379",
   "metadata": {},
   "source": [
    "##### 2. Differentiate between a parameterless constructor and a parameterized constructor in Python"
   ]
  },
  {
   "cell_type": "code",
   "execution_count": 9,
   "id": "9b969c44",
   "metadata": {},
   "outputs": [
    {
     "data": {
      "text/plain": [
       "'this is the parametrilize funtion :'"
      ]
     },
     "execution_count": 9,
     "metadata": {},
     "output_type": "execute_result"
    }
   ],
   "source": [
    "# parameterilized constructor \n",
    "#  in this constructor the argument provide in the constructor \n",
    "\n",
    "\n",
    "class function:\n",
    "    def __init__(self,argue):\n",
    "        self.argue = argue\n",
    "cl = function(\"this is the parametrilize funtion :\")\n",
    "cl.argue\n"
   ]
  },
  {
   "cell_type": "code",
   "execution_count": 11,
   "id": "d8a49d56",
   "metadata": {},
   "outputs": [
    {
     "name": "stdout",
     "output_type": "stream",
     "text": [
      "parameter less constructor called here : \n"
     ]
    }
   ],
   "source": [
    "# parametriless constructor \n",
    "#  this will execute without the use of the any initialised parameter in the funtion\n",
    "class funtion2:\n",
    "    def __init__(self):\n",
    "        print(\"parameter less constructor called here : \")\n",
    "        pass\n",
    "c2 = funtion2()"
   ]
  },
  {
   "cell_type": "markdown",
   "id": "c89e039b",
   "metadata": {},
   "source": [
    "##### 3. How do you define a constructor in a Python class? Provide an example"
   ]
  },
  {
   "cell_type": "code",
   "execution_count": 12,
   "id": "b54f8863",
   "metadata": {},
   "outputs": [
    {
     "data": {
      "text/plain": [
       "'here i will define the use use constructor in the class '"
      ]
     },
     "execution_count": 12,
     "metadata": {},
     "output_type": "execute_result"
    }
   ],
   "source": [
    "class my_constr:\n",
    "    \n",
    "    def __init__(self,i):\n",
    "        self.i = i\n",
    "    def define(self):\n",
    "        return self.i\n",
    "defin = my_constr(\"here i will define the use use constructor in the class \")\n",
    "defin.define()"
   ]
  },
  {
   "cell_type": "markdown",
   "id": "c04837f0",
   "metadata": {},
   "source": [
    "##### 4. Explain the `__init__` method in Python and its role in constructors."
   ]
  },
  {
   "cell_type": "markdown",
   "id": "9d0afa3d",
   "metadata": {},
   "source": [
    "\n",
    "In Python, the __init__ method is a special method, also known as the initializer or constructor method. It is used to initialize objects of a class when they are created.\n",
    "\n",
    "The __init__ method is called automatically whenever a new instance (object) of a class is created. It is not mandatory to define an __init__ method in a class; however, it is a common practice and often essential for initializing instance variables or performing certain setup tasks when an object is instantiated.\n",
    "\n",
    "Key points about the __init__ method and its role in constructors:\n",
    "\n",
    "Initialization: Its primary purpose is to initialize the object's attributes or perform other setup operations needed for the object.\n",
    "\n",
    "Invocation: The __init__ method is automatically invoked when an object of the class is created using the class name followed by parentheses, similar to calling a function"
   ]
  },
  {
   "cell_type": "markdown",
   "id": "37fb5308",
   "metadata": {},
   "source": [
    "##### 5. In a class named `Person`, create a constructor that initializes the `name` and `age` attributes. Provide an \n",
    "example of creating an object of this class."
   ]
  },
  {
   "cell_type": "code",
   "execution_count": 16,
   "id": "c8666d75",
   "metadata": {},
   "outputs": [
    {
     "name": "stdout",
     "output_type": "stream",
     "text": [
      "the name is aryan and his age is 17\n"
     ]
    }
   ],
   "source": [
    "class Person : \n",
    "    \n",
    "    def __init__(self,name,age):\n",
    "        self.name = name\n",
    "        self.age = age\n",
    "p = Person(\"aryan\",\"17\")\n",
    "print(f\"the name is {p.name} and his age is {p.age}\")\n",
    "    "
   ]
  },
  {
   "cell_type": "markdown",
   "id": "1ab7b99d",
   "metadata": {},
   "source": [
    "##### 6. How can you call a constructor explicitly in Python? Give an example."
   ]
  },
  {
   "cell_type": "code",
   "execution_count": 93,
   "id": "40256b12",
   "metadata": {},
   "outputs": [
    {
     "name": "stdout",
     "output_type": "stream",
     "text": [
      "my hobby is coding\n",
      "my aim is to became a data scientist\n"
     ]
    }
   ],
   "source": [
    "class Aryan:\n",
    "    \n",
    "    def __init__(self,hobby,aim):\n",
    "        self.hobby = hobby\n",
    "        self.aim = aim\n",
    "        \n",
    "obj = Aryan(\"coding\",\"data scientist\")\n",
    "print(f\"my hobby is {obj.hobby}\")\n",
    "print(f\"my aim is to became a {obj.aim}\")"
   ]
  },
  {
   "cell_type": "code",
   "execution_count": 100,
   "id": "6bc5f123",
   "metadata": {},
   "outputs": [
    {
     "name": "stdout",
     "output_type": "stream",
     "text": [
      "the value is  10\n"
     ]
    }
   ],
   "source": [
    "class myclass:\n",
    "    \n",
    "    def __init__(self,a):\n",
    "        self.a = a\n",
    "        \n",
    "    def my_explicit_constructor(self,b):\n",
    "        self.__init__(b)\n",
    "        \n",
    "        print(\"the value is \",self.a)\n",
    "            \n",
    "obj = myclass(5)\n",
    "obj.my_explicit_constructor(10)"
   ]
  },
  {
   "cell_type": "markdown",
   "id": "4e189624",
   "metadata": {},
   "source": [
    "##### 7. What is the significance of the `self` parameter in Python constructors? Explain with an example.`5"
   ]
  },
  {
   "cell_type": "code",
   "execution_count": 104,
   "id": "eebb4206",
   "metadata": {},
   "outputs": [
    {
     "name": "stdout",
     "output_type": "stream",
     "text": [
      " my name is aryan and age 18.\n"
     ]
    }
   ],
   "source": [
    "# self points the arguments that you wants to excuted or pick up from there\n",
    "class my_self:\n",
    "    \n",
    "    def __init__(self,name,age):\n",
    "        self.name = name\n",
    "        self.age = age \n",
    "        \n",
    "    def display(self):\n",
    "        print(f\" my name is {self.name} and age {self.age}.\")\n",
    "        \n",
    "obj = my_self(\"aryan\",18)\n",
    "obj.display()"
   ]
  },
  {
   "cell_type": "code",
   "execution_count": 107,
   "id": "05b50572",
   "metadata": {},
   "outputs": [
    {
     "name": "stdout",
     "output_type": "stream",
     "text": [
      " my name is prince and age 18.\n"
     ]
    }
   ],
   "source": [
    "obj.name = \"prince\"\n",
    "obj.display()"
   ]
  },
  {
   "cell_type": "code",
   "execution_count": 108,
   "id": "ea4550da",
   "metadata": {},
   "outputs": [
    {
     "name": "stdout",
     "output_type": "stream",
     "text": [
      " my name is prince and age 100.\n"
     ]
    }
   ],
   "source": [
    "obj.age = 100\n",
    "obj.display()"
   ]
  },
  {
   "cell_type": "markdown",
   "id": "b2332027",
   "metadata": {},
   "source": [
    "##### 8. Discuss the concept of default constructors in Python. When are they used?"
   ]
  },
  {
   "cell_type": "code",
   "execution_count": 110,
   "id": "e7dce728",
   "metadata": {},
   "outputs": [
    {
     "name": "stdout",
     "output_type": "stream",
     "text": [
      "this is default constructor 0 0\n"
     ]
    }
   ],
   "source": [
    "class python_class :\n",
    "    \n",
    "    def __init__(self,x = 0,y = 0):\n",
    "        self.x = x\n",
    "        self.y = y\n",
    "    def display(self):\n",
    "        print(\"this is default constructor\",self.x,self.y)\n",
    "        \n",
    "obj = python_class()\n",
    "obj.display()"
   ]
  },
  {
   "cell_type": "code",
   "execution_count": 115,
   "id": "6fc0ae66",
   "metadata": {},
   "outputs": [
    {
     "name": "stdout",
     "output_type": "stream",
     "text": [
      "this is default constructor 2 0\n"
     ]
    }
   ],
   "source": [
    "obj = python_class(2)\n",
    "obj.display()"
   ]
  },
  {
   "cell_type": "markdown",
   "id": "03348d79",
   "metadata": {},
   "source": [
    "##### 9. Create a Python class called `Rectangle` with a constructor that initializes the `width` and `height` \n",
    "attributes. Provide a method to calculate the area of the rectangle."
   ]
  },
  {
   "cell_type": "code",
   "execution_count": 127,
   "id": "0ca2e5fa",
   "metadata": {},
   "outputs": [
    {
     "name": "stdout",
     "output_type": "stream",
     "text": [
      "Enter the width : 2\n",
      "Enter the  : 30\n",
      "the area of the rectangle is : 300.000000\n"
     ]
    }
   ],
   "source": [
    "class Rectangle:\n",
    "    \n",
    "    def __init__(self,width,height):\n",
    "        self.width = width\n",
    "        self.height = height \n",
    "        \n",
    "    def area_of_rectangel(self):\n",
    "        return self.width*self.height\n",
    "\n",
    "\n",
    "obj = Rectangle(float(input(\"Enter the width : \")),float(input(\"Enter the  : \")))\n",
    "obj.width = 10\n",
    "print(f\"the area of the rectangle is : %f\" % obj.area_of_rectangel())\n"
   ]
  },
  {
   "cell_type": "markdown",
   "id": "c7d21dcd",
   "metadata": {},
   "source": [
    "##### 10. How can you have multiple constructors in a Python class? Explain with an example."
   ]
  },
  {
   "cell_type": "code",
   "execution_count": 155,
   "id": "bba4f968",
   "metadata": {},
   "outputs": [
    {
     "data": {
      "text/plain": [
       "160"
      ]
     },
     "execution_count": 155,
     "metadata": {},
     "output_type": "execute_result"
    }
   ],
   "source": [
    "class my_code:\n",
    "    \n",
    "    def __init__(self,a = 2,b = 3):\n",
    "        self.a = a\n",
    "        self.b = b\n",
    "        \n",
    "    def inquiry(self,c=2,d=1):\n",
    "        self.__init__(c,d)   # this is explict constructor\n",
    "        return self.a*self.b\n",
    "    def display(self):\n",
    "        return self.a ,self.b\n",
    "        \n",
    "obj = my_code(10,30)\n",
    "obj.inquiry(4,40)\n",
    "    "
   ]
  },
  {
   "cell_type": "code",
   "execution_count": 156,
   "id": "b31d2667",
   "metadata": {},
   "outputs": [
    {
     "data": {
      "text/plain": [
       "(4, 40)"
      ]
     },
     "execution_count": 156,
     "metadata": {},
     "output_type": "execute_result"
    }
   ],
   "source": [
    "obj.display()"
   ]
  },
  {
   "cell_type": "markdown",
   "id": "a284ac87",
   "metadata": {},
   "source": [
    "##### 11. What is method overloading, and how is it related to constructors in Python?"
   ]
  },
  {
   "cell_type": "code",
   "execution_count": 162,
   "id": "c31d4470",
   "metadata": {},
   "outputs": [
    {
     "name": "stdout",
     "output_type": "stream",
     "text": [
      "('a', 'c', 'b', 'd')\n",
      "(3, 4, 6, 7, 8)\n",
      "('aryan', 3, 'oops')\n"
     ]
    }
   ],
   "source": [
    "class my_code:\n",
    "    \n",
    "    def __init__(self,*i_n):\n",
    "        self.ins = i_n\n",
    "    \n",
    "    def show_code(self):\n",
    "        print(self.ins)\n",
    "        \n",
    "obj1 = my_code('a','c','b','d')\n",
    "obj2 = my_code(3,4,6,7,8)\n",
    "obj3 = my_code(\"aryan\",3,'oops')\n",
    "\n",
    "obj1.show_code()\n",
    "obj2.show_code()\n",
    "obj3.show_code()"
   ]
  },
  {
   "cell_type": "markdown",
   "id": "1bf866fd",
   "metadata": {},
   "source": [
    "##### 12. Explain the use of the `super()` function in Python constructors. Provide an example."
   ]
  },
  {
   "cell_type": "code",
   "execution_count": 18,
   "id": "bcb04514",
   "metadata": {},
   "outputs": [
    {
     "name": "stdout",
     "output_type": "stream",
     "text": [
      "AI\n",
      "my course is : data science\n",
      "my course is engineering .\n",
      "None\n"
     ]
    }
   ],
   "source": [
    "# super() method is used to call the parent or base class method in the child method class \n",
    "class kanpur_university:\n",
    "    \n",
    "    def __init__(self):\n",
    "        pass\n",
    "        \n",
    "    \n",
    "    def your_course(self,course):\n",
    "        self.course = \"data science\"\n",
    "        print(f\"my course is : {self.course}\")\n",
    "        \n",
    "class uiet(kanpur_university):\n",
    "    def __init__(self,branch):\n",
    "        self.branch = branch \n",
    "        \n",
    "    def your_course(self,btech):\n",
    "        super().your_course(self)\n",
    "        print(\"my course is engineering .\")\n",
    "        \n",
    "obj = uiet(\"AI\")\n",
    "print(obj.branch)\n",
    "print(obj.your_course(\" in artificial intelligence\"))\n",
    "      "
   ]
  },
  {
   "cell_type": "markdown",
   "id": "873b2d4c",
   "metadata": {},
   "source": [
    "##### 13. Create a class called `Book` with a constructor that initializes the `title`, `author`, and `published_year` \n",
    "attributes. Provide a method to display book details"
   ]
  },
  {
   "cell_type": "code",
   "execution_count": 22,
   "id": "71e1a62e",
   "metadata": {},
   "outputs": [
    {
     "name": "stdout",
     "output_type": "stream",
     "text": [
      "the author of the book is :  hk das\n",
      "the publisher of the book is :  ramesh chandra\n",
      "the title of the book is :  Matrix\n",
      "None\n",
      "the author of the book is :  prof.shailesh\n",
      "the publisher of the book is :  mukherjee\n",
      "the title of the book is :  Quantum machanics\n",
      "\n",
      "\n",
      " None\n",
      "the author of the book is :  andy warner\n",
      "the publisher of the book is :  jankson\n",
      "the title of the book is :  parts of machinery \n",
      "\n",
      "\n",
      " None\n",
      "the author of the book is :  ratna sagar\n",
      "the publisher of the book is :  nil\n",
      "the title of the book is :  study of dna\n",
      "\n",
      "\n",
      " None\n"
     ]
    }
   ],
   "source": [
    "class Book:\n",
    "    def __init__(self,title,author,publisher_year):\n",
    "        self.title = title \n",
    "        self.publisher = publisher_year\n",
    "        self.author = author\n",
    "        \n",
    "    def show_info(self):\n",
    "        print(\"the author of the book is : \",self.author)\n",
    "        print(\"the publisher of the book is : \",self.publisher)\n",
    "        print(\"the title of the book is : \",self.title)\n",
    "obj_aryan = Book(\"Matrix\",\"hk das\",'ramesh chandra')\n",
    "obj_ayush = Book(\"Quantum machanics\",\"prof.shailesh\",\"mukherjee\")\n",
    "obj_rahul = Book(\"study of dna\",\"ratna sagar\",\"nil\")\n",
    "obj_neeraj = Book(\"parts of machinery \",\"andy warner\",\"jankson\")\n",
    "print(obj_aryan.show_info())\n",
    "print(\"\\n\\n\",obj_ayush.show_info())\n",
    "print(\"\\n\\n\",obj_neeraj.show_info())\n",
    "print(\"\\n\\n\",obj_rahul.show_info())\n",
    "# none come because in the function output come in nonetypel\n",
    "# if you want to remove none use return except print"
   ]
  },
  {
   "cell_type": "markdown",
   "id": "3e8df92c",
   "metadata": {},
   "source": [
    "##### 14. Discuss the differences between constructors and regular methods in Python classes."
   ]
  },
  {
   "cell_type": "code",
   "execution_count": 24,
   "id": "b0a7f85c",
   "metadata": {},
   "outputs": [
    {
     "name": "stdout",
     "output_type": "stream",
     "text": [
      "80\n"
     ]
    }
   ],
   "source": [
    "class Aryan:\n",
    "    \n",
    "    def __init__(self,x,y):  # constructor initialise the condition\n",
    "        self.x = x \n",
    "        self.y = y\n",
    "        \n",
    "    def add_number(self):\n",
    "        print(self.x+self.y)\n",
    "        \n",
    "obj = Aryan(10,70)\n",
    "result = obj.add_number() # result work as a regular constrctor \n",
    "result"
   ]
  },
  {
   "cell_type": "markdown",
   "id": "e32075c1",
   "metadata": {},
   "source": [
    "##### 15. Explain the role of the `self` parameter in instance variable initialization within a constructor."
   ]
  },
  {
   "cell_type": "code",
   "execution_count": 27,
   "id": "947c598a",
   "metadata": {},
   "outputs": [
    {
     "data": {
      "text/plain": [
       "'he is not able to open the in my bank.'"
      ]
     },
     "execution_count": 27,
     "metadata": {},
     "output_type": "execute_result"
    }
   ],
   "source": [
    "# self parameter is the initilizer of the respective domain class this create the variables and \n",
    "# arguments for the given function \n",
    "class Bank:\n",
    "    \n",
    "    def __init__(self,name,age):\n",
    "        self.name = name\n",
    "        self.age = age\n",
    "        \n",
    "    def eligibility(self):\n",
    "        if self.age>=18:\n",
    "            return \"he is able to open the account in my bank.\"\n",
    "        else:\n",
    "            return \"he is not able to open the in my bank.\"\n",
    "obj = Bank(\"aryan\",17.6)\n",
    "obj.eligibility()\n"
   ]
  },
  {
   "cell_type": "code",
   "execution_count": null,
   "id": "bf2b9263",
   "metadata": {},
   "outputs": [],
   "source": []
  },
  {
   "cell_type": "code",
   "execution_count": null,
   "id": "f5e65911",
   "metadata": {},
   "outputs": [],
   "source": []
  },
  {
   "cell_type": "code",
   "execution_count": null,
   "id": "e4eb0046",
   "metadata": {},
   "outputs": [],
   "source": []
  },
  {
   "cell_type": "code",
   "execution_count": null,
   "id": "1f9ee3ee",
   "metadata": {},
   "outputs": [],
   "source": []
  },
  {
   "cell_type": "code",
   "execution_count": null,
   "id": "0156ea63",
   "metadata": {},
   "outputs": [],
   "source": []
  },
  {
   "cell_type": "code",
   "execution_count": null,
   "id": "600ee8d7",
   "metadata": {},
   "outputs": [],
   "source": []
  },
  {
   "cell_type": "code",
   "execution_count": null,
   "id": "d5db8415",
   "metadata": {},
   "outputs": [],
   "source": []
  },
  {
   "cell_type": "markdown",
   "id": "7278ad09",
   "metadata": {},
   "source": [
    "# Inheritance"
   ]
  },
  {
   "cell_type": "markdown",
   "id": "2113c43d",
   "metadata": {},
   "source": [
    "##### 1. What is inheritance in Python? Explain its significance in object-oriented programmin"
   ]
  },
  {
   "cell_type": "markdown",
   "id": "2e2f7a43",
   "metadata": {},
   "source": [
    " Inheritance is a fundamental feature of object-oriented programming (OOP) in Python that allows a new class (called a subclass or derived class) to inherit properties and behaviors (attributes and methods) from another class (called a base class, parent class, or superclass). This concept forms an \"is-a\" relationship, where the subclass is a specialized version of the superclass."
   ]
  },
  {
   "cell_type": "markdown",
   "id": "787e1ba6",
   "metadata": {},
   "source": [
    "##### 2. Differentiate between single inheritance and multiple inheritance in Python. Provide examples for each."
   ]
  },
  {
   "cell_type": "code",
   "execution_count": 21,
   "id": "2305ffd1",
   "metadata": {},
   "outputs": [
    {
     "name": "stdout",
     "output_type": "stream",
     "text": [
      "this is my single class:   ok\n"
     ]
    }
   ],
   "source": [
    "# in single inheritance the superclass called in the subclass \n",
    "# example\n",
    "class inheritance:\n",
    "    def __init__(self):\n",
    "        pass\n",
    "    def object1(self):\n",
    "        print(\"this is the super class\")\n",
    "    \n",
    "class single_inher(inheritance):\n",
    "    \n",
    "    def object2(self,hostel):\n",
    "        print(\"this is my single class:  \",hostel)\n",
    "        \n",
    "        \n",
    "call = single_inher()\n",
    "call.object2(\"ok\")"
   ]
  },
  {
   "cell_type": "code",
   "execution_count": 2,
   "id": "35cba694",
   "metadata": {},
   "outputs": [],
   "source": [
    "# multiple class  in this base or parent  classes are called in  the sub classes\n",
    "# example\n"
   ]
  },
  {
   "cell_type": "markdown",
   "id": "cab428a8",
   "metadata": {},
   "source": [
    "##### 3. Create a Python class called `Vehicle` with attributes `color` and `speed`. Then, create a child class called \n",
    "`Car` that inherits from `Vehicle` and adds a `brand` attribute. Provide an example of creating a `Car` object"
   ]
  },
  {
   "cell_type": "code",
   "execution_count": 4,
   "id": "616c34fd",
   "metadata": {},
   "outputs": [
    {
     "name": "stdout",
     "output_type": "stream",
     "text": [
      "('the vehicle color is ', 'black')\n",
      "the speed of the is  65 km/hr\n",
      "Brand of my car is  ('maruti suzuki', ('the vehicle color is ', 'pink'), '110')\n"
     ]
    }
   ],
   "source": [
    "class Vehicle:\n",
    "    \n",
    "    def __init__(self):\n",
    "        pass\n",
    "    \n",
    "    def vehicle_color(self,color):\n",
    "        return \"the vehicle color is \",color\n",
    "    \n",
    "    def vehicle_speed(self,speed):\n",
    "        return speed\n",
    "    \n",
    "class Car(Vehicle):\n",
    "     \n",
    "        def __init__(self):\n",
    "            pass\n",
    "        \n",
    "        def my_car_brand(self,brand):\n",
    "            return brand ,self.vehicle_color('pink'),self.vehicle_speed('110')\n",
    "call = Car()\n",
    "print(call.vehicle_color(\"black\"))\n",
    "print(\"the speed of the is \",call.vehicle_speed(65),\"km/hr\")\n",
    "print(\"Brand of my car is \",call.my_car_brand(\"maruti suzuki\"))\n",
    "\n",
    "            \n",
    "        "
   ]
  },
  {
   "cell_type": "markdown",
   "id": "bd63d35f",
   "metadata": {},
   "source": [
    "##### 4. Explain the concept of method overriding in inheritance. Provide a practical example."
   ]
  },
  {
   "cell_type": "code",
   "execution_count": 58,
   "id": "c3127477",
   "metadata": {},
   "outputs": [
    {
     "data": {
      "text/plain": [
       "'print this is class B'"
      ]
     },
     "execution_count": 58,
     "metadata": {},
     "output_type": "execute_result"
    }
   ],
   "source": [
    "#  in the overiding concept the parent class are in called in subclass if the object of the both class\n",
    "# are same the subclass object will executed in the function \n",
    "class my_class:\n",
    "    \n",
    "    def show_result(self):\n",
    "        return \" print  this is class A \"\n",
    "    \n",
    "class other(my_class):\n",
    "    \n",
    "    def show_result(self):\n",
    "        return \"print this is class B\"\n",
    "    \n",
    "call = other()\n",
    "call.show_result() # this is the concept of overiding"
   ]
  },
  {
   "cell_type": "markdown",
   "id": "28960a51",
   "metadata": {},
   "source": [
    "##### 5. How can you access the methods and attributes of a parent class from a child class in Python? Give an \n",
    "example"
   ]
  },
  {
   "cell_type": "code",
   "execution_count": 95,
   "id": "83e0d2d8",
   "metadata": {},
   "outputs": [],
   "source": [
    "# We call the parent class in the child by using the super()\n",
    "class bicycle:\n",
    "    def __init__(self,color):\n",
    "        self.color = color\n",
    "    def show(self):\n",
    "        print(self.color)\n",
    "    \n",
    "class nw_bicycle(bicycle):\n",
    "    def __init__(self,color,price):\n",
    "        super().__init__(color)\n",
    "        self.price = price\n",
    "        \n",
    "    def show_Info(self):\n",
    "        super().show\n",
    "        print(self.price)\n",
    "        \n",
    "call = nw_bicycle(\"red\",8798)\n",
    "        \n",
    "    "
   ]
  },
  {
   "cell_type": "code",
   "execution_count": 96,
   "id": "cfd6ba72",
   "metadata": {},
   "outputs": [
    {
     "name": "stdout",
     "output_type": "stream",
     "text": [
      "red\n"
     ]
    }
   ],
   "source": [
    "call.show()"
   ]
  },
  {
   "cell_type": "code",
   "execution_count": 97,
   "id": "efe4e257",
   "metadata": {},
   "outputs": [
    {
     "name": "stdout",
     "output_type": "stream",
     "text": [
      "8798\n"
     ]
    }
   ],
   "source": [
    "call.show_Info()"
   ]
  },
  {
   "cell_type": "code",
   "execution_count": 98,
   "id": "20e2abae",
   "metadata": {},
   "outputs": [
    {
     "data": {
      "text/plain": [
       "'red'"
      ]
     },
     "execution_count": 98,
     "metadata": {},
     "output_type": "execute_result"
    }
   ],
   "source": [
    "call.color"
   ]
  },
  {
   "cell_type": "markdown",
   "id": "9f8d9a6b",
   "metadata": {},
   "source": [
    "##### 6. Discuss the use of the `super()` 5function in Python inheritance. When and why is it used? Provide an \n",
    "example"
   ]
  },
  {
   "cell_type": "code",
   "execution_count": 3,
   "id": "5fde9593",
   "metadata": {},
   "outputs": [
    {
     "name": "stdout",
     "output_type": "stream",
     "text": [
      "the name of this team is Lucknow Super Jiant and jersey color is Blue.\n",
      "the name of this team is Kanpur Knightrider and jersey color is Red.\n"
     ]
    }
   ],
   "source": [
    "# super() function is used to call the properties of parents class method without writing \n",
    "# full details in it \n",
    "class Cricket_team_1:\n",
    "    \n",
    "    def __init__(self):\n",
    "        pass        \n",
    "    \n",
    "    def get_team_details(self):\n",
    "        jersey1 =\"Blue\"\n",
    "        name1 = \"Lucknow Super Jiant\"\n",
    "        print(f\"the name of this team is {name1} and jersey color is {jersey1}.\")\n",
    "        \n",
    "class Cricket_team_2(Cricket_team_1): # is to relation\n",
    "    \n",
    "    def __init__(self,jersey,name):\n",
    "        self.jersey_color  = jersey\n",
    "        self.name_of_team = name \n",
    "        \n",
    "        \n",
    "    def get_team_details(self):\n",
    "        super().get_team_details() # parents class property\n",
    "        print(f\"the name of this team is {self.name_of_team} and jersey color is {self.jersey_color}.\")\n",
    "\n",
    "\n",
    "team1 = Cricket_team_1()\n",
    "team2 = Cricket_team_2(\"Red\",\"Kanpur Knightrider\")\n",
    "\n",
    "team2.get_team_details()\n",
    "    "
   ]
  },
  {
   "cell_type": "markdown",
   "id": "b9ada516",
   "metadata": {},
   "source": [
    "##### 7. Create a Python class called `Animal` with a method `speak()`. Then, create child classes `Dog` and `Cat` that inherit from `Animal` and override the "
   ]
  },
  {
   "cell_type": "code",
   "execution_count": 4,
   "id": "aa19a82d",
   "metadata": {},
   "outputs": [
    {
     "name": "stdout",
     "output_type": "stream",
     "text": [
      "meow!!\n",
      "bhow.bhow!!!\n"
     ]
    }
   ],
   "source": [
    "class Animal:\n",
    "    \n",
    "    def __init__(self):\n",
    "        pass \n",
    "    def speak(self):\n",
    "        pass\n",
    "    \n",
    "class Dog(Animal):\n",
    "    def __init__(self):\n",
    "        pass \n",
    "    def speak(self):\n",
    "        return \"bhow.bhow!!!\"\n",
    "\n",
    "class Cat(Animal):\n",
    "    \n",
    "    def __init__(self):\n",
    "        pass \n",
    "    \n",
    "    def speak(self):\n",
    "        return \"meow!!\"\n",
    "objD = Dog()\n",
    "objC = Cat()\n",
    "print(objC.speak())\n",
    "print(objD.speak())"
   ]
  },
  {
   "cell_type": "markdown",
   "id": "c3654ea7",
   "metadata": {},
   "source": [
    "##### 8. Explain the role of the `isinstance()` function in Python and how it relates to inheritance"
   ]
  },
  {
   "cell_type": "code",
   "execution_count": 5,
   "id": "f6f24c0b",
   "metadata": {},
   "outputs": [
    {
     "name": "stdout",
     "output_type": "stream",
     "text": [
      "hello \n",
      "this check the condition\n"
     ]
    }
   ],
   "source": [
    "# isinstance check the obj(object) is a part of the class\n",
    "class Demo:\n",
    "    \n",
    "    def __init__(self):\n",
    "        print(\"hello \")\n",
    "\n",
    "class check_isinstance:\n",
    "    \n",
    "    def check(self):\n",
    "        return \"this check the condition\"\n",
    "obj_check = check_isinstance()\n",
    "obj_demo = Demo()\n",
    "\n",
    "print(obj_check.check())"
   ]
  },
  {
   "cell_type": "code",
   "execution_count": 15,
   "id": "a6d8d6e5",
   "metadata": {},
   "outputs": [
    {
     "data": {
      "text/plain": [
       "True"
      ]
     },
     "execution_count": 15,
     "metadata": {},
     "output_type": "execute_result"
    }
   ],
   "source": [
    "isinstance(obj_demo,Demo)"
   ]
  },
  {
   "cell_type": "code",
   "execution_count": 16,
   "id": "03ca3f97",
   "metadata": {},
   "outputs": [
    {
     "data": {
      "text/plain": [
       "False"
      ]
     },
     "execution_count": 16,
     "metadata": {},
     "output_type": "execute_result"
    }
   ],
   "source": [
    "isinstance(obj_check,Demo)"
   ]
  },
  {
   "cell_type": "code",
   "execution_count": 21,
   "id": "06457f77",
   "metadata": {},
   "outputs": [
    {
     "name": "stdout",
     "output_type": "stream",
     "text": [
      "yes this object is instandce of class Check_isinstance.\n"
     ]
    }
   ],
   "source": [
    " if isinstance(obj_check,check_isinstance) == True : \n",
    "    print(\"yes this object is instandce of class Check_isinstance.\")\n",
    "else:\n",
    "    print(\"ok\")"
   ]
  },
  {
   "cell_type": "code",
   "execution_count": 19,
   "id": "c742486e",
   "metadata": {},
   "outputs": [
    {
     "data": {
      "text/plain": [
       "False"
      ]
     },
     "execution_count": 19,
     "metadata": {},
     "output_type": "execute_result"
    }
   ],
   "source": [
    " isinstance(obj_check,Demo)  "
   ]
  },
  {
   "cell_type": "markdown",
   "id": "3c4a8f16",
   "metadata": {},
   "source": [
    "##### 9. What is the purpose of the `issubclass()` function in Python? Provide an example"
   ]
  },
  {
   "cell_type": "code",
   "execution_count": 28,
   "id": "0f212457",
   "metadata": {},
   "outputs": [
    {
     "name": "stdout",
     "output_type": "stream",
     "text": [
      "True\n",
      "False\n"
     ]
    }
   ],
   "source": [
    "class School:\n",
    "    \n",
    "    def get_detail(self):\n",
    "        return \"this is schoole fee is too high \"\n",
    "    \n",
    "    \n",
    "class class_room(School):\n",
    "    \n",
    "    def get_info(self):\n",
    "        return \"fifty student come on the class\"\n",
    "    \n",
    "obj_school = School()\n",
    "obj_class = class_room()\n",
    "    \n",
    "print(issubclass(class_room,School))  # here class_room is a sub class School \n",
    "\n",
    "print(issubclass(School,class_room)) # here School is not a sub class of class_room"
   ]
  },
  {
   "cell_type": "markdown",
   "id": "07fa09a5",
   "metadata": {},
   "source": [
    "##### 10. Discuss the concept of constructor inheritance in Python. How are constructors inherited in child classes?"
   ]
  },
  {
   "cell_type": "code",
   "execution_count": 64,
   "id": "79ade667",
   "metadata": {},
   "outputs": [
    {
     "name": "stdout",
     "output_type": "stream",
     "text": [
      "Noida indor\n"
     ]
    }
   ],
   "source": [
    "class India:\n",
    "    \n",
    "    def __init__(self,city_1,city_2):\n",
    "        self.city_1 = city_1\n",
    "        self.city_2 = city_2\n",
    "        \n",
    "class state(India):\n",
    "    \n",
    "    def __init__(self,city_1,city_2,city_3,city_4):\n",
    "        super().__init__(city_1,city_2)\n",
    "        self.city_3 = city_3\n",
    "        self.city_4 = city_4\n",
    "        \n",
    "    def Get_detail(self):\n",
    "        print(self.city_4,self.city_1)\n",
    "obj1 = India(\"Lucknow\",\"Kanpur\")\n",
    "obj2 = state(\"indor\",\"Gawlior\",\"nagpur\",\"Noida\")\n",
    "obj2.Get_detail()"
   ]
  },
  {
   "cell_type": "markdown",
   "id": "2a8c1256",
   "metadata": {},
   "source": [
    "##### 12. Explain the use of abstract base classes (ABCs) in Python and how they relate to inheritance. Provide an \n",
    "example using the `abc` module"
   ]
  },
  {
   "cell_type": "code",
   "execution_count": 38,
   "id": "7088057c",
   "metadata": {},
   "outputs": [
    {
     "name": "stdout",
     "output_type": "stream",
     "text": [
      " id number is csjma23001394281\n"
     ]
    },
    {
     "data": {
      "text/plain": [
       "('my id is verified ', 'thanks sir.')"
      ]
     },
     "execution_count": 38,
     "metadata": {},
     "output_type": "execute_result"
    }
   ],
   "source": [
    "from abc import ABC ,abstractmethod\n",
    "class Exam_hall(ABC):\n",
    "    \n",
    "    def __init__(self):\n",
    "        pass\n",
    "    \n",
    "    @abstractmethod\n",
    "    def show_id(self):\n",
    "        pass\n",
    "    \n",
    "class Student(Exam_hall):\n",
    "    \n",
    "    def __init__(self,greet):\n",
    "        self.greet = greet\n",
    "        \n",
    "    def show_id(self):\n",
    "        return \" id number is csjma23001394281\"\n",
    "        \n",
    "    def id_verified(self):\n",
    "        return \"my id is verified \",self.greet\n",
    "        \n",
    "obj = Student(\"thanks sir.\")\n",
    "print(obj.show_id())\n",
    "obj.id_verified()\n",
    "    "
   ]
  },
  {
   "cell_type": "markdown",
   "id": "cc3cd50f",
   "metadata": {},
   "source": [
    "##### 13. How can you prevent a child class from modifying certain attributes or methods inherited from a parent \n",
    "class in Python"
   ]
  },
  {
   "cell_type": "code",
   "execution_count": 60,
   "id": "286e6875",
   "metadata": {},
   "outputs": [
    {
     "name": "stdout",
     "output_type": "stream",
     "text": [
      "26\n",
      "26\n",
      "this class is protected \n"
     ]
    }
   ],
   "source": [
    " # using the  protected way to modifying the attribute and methods \n",
    "class Parent: \n",
    "    def __init__(self):\n",
    "        self._value = 26\n",
    "        \n",
    "    def _protected(self):\n",
    "        print(\"this class is protected \")\n",
    "        \n",
    "class child(Parent):\n",
    "            \n",
    "    def show_modify_info(self):\n",
    "#         self._value = 5\n",
    "        \n",
    "        self._protected()\n",
    "obj_parent = Parent()\n",
    "obj_child = child()\n",
    "print(obj_parent._value)\n",
    "print(obj_parent._value)\n",
    "obj_child.show_modify_info()"
   ]
  },
  {
   "cell_type": "code",
   "execution_count": 52,
   "id": "54a83a70",
   "metadata": {},
   "outputs": [
    {
     "name": "stdout",
     "output_type": "stream",
     "text": [
      "42\n",
      "This is a protected method.\n",
      "This is a protected method.\n"
     ]
    }
   ],
   "source": [
    "class Parent:\n",
    "    def __init__(self):\n",
    "        self._protected_attribute = 42\n",
    "\n",
    "    def _protected_method(self):\n",
    "        print(\"This is a protected method.\")\n",
    "\n",
    "class Child(Parent):\n",
    "    def modify_protected(self):\n",
    "        # Attempt to modify the protected attribute\n",
    "        self._protected_attribute = 99\n",
    "\n",
    "        # Attempt to call the protected method\n",
    "        self._protected_method()\n",
    "\n",
    "# Example usage\n",
    "parent_instance = Parent()\n",
    "child_instance = Child()\n",
    "\n",
    "print(parent_instance._protected_attribute)  # Accessing is allowed\n",
    "parent_instance._protected_method()           # Accessing is allowed\n",
    "\n",
    "child_instance.modify_protected()  # Trying to modify and call in the child class\n"
   ]
  },
  {
   "cell_type": "markdown",
   "id": "75e7571e",
   "metadata": {},
   "source": [
    "##### 14. Create a Python class called `Employee` with attributes `name` and `salary`. Then, create a child class \n",
    "`Manager` that inherits from `Employee` and adds an attribute `department`. Provide an example"
   ]
  },
  {
   "cell_type": "code",
   "execution_count": 155,
   "id": "8f244553",
   "metadata": {},
   "outputs": [
    {
     "name": "stdout",
     "output_type": "stream",
     "text": [
      "prince 90000\n"
     ]
    },
    {
     "data": {
      "text/plain": [
       "'marketing'"
      ]
     },
     "execution_count": 155,
     "metadata": {},
     "output_type": "execute_result"
    }
   ],
   "source": [
    "class Employee:\n",
    "    \n",
    "    def __init__(self,name,salary) :\n",
    "        self.name = name \n",
    "        self.salary = salary\n",
    "           \n",
    "    def display_info(self):\n",
    "        self.name = \"prince\"\n",
    "        self.salary = 90000\n",
    "        print(self.name,self.salary)\n",
    "           \n",
    "        \n",
    "class Manager(Employee):\n",
    "    \n",
    "    def __init__(self,name,salary,department):\n",
    "        self.department = department\n",
    "        self.name = name \n",
    "        self.salary = salary\n",
    "\n",
    "    def display_info(self):\n",
    "        super().display_info()\n",
    "        return self.department \n",
    "    \n",
    "    \n",
    "obj_employee = Employee(\"aryan\",80000)\n",
    "obj_Manager = Manager(\"sumit\",95000,\"marketing\")\n",
    "\n",
    "obj_Manager.display_info()\n"
   ]
  },
  {
   "cell_type": "code",
   "execution_count": 122,
   "id": "aec3c25f",
   "metadata": {},
   "outputs": [
    {
     "name": "stdout",
     "output_type": "stream",
     "text": [
      "Generic animal sound\n",
      "Woof! Woof!\n"
     ]
    }
   ],
   "source": [
    "class Animal:\n",
    "    def make_sound(self):\n",
    "        print(\"Generic animal sound\")\n",
    "\n",
    "class Dog(Animal):\n",
    "    def make_sound(self):\n",
    "        # Call the make_sound method from the parent class using super()\n",
    "        super().make_sound()\n",
    "        print(\"Woof! Woof!\")\n",
    "\n",
    "# Example usage\n",
    "dog_instance = Dog()\n",
    "dog_instance.make_sound()\n"
   ]
  },
  {
   "cell_type": "markdown",
   "id": "8f2c08fd",
   "metadata": {},
   "source": [
    "##### 15. Discuss the concept of method overloading in Python inheritance. How does it differ from method \n",
    "overriding?"
   ]
  },
  {
   "cell_type": "code",
   "execution_count": null,
   "id": "11a8123d",
   "metadata": {},
   "outputs": [],
   "source": []
  },
  {
   "cell_type": "code",
   "execution_count": null,
   "id": "59ccd810",
   "metadata": {},
   "outputs": [],
   "source": []
  },
  {
   "cell_type": "markdown",
   "id": "4f72077d",
   "metadata": {},
   "source": [
    "# encapsulation"
   ]
  },
  {
   "cell_type": "markdown",
   "id": "130ba55d",
   "metadata": {},
   "source": [
    "##### 1. Explain the concept of encapsulation in Python. What is its role in object-oriented programming?"
   ]
  },
  {
   "cell_type": "raw",
   "id": "5e298ada",
   "metadata": {},
   "source": [
    "Data Hiding: Encapsulation allows the internal representation of an object to be hidden from the outside. This means that the internal state of an object can't be directly accessed or modified by code outside the class.\n",
    "\n",
    "Access Control: Encapsulation also provides control over the access to the data. By using access modifiers such as public, private, and protected, you can determine which parts of the class are accessible from outside the class.\n",
    "\n",
    "1= Public: Methods and attributes that are accessible from outside the class.\n",
    "2 =Private: Methods and attributes that are accessible only from within the class. In Python, private attributes are denoted by using a double underscore __ prefix.\n",
    "Protected: Methods and attributes that are accessible within the class and its subclasses."
   ]
  },
  {
   "cell_type": "code",
   "execution_count": 5,
   "id": "785951de",
   "metadata": {},
   "outputs": [
    {
     "data": {
      "text/plain": [
       "'subji'"
      ]
     },
     "execution_count": 5,
     "metadata": {},
     "output_type": "execute_result"
    }
   ],
   "source": [
    "#  for  example\n",
    "class mess:\n",
    "    \n",
    "    def __init__(self,food,drinks):\n",
    "        self._food = food #         this is protected member \n",
    "        self.__drinks = drinks   # private member this will not be call in another sub class\n",
    "        \n",
    "    def data(self):\n",
    "        return self._food\n",
    "    def __sweets(self,sweet):\n",
    "        return sweet\n",
    "    def display(self):\n",
    "        return self.__drinks\n",
    "    \n",
    "    \n",
    "call = mess(\"subji\",\"milk\")\n",
    "call._food\n"
   ]
  },
  {
   "cell_type": "code",
   "execution_count": 7,
   "id": "bf176c32",
   "metadata": {},
   "outputs": [
    {
     "ename": "AttributeError",
     "evalue": "'mess' object has no attribute '__drinks'",
     "output_type": "error",
     "traceback": [
      "\u001b[1;31m---------------------------------------------------------------------------\u001b[0m",
      "\u001b[1;31mAttributeError\u001b[0m                            Traceback (most recent call last)",
      "Cell \u001b[1;32mIn[7], line 1\u001b[0m\n\u001b[1;32m----> 1\u001b[0m call\u001b[38;5;241m.\u001b[39m__drinks\n",
      "\u001b[1;31mAttributeError\u001b[0m: 'mess' object has no attribute '__drinks'"
     ]
    }
   ],
   "source": [
    "call.__drinks # this is private data "
   ]
  },
  {
   "cell_type": "code",
   "execution_count": 18,
   "id": "4ad167ea",
   "metadata": {},
   "outputs": [
    {
     "name": "stdout",
     "output_type": "stream",
     "text": [
      "milk\n",
      "milk\n"
     ]
    }
   ],
   "source": [
    "print(call.display())\n",
    "print(call._mess__drinks)"
   ]
  },
  {
   "cell_type": "code",
   "execution_count": 20,
   "id": "58c5e6d1",
   "metadata": {},
   "outputs": [
    {
     "data": {
      "text/plain": [
       "'jalebi'"
      ]
     },
     "execution_count": 20,
     "metadata": {},
     "output_type": "execute_result"
    }
   ],
   "source": [
    "call._mess__sweets(\"jalebi\")"
   ]
  },
  {
   "cell_type": "code",
   "execution_count": 21,
   "id": "ef8cab7a",
   "metadata": {},
   "outputs": [
    {
     "ename": "AttributeError",
     "evalue": "'mess' object has no attribute '__sweets'",
     "output_type": "error",
     "traceback": [
      "\u001b[1;31m---------------------------------------------------------------------------\u001b[0m",
      "\u001b[1;31mAttributeError\u001b[0m                            Traceback (most recent call last)",
      "Cell \u001b[1;32mIn[21], line 1\u001b[0m\n\u001b[1;32m----> 1\u001b[0m call\u001b[38;5;241m.\u001b[39m__sweets()\n",
      "\u001b[1;31mAttributeError\u001b[0m: 'mess' object has no attribute '__sweets'"
     ]
    }
   ],
   "source": [
    "call.__sweets()"
   ]
  },
  {
   "cell_type": "code",
   "execution_count": 14,
   "id": "c6dd5867",
   "metadata": {},
   "outputs": [
    {
     "ename": "AttributeError",
     "evalue": "'mess' object has no attribute '__drinks'",
     "output_type": "error",
     "traceback": [
      "\u001b[1;31m---------------------------------------------------------------------------\u001b[0m",
      "\u001b[1;31mAttributeError\u001b[0m                            Traceback (most recent call last)",
      "Cell \u001b[1;32mIn[14], line 1\u001b[0m\n\u001b[1;32m----> 1\u001b[0m call\u001b[38;5;241m.\u001b[39m__drinks\n",
      "\u001b[1;31mAttributeError\u001b[0m: 'mess' object has no attribute '__drinks'"
     ]
    }
   ],
   "source": [
    "call.__drinks"
   ]
  },
  {
   "cell_type": "code",
   "execution_count": 51,
   "id": "9adf00aa",
   "metadata": {},
   "outputs": [],
   "source": [
    "#  for  example\n",
    "class mess:\n",
    "    \n",
    "    def __init__(self,food,drinks):\n",
    "        self._food = food #         this is protected member \n",
    "        self.__drinks = drinks   # private member this will not be call in another sub class\n",
    "        \n",
    "    def data(self):\n",
    "        return self._food\n",
    "    def __sweets(self,sweet):\n",
    "        return sweet\n",
    "    def display(self):\n",
    "        return self.__drinks\n",
    "class swarn(mess):\n",
    "    \n",
    "    def calling(self):\n",
    "        return self._food\n",
    "    \n",
    "    def new_hostel(self): # this is only call by parent class or base class\n",
    "        return  self.__drinks\n",
    "        "
   ]
  },
  {
   "cell_type": "code",
   "execution_count": 52,
   "id": "c8dc6be0",
   "metadata": {},
   "outputs": [],
   "source": [
    "call = swarn(\"soup\",\"coldrinks\")"
   ]
  },
  {
   "cell_type": "code",
   "execution_count": 53,
   "id": "19052bdd",
   "metadata": {},
   "outputs": [
    {
     "ename": "AttributeError",
     "evalue": "'swarn' object has no attribute '_swarn__drinks'",
     "output_type": "error",
     "traceback": [
      "\u001b[1;31m---------------------------------------------------------------------------\u001b[0m",
      "\u001b[1;31mAttributeError\u001b[0m                            Traceback (most recent call last)",
      "Cell \u001b[1;32mIn[53], line 1\u001b[0m\n\u001b[1;32m----> 1\u001b[0m call\u001b[38;5;241m.\u001b[39mnew_hostel()\n",
      "Cell \u001b[1;32mIn[51], line 20\u001b[0m, in \u001b[0;36mswarn.new_hostel\u001b[1;34m(self)\u001b[0m\n\u001b[0;32m     19\u001b[0m \u001b[38;5;28;01mdef\u001b[39;00m \u001b[38;5;21mnew_hostel\u001b[39m(\u001b[38;5;28mself\u001b[39m): \u001b[38;5;66;03m# this is only call by parent class or base class\u001b[39;00m\n\u001b[1;32m---> 20\u001b[0m     \u001b[38;5;28;01mreturn\u001b[39;00m  \u001b[38;5;28mself\u001b[39m\u001b[38;5;241m.\u001b[39m__drinks\n",
      "\u001b[1;31mAttributeError\u001b[0m: 'swarn' object has no attribute '_swarn__drinks'"
     ]
    }
   ],
   "source": [
    "call.new_hostel()"
   ]
  },
  {
   "cell_type": "code",
   "execution_count": 54,
   "id": "72e0cddd",
   "metadata": {},
   "outputs": [
    {
     "data": {
      "text/plain": [
       "'soup'"
      ]
     },
     "execution_count": 54,
     "metadata": {},
     "output_type": "execute_result"
    }
   ],
   "source": [
    "call.calling()"
   ]
  },
  {
   "cell_type": "code",
   "execution_count": 58,
   "id": "8241aa8c",
   "metadata": {},
   "outputs": [
    {
     "data": {
      "text/plain": [
       "'coldrinks'"
      ]
     },
     "execution_count": 58,
     "metadata": {},
     "output_type": "execute_result"
    }
   ],
   "source": [
    "call._mess__drinks"
   ]
  },
  {
   "cell_type": "markdown",
   "id": "ee50e98b",
   "metadata": {},
   "source": [
    "##### 2. Describe the key principles of encapsulation, including access control and data hiding."
   ]
  },
  {
   "cell_type": "code",
   "execution_count": 70,
   "id": "c7b911f0",
   "metadata": {},
   "outputs": [],
   "source": [
    "# !jt -r"
   ]
  },
  {
   "cell_type": "code",
   "execution_count": 79,
   "id": "fbcc6c4f",
   "metadata": {},
   "outputs": [],
   "source": [
    "# !jt -l\n",
    "# "
   ]
  },
  {
   "cell_type": "code",
   "execution_count": 80,
   "id": "559fe898",
   "metadata": {},
   "outputs": [],
   "source": [
    "# !jt -t onedork"
   ]
  },
  {
   "cell_type": "raw",
   "id": "a5b66f66",
   "metadata": {},
   "source": [
    "In access control the given information of the data can be hide from unauthorized sub class or any \n",
    "other class  we can only accessible in only that class using the manupualtion \n",
    "\n",
    "using getter and setter method to hiding thee data "
   ]
  },
  {
   "cell_type": "markdown",
   "id": "120830f7",
   "metadata": {},
   "source": [
    "##### 3. How can you achieve encapsulation in Python classes? Provide an example"
   ]
  },
  {
   "cell_type": "code",
   "execution_count": 111,
   "id": "159ad4f0",
   "metadata": {},
   "outputs": [],
   "source": [
    "class AI:\n",
    "    \n",
    "    def __init__(self,result,grade):\n",
    "        \n",
    "        self._result = result\n",
    "        self.__my_grade = grade\n",
    "        \n",
    "    def roll_no(self,roll):\n",
    "        return roll ,self.__my_grade\n",
    "\n",
    "    def __display_info(self):\n",
    "        return self._result,self.__my_grade  \n",
    "\n",
    "class mechanical(AI):\n",
    "    \n",
    "    def see_info(self):\n",
    "        return self.__display_info()\n",
    "    def wants(self):\n",
    "        return self.__my_grade\n",
    "call = mechanical(\"aryan\",\"94 and A\")"
   ]
  },
  {
   "cell_type": "code",
   "execution_count": 112,
   "id": "0ac78265",
   "metadata": {},
   "outputs": [
    {
     "data": {
      "text/plain": [
       "('4127', '94 and A')"
      ]
     },
     "execution_count": 112,
     "metadata": {},
     "output_type": "execute_result"
    }
   ],
   "source": [
    "call.roll_no(\"4127\")"
   ]
  },
  {
   "cell_type": "code",
   "execution_count": 113,
   "id": "b0b2807d",
   "metadata": {},
   "outputs": [
    {
     "data": {
      "text/plain": [
       "'94 and A'"
      ]
     },
     "execution_count": 113,
     "metadata": {},
     "output_type": "execute_result"
    }
   ],
   "source": [
    "call._AI__my_grade"
   ]
  },
  {
   "cell_type": "code",
   "execution_count": 116,
   "id": "3e916f50",
   "metadata": {},
   "outputs": [
    {
     "data": {
      "text/plain": [
       "('aryan', '94 and A')"
      ]
     },
     "execution_count": 116,
     "metadata": {},
     "output_type": "execute_result"
    }
   ],
   "source": [
    "call._AI__display_info()"
   ]
  },
  {
   "cell_type": "code",
   "execution_count": 115,
   "id": "8151968b",
   "metadata": {},
   "outputs": [
    {
     "ename": "AttributeError",
     "evalue": "'mechanical' object has no attribute '_mechanical__display_info'",
     "output_type": "error",
     "traceback": [
      "\u001b[1;31m---------------------------------------------------------------------------\u001b[0m",
      "\u001b[1;31mAttributeError\u001b[0m                            Traceback (most recent call last)",
      "Cell \u001b[1;32mIn[115], line 1\u001b[0m\n\u001b[1;32m----> 1\u001b[0m call\u001b[38;5;241m.\u001b[39msee_info()\n",
      "Cell \u001b[1;32mIn[111], line 17\u001b[0m, in \u001b[0;36mmechanical.see_info\u001b[1;34m(self)\u001b[0m\n\u001b[0;32m     16\u001b[0m \u001b[38;5;28;01mdef\u001b[39;00m \u001b[38;5;21msee_info\u001b[39m(\u001b[38;5;28mself\u001b[39m):\n\u001b[1;32m---> 17\u001b[0m     \u001b[38;5;28;01mreturn\u001b[39;00m \u001b[38;5;28mself\u001b[39m\u001b[38;5;241m.\u001b[39m__display_info()\n",
      "\u001b[1;31mAttributeError\u001b[0m: 'mechanical' object has no attribute '_mechanical__display_info'"
     ]
    }
   ],
   "source": [
    "call.see_info()"
   ]
  },
  {
   "cell_type": "code",
   "execution_count": 110,
   "id": "bb8d5d9d",
   "metadata": {},
   "outputs": [
    {
     "ename": "AttributeError",
     "evalue": "'mechanical' object has no attribute '_mechanical__my_grade'",
     "output_type": "error",
     "traceback": [
      "\u001b[1;31m---------------------------------------------------------------------------\u001b[0m",
      "\u001b[1;31mAttributeError\u001b[0m                            Traceback (most recent call last)",
      "Cell \u001b[1;32mIn[110], line 1\u001b[0m\n\u001b[1;32m----> 1\u001b[0m call\u001b[38;5;241m.\u001b[39mwants()\n",
      "Cell \u001b[1;32mIn[100], line 19\u001b[0m, in \u001b[0;36mmechanical.wants\u001b[1;34m(self)\u001b[0m\n\u001b[0;32m     18\u001b[0m \u001b[38;5;28;01mdef\u001b[39;00m \u001b[38;5;21mwants\u001b[39m(\u001b[38;5;28mself\u001b[39m):\n\u001b[1;32m---> 19\u001b[0m     \u001b[38;5;28;01mreturn\u001b[39;00m \u001b[38;5;28mself\u001b[39m\u001b[38;5;241m.\u001b[39m__my_grade\n",
      "\u001b[1;31mAttributeError\u001b[0m: 'mechanical' object has no attribute '_mechanical__my_grade'"
     ]
    }
   ],
   "source": [
    "call.wants()"
   ]
  },
  {
   "cell_type": "markdown",
   "id": "ff4ff86d",
   "metadata": {},
   "source": [
    "##### 4. Discuss the difference between public, private, and protected access modifiers in Python`5"
   ]
  },
  {
   "cell_type": "code",
   "execution_count": 5,
   "id": "fa247f6d",
   "metadata": {},
   "outputs": [
    {
     "data": {
      "text/plain": [
       "('aryan', 4, 'csjma')"
      ]
     },
     "execution_count": 5,
     "metadata": {},
     "output_type": "execute_result"
    }
   ],
   "source": [
    "class my_class: \n",
    "    def __init__(self,name,clas,roll):\n",
    "        self.my_name = name\n",
    "        self._mycls = clas\n",
    "        self.__myroll = roll\n",
    "        \n",
    "    def display(self):\n",
    "        return self.my_name , self._mycls , self.__myroll\n",
    "class other_class(my_class):\n",
    "    def show_info(self):\n",
    "        return self.__myroll\n",
    "    \n",
    "call = my_class(\"aryan\",4,\"csjma\")\n",
    "call.display()"
   ]
  },
  {
   "cell_type": "markdown",
   "id": "52719bf5",
   "metadata": {},
   "source": [
    "##### 5. Create a Python class called `Person` with a private attribute `__name`. Provide methods to get and set the \n",
    "name attribute"
   ]
  },
  {
   "cell_type": "code",
   "execution_count": 13,
   "id": "4d45f5db",
   "metadata": {},
   "outputs": [],
   "source": [
    "class Person: \n",
    "     \n",
    "    def __init__(self,name,surname):\n",
    "        self.__name = name\n",
    "        self.surname = surname\n",
    "        \n",
    "    def dispaly(self):\n",
    "        return self.__name\n",
    "    \n",
    "    def __dis(self):\n",
    "        return self.surname\n",
    "\n",
    "call = Person(\"Aryan\",\"yadav\")"
   ]
  },
  {
   "cell_type": "code",
   "execution_count": 14,
   "id": "4c1329e3",
   "metadata": {},
   "outputs": [
    {
     "data": {
      "text/plain": [
       "'Aryan'"
      ]
     },
     "execution_count": 14,
     "metadata": {},
     "output_type": "execute_result"
    }
   ],
   "source": [
    "call.dispaly()"
   ]
  },
  {
   "cell_type": "code",
   "execution_count": 15,
   "id": "fa2b2843",
   "metadata": {},
   "outputs": [
    {
     "data": {
      "text/plain": [
       "'yadav'"
      ]
     },
     "execution_count": 15,
     "metadata": {},
     "output_type": "execute_result"
    }
   ],
   "source": [
    "call._Person__dis()"
   ]
  },
  {
   "cell_type": "markdown",
   "id": "34173ae1",
   "metadata": {},
   "source": [
    "##### 6. Explain the purpose of getter and setter methods in encapsulation. Provide examples."
   ]
  },
  {
   "cell_type": "code",
   "execution_count": 44,
   "id": "5e25f7bf",
   "metadata": {},
   "outputs": [
    {
     "name": "stdout",
     "output_type": "stream",
     "text": [
      "tang\n",
      "yes it is working\n"
     ]
    }
   ],
   "source": [
    "class Aryan :\n",
    "    __name = \"tang\"\n",
    "    def __init__(self):\n",
    "        print(self.__name)\n",
    "        self.__display() # here we call the private method\n",
    "        \n",
    "    def __display(self):\n",
    "        print(\"yes it is working\")\n",
    "call = Aryan()\n"
   ]
  },
  {
   "cell_type": "code",
   "execution_count": 28,
   "id": "016b4cf4",
   "metadata": {},
   "outputs": [
    {
     "data": {
      "text/plain": [
       "'mumbai'"
      ]
     },
     "execution_count": 28,
     "metadata": {},
     "output_type": "execute_result"
    }
   ],
   "source": [
    "class uiet:\n",
    "    \n",
    "    def place(self,value):       # it works as a setter \n",
    "        self.__place = value\n",
    "        \n",
    "    def get_result(self,): # this works as a getter we can set the value and get the value\n",
    "         return self.__place\n",
    "        \n",
    "call=uiet()\n",
    "call.place(\"mumbai\") # value is setted mumbai\n",
    "call.get_result()"
   ]
  },
  {
   "cell_type": "code",
   "execution_count": 30,
   "id": "f0ca1a1a",
   "metadata": {},
   "outputs": [
    {
     "data": {
      "text/plain": [
       "'gujrat'"
      ]
     },
     "execution_count": 30,
     "metadata": {},
     "output_type": "execute_result"
    }
   ],
   "source": [
    "call.place(\"gujrat\")  # here i set the value\n",
    "call.get_result() # and here getting the value\n",
    "\n"
   ]
  },
  {
   "cell_type": "markdown",
   "id": "eee506b9",
   "metadata": {},
   "source": [
    "##### 7. What is name mangling in Python, and how does it affect encapsulation?"
   ]
  },
  {
   "cell_type": "markdown",
   "id": "9592a66b",
   "metadata": {},
   "source": [
    " name mangling in Python is a technique to make the names of attributes more unique, reducing the likelihood of accidental name clashes. While it doesn't provide strict encapsulation or access control, it encourages good practices by signaling that certain attributes are intended to be private and should be accessed through appropriate methods."
   ]
  },
  {
   "cell_type": "code",
   "execution_count": 159,
   "id": "f1275dc7",
   "metadata": {},
   "outputs": [
    {
     "data": {
      "text/plain": [
       "'aryan'"
      ]
     },
     "execution_count": 159,
     "metadata": {},
     "output_type": "execute_result"
    }
   ],
   "source": [
    "class Python: \n",
    "    \n",
    "    def __init__(self,name):\n",
    "        self.__private_name = name\n",
    "        \n",
    "    def private_data(self):\n",
    "        print(\"mangling in python\")\n",
    "obj = Python(\"aryan\")\n",
    "obj._Python__private_name\n"
   ]
  },
  {
   "cell_type": "markdown",
   "id": "e803f549",
   "metadata": {},
   "source": [
    "##### 8. Create a Python class called `BankAccount` with private attributes for the account balance (`__balance`) and account number (`__account_number`). Provide methods for depositing"
   ]
  },
  {
   "cell_type": "code",
   "execution_count": 26,
   "id": "c917fc1f",
   "metadata": {},
   "outputs": [
    {
     "name": "stdout",
     "output_type": "stream",
     "text": [
      "0\n"
     ]
    }
   ],
   "source": [
    "class BankAccount : \n",
    "    \n",
    "    def __init__(self,account_num,balance=0):\n",
    "    \n",
    "        self.__balance = balance\n",
    "        self.__account_number = account_num\n",
    "        \n",
    "    def current_status(self):\n",
    "         return self.__balance\n",
    "        \n",
    "    def deposite(self,amount):\n",
    "         \n",
    "            if self.__balance>0:\n",
    "                self.__balance += amount\n",
    "                print(\"your account number  is :  \",self.__account_number,\"\\n\\nand current amount is : \",self.__balance)\n",
    "            else:\n",
    "                print(\"you have not enough balance\")\n",
    "\n",
    "obj = BankAccount(489261)\n",
    "print(obj._BankAccount__balance)"
   ]
  },
  {
   "cell_type": "code",
   "execution_count": 27,
   "id": "a3429439",
   "metadata": {},
   "outputs": [
    {
     "data": {
      "text/plain": [
       "2300"
      ]
     },
     "execution_count": 27,
     "metadata": {},
     "output_type": "execute_result"
    }
   ],
   "source": [
    "obj2 = BankAccount(981546871,2300)\n",
    "obj2._BankAccount__balance"
   ]
  },
  {
   "cell_type": "code",
   "execution_count": 28,
   "id": "e1a0f5c4",
   "metadata": {},
   "outputs": [
    {
     "name": "stdout",
     "output_type": "stream",
     "text": [
      "your account number  is :   981546871 \n",
      "\n",
      "and current amount is :  47300\n"
     ]
    }
   ],
   "source": [
    "obj2.deposite(45000)"
   ]
  },
  {
   "cell_type": "markdown",
   "id": "596991df",
   "metadata": {},
   "source": [
    "##### 9. Discuss the advantages of encapsulation in terms of code maintainability and security."
   ]
  },
  {
   "cell_type": "markdown",
   "id": "c261f11a",
   "metadata": {},
   "source": [
    "encapsulation is a key principle in OOP that brings benefits in terms of code organization, maintainability, security, and flexibility. It enables developers to create robust, modular, and secure systems by controlling access to data and implementation details\n"
   ]
  },
  {
   "cell_type": "markdown",
   "id": "556b0644",
   "metadata": {},
   "source": [
    "##### 10. How can you access private attributes in Python? Provide an example demonstrating the use of name \n",
    "manglin"
   ]
  },
  {
   "cell_type": "code",
   "execution_count": 3,
   "id": "fbcb0e67",
   "metadata": {},
   "outputs": [
    {
     "name": "stdout",
     "output_type": "stream",
     "text": [
      "23223033\n"
     ]
    }
   ],
   "source": [
    "class Myclass:\n",
    "    \n",
    "    def __init__(self,rollno):\n",
    "        self.__rollno = rollno\n",
    "        \n",
    "    def Get_attribute_rollno(self):\n",
    "        return self.__rollno\n",
    "\n",
    "    \n",
    "obj = Myclass(23223033)\n",
    "\n",
    "print(obj.Get_attribute_rollno())"
   ]
  },
  {
   "cell_type": "markdown",
   "id": "01311a80",
   "metadata": {},
   "source": [
    "##### 11. Create a Python class hierarchy for a school system, including classes for students, teachers, and courses, \n",
    "and implement encapsulation principles to protect sensitive information"
   ]
  },
  {
   "cell_type": "code",
   "execution_count": 90,
   "id": "8d930c65",
   "metadata": {},
   "outputs": [
    {
     "name": "stdout",
     "output_type": "stream",
     "text": [
      "('the student name and details are ', 'Aryan', 'phone_no_78665')\n",
      "the class info is  aryan\n",
      "None\n",
      "phone_no_780026\n"
     ]
    }
   ],
   "source": [
    "class school_system:\n",
    "    \n",
    "    def __init__(self):\n",
    "        self.stu_name = \"aryan\"\n",
    "        self._teacher_name = \"dksir\"\n",
    "        self.course =  \"btech\"\n",
    "        self.__stu_details = \"phone_no_780026\"\n",
    "    \n",
    "    def get_info(self):\n",
    "        return \"the student name and details are \" , self.stu_name ,self.__stu_details\n",
    "\n",
    "class class12(school_system):\n",
    "    \n",
    "    def get_info(self):\n",
    "        print(\"the class info is \",self.stu_name)\n",
    "    \n",
    "    def show_stu_info(self):\n",
    "        \n",
    "        return \"the student info is \",self.__stud_detials\n",
    "\n",
    "obj_2 = class12()\n",
    "print(obj_1.get_info())\n",
    "print(obj_2.get_info())\n",
    "print(obj_2._school_system__stu_details)\n"
   ]
  },
  {
   "cell_type": "markdown",
   "id": "036083fe",
   "metadata": {},
   "source": [
    "##### 12. Explain the concept of property decorators in Python and how they relate to encapsulation"
   ]
  },
  {
   "cell_type": "code",
   "execution_count": 121,
   "id": "b615dff7",
   "metadata": {},
   "outputs": [
    {
     "name": "stdout",
     "output_type": "stream",
     "text": [
      "lucknow is my native place\n",
      "I am aryan yadav\n"
     ]
    },
    {
     "data": {
      "text/plain": [
       "'hooney'"
      ]
     },
     "execution_count": 121,
     "metadata": {},
     "output_type": "execute_result"
    }
   ],
   "source": [
    "def Mycountry(func):\n",
    "    def Mycity():\n",
    "        print(\"lucknow is my native place\")\n",
    "        func()\n",
    "        return \"hooney\"\n",
    "    return Mycity\n",
    "\n",
    "@Mycountry\n",
    "def myInfo():\n",
    "    print(\"I am aryan yadav\")\n",
    "myInfo()\n",
    "\n"
   ]
  },
  {
   "cell_type": "markdown",
   "id": "594c073f",
   "metadata": {},
   "source": [
    "##### 13. What is data hiding, and why is it important in encapsulation? Provide examples."
   ]
  },
  {
   "cell_type": "code",
   "execution_count": 126,
   "id": "7506b547",
   "metadata": {},
   "outputs": [
    {
     "name": "stdout",
     "output_type": "stream",
     "text": [
      "i have done this \n"
     ]
    },
    {
     "data": {
      "text/plain": [
       "'i am seem your data'"
      ]
     },
     "execution_count": 126,
     "metadata": {},
     "output_type": "execute_result"
    }
   ],
   "source": [
    "# data hiding concept arise in the  \n",
    "#  by the convence of this no one will see the method of the parent class\n",
    "# using by subclass\n",
    "from abc import ABC , abstractmethod\n",
    "\n",
    "class manager(ABC):\n",
    "    \n",
    "    @abstractmethod\n",
    "    def data(self):\n",
    "        return \"this data passed to local\"\n",
    "\n",
    "class client(manager):\n",
    "    \n",
    "    def data(self):\n",
    "        return \"i have done this \"\n",
    "    \n",
    "    def feedback(self):\n",
    "        return \"i am seem your data\"\n",
    "    \n",
    "obj = client()\n",
    "print(obj.data())\n",
    "obj.feedback()"
   ]
  },
  {
   "cell_type": "markdown",
   "id": "ab3b9aa7",
   "metadata": {},
   "source": [
    "##### 14. Create a Python class called `Employee` with private attributes for salary (`__salary`) and employee ID (`__employee_id`). Provide a method to calculate yearly bonuses"
   ]
  },
  {
   "cell_type": "code",
   "execution_count": 191,
   "id": "441dec78",
   "metadata": {},
   "outputs": [
    {
     "name": "stdout",
     "output_type": "stream",
     "text": [
      "enter the performance bonus : 55002\n",
      "enter the festive bonus : 14000\n"
     ]
    },
    {
     "data": {
      "text/plain": [
       "('bonus is : ', 69002, 'salary is : ', 147002)"
      ]
     },
     "execution_count": 191,
     "metadata": {},
     "output_type": "execute_result"
    }
   ],
   "source": [
    "class Employee:\n",
    "    \n",
    "    def __init__(self,i_d,salary = 78000):\n",
    "        self.__salary = salary\n",
    "        self.__employee_id = i_d\n",
    "        \n",
    "    def get_festive_bonus(self):\n",
    "        bonus = int(input(\"enter the festive bonus : \"))\n",
    "        self.__salary += bonus\n",
    "        return bonus\n",
    "    \n",
    "    def get_performance_bonus(self):\n",
    "        bonus  = int(input(\"enter the performance bonus : \"))\n",
    "        self.__salary +=bonus\n",
    "        return bonus\n",
    "    \n",
    "        \n",
    "    def yearly_bonus(self):\n",
    "        self.__salary\n",
    "        yearly_bonus = self.get_performance_bonus() + self.get_festive_bonus()\n",
    "        return \"bonus is : \" , yearly_bonus , \"salary is : \" , self.__salary\n",
    "\n",
    "class sever(Employee):\n",
    "    \n",
    "    def show_details(self):\n",
    "        return self.yearly_bonus()\n",
    "\n",
    "obj = Employee(777)\n",
    "# obj.yearly_bonus()\n",
    "obj2 = sever(777)\n",
    "obj2.show_details()\n",
    "        "
   ]
  },
  {
   "cell_type": "code",
   "execution_count": null,
   "id": "b356d10e",
   "metadata": {},
   "outputs": [],
   "source": []
  },
  {
   "cell_type": "markdown",
   "id": "e51efc09",
   "metadata": {},
   "source": [
    "# Polymorphism"
   ]
  },
  {
   "cell_type": "markdown",
   "id": "241c1e58",
   "metadata": {},
   "source": [
    "##### 1. What is polymorphism in Python? Explain how it is related to object-oriented programming"
   ]
  },
  {
   "cell_type": "markdown",
   "id": "039f847f",
   "metadata": {},
   "source": [
    "\n",
    "Polymorphism is a fundamental concept in object-oriented programming (OOP) that allows objects of different classes to be treated as objects of a common superclass. It enables a single interface or method to be used for entities of different types."
   ]
  },
  {
   "cell_type": "code",
   "execution_count": 55,
   "id": "e0b20172",
   "metadata": {},
   "outputs": [
    {
     "name": "stdout",
     "output_type": "stream",
     "text": [
      "my name is  \n",
      "my name is prince\n",
      "my name is ankush\n"
     ]
    }
   ],
   "source": [
    "# Example \n",
    "# here in this code we use only one method or function \n",
    "class aryan:\n",
    "    def show_info(self,name = ' '):\n",
    "        return \"my name is \" + name\n",
    "obj = aryan()\n",
    "print(obj.show_info())\n",
    "print(obj.show_info(\"prince\"))\n",
    "print(obj.show_info(\"ankush\"))"
   ]
  },
  {
   "cell_type": "markdown",
   "id": "9437d13d",
   "metadata": {},
   "source": [
    "Compile-time Polymorphism (Static Binding): Also known as method overloading or function overloading, it refers to having multiple methods with the same name but different parameters within the same class. The correct method to be executed is determined by the number or types of parameters passed during compile-time."
   ]
  },
  {
   "cell_type": "code",
   "execution_count": 58,
   "id": "ef1acc85",
   "metadata": {},
   "outputs": [
    {
     "name": "stdout",
     "output_type": "stream",
     "text": [
      "[]\n",
      "[23, 53, 6, 'ar4yan']\n",
      "[3, 's']\n"
     ]
    }
   ],
   "source": [
    "# example \n",
    "#  this is concept of overloading and compile -time polymorhism \n",
    "# here we used one method parameter and get the multiple data output\n",
    "class btech: \n",
    "    \n",
    "    def show_info(self,argu = []):\n",
    "        return argu\n",
    "\n",
    "obj = btech()\n",
    "print(obj.show_info())\n",
    "print(obj.show_info([23,53,6,\"ar4yan\"]))\n",
    "print(obj.show_info([3,\"s\"]))"
   ]
  },
  {
   "cell_type": "markdown",
   "id": "e2ef22f0",
   "metadata": {},
   "source": [
    "##### 2. Describe the difference between compile-time polymorphism and runtime polymorphism in Python"
   ]
  },
  {
   "cell_type": "markdown",
   "id": "f9485d47",
   "metadata": {},
   "source": [
    "Run-time Polymorphism (Dynamic Binding): Also known as method overriding, it allows a subclass to provide a specific implementation of a method that is already defined in its superclass. The correct method to be executed is determined during runtime based on the actual object type."
   ]
  },
  {
   "cell_type": "code",
   "execution_count": 193,
   "id": "6700d112",
   "metadata": {},
   "outputs": [
    {
     "name": "stdout",
     "output_type": "stream",
     "text": [
      "the class will start from tuesday\n"
     ]
    },
    {
     "data": {
      "text/plain": [
       "'today the registration is done'"
      ]
     },
     "execution_count": 193,
     "metadata": {},
     "output_type": "execute_result"
    }
   ],
   "source": [
    "# example reated to run time polymorphism\n",
    "# here the concept of overiding we call the base class in the sub class by the use of super class \n",
    "# which have same method (info)\n",
    "\n",
    "class achieve:\n",
    "    \n",
    "    def info(self):\n",
    "        print(\"the class will start from tuesday\")# here return option will not work by calling in \n",
    "#                                                  super class of subclass\n",
    "class display(achieve):\n",
    "    \n",
    "    def info(self):\n",
    "        super().info()\n",
    "        return \"today the registration is done\"\n",
    "    \n",
    "obj = display()\n",
    "obj.info()"
   ]
  },
  {
   "cell_type": "markdown",
   "id": "667a04d0",
   "metadata": {},
   "source": [
    "##### 3. Create a Python class hierarchy for shapes (e.g., circle, square, triangle) and demonstrate polymorphism \n",
    " through a common method, such as `calculate_area()`."
   ]
  },
  {
   "cell_type": "code",
   "execution_count": 103,
   "id": "68d13755",
   "metadata": {},
   "outputs": [],
   "source": [
    "class shape_circle:\n",
    "    def __init__(self):\n",
    "        pass\n",
    "    def my_shape(self):\n",
    "        print(\"this is the circle .\")\n",
    "    \n",
    "class shape_square:\n",
    "    def __init__(self):\n",
    "        pass\n",
    "    def my_shape1(self):\n",
    "        print(\"the  given shape is square\")\n",
    "        \n",
    "class shape_triangle:\n",
    "    \n",
    "    def __init__(self):\n",
    "        pass \n",
    "    def my_shape2(self):\n",
    "            print(\" the shape is triangle \")\n",
    "class display(shape_circle,shape_square,shape_triangle):\n",
    "    def __init__(self):\n",
    "        pass \n",
    "    def display_info(self):\n",
    "        super().my_shape()\n",
    "        super().my_shape1()\n",
    "        super().my_shape2()\n",
    "        \n",
    "        return \"thus , it is the required result\""
   ]
  },
  {
   "cell_type": "code",
   "execution_count": 104,
   "id": "39ec8ec2",
   "metadata": {},
   "outputs": [
    {
     "name": "stdout",
     "output_type": "stream",
     "text": [
      "this is the circle .\n",
      "the  given shape is square\n",
      " the shape is triangle \n"
     ]
    },
    {
     "data": {
      "text/plain": [
       "'thus , it is the required result'"
      ]
     },
     "execution_count": 104,
     "metadata": {},
     "output_type": "execute_result"
    }
   ],
   "source": [
    "obj = display()\n",
    "obj.display_info()"
   ]
  },
  {
   "cell_type": "code",
   "execution_count": 6,
   "id": "6b51bce3",
   "metadata": {},
   "outputs": [
    {
     "name": "stdout",
     "output_type": "stream",
     "text": [
      "Enter the radius :5\n",
      "Enter the side: 64\n",
      "Enter the base:66\n",
      "Enter the height:4\n",
      "the area of circle is : 78.53981633974483\n",
      "the are of given square is  256\n",
      "the area of triangle is : 132.0\n"
     ]
    }
   ],
   "source": [
    "#   good method\n",
    "import math\n",
    "class shape:\n",
    "    def area_of_shape(self):\n",
    "        pass\n",
    "    \n",
    "class triangle(shape):\n",
    "    def __init__(self,base,height):\n",
    "        self.base = base\n",
    "        self.height = height\n",
    "    def area_of_shape(self):\n",
    "        return 0.5*self.base*self.height\n",
    "    \n",
    "class circle(shape):\n",
    "    def __init__(self,radius):\n",
    "        self.radius  = radius\n",
    "    def area_of_shape(self):\n",
    "        return math.pi*self.radius*self.radius\n",
    "    \n",
    "class square(shape):\n",
    "    def __init__(self,side):\n",
    "        self.side = side\n",
    "    \n",
    "    def area_of_shape(self):\n",
    "        return self.side*4\n",
    "    \n",
    "circle = circle(int(input(\"Enter the radius :\" )))\n",
    "square = square(int(input(\"Enter the side: \")))\n",
    "triangle = triangle(int(input(\"Enter the base:\")),int(input(\"Enter the height:\")))\n",
    "print(\"the area of circle is :\" ,circle.area_of_shape())\n",
    "print(\"the are of given square is \",square.area_of_shape())\n",
    "print(\"the area of triangle is :\",triangle.area_of_shape())"
   ]
  },
  {
   "cell_type": "markdown",
   "id": "f6fb13fa",
   "metadata": {},
   "source": [
    "##### 5. How is polymorphism different from method overloading in Python? Provide examples for both."
   ]
  },
  {
   "cell_type": "markdown",
   "id": "c71ffa0a",
   "metadata": {},
   "source": [
    "##### 6. Create a Python class called `Animal` with a method `speak()`. Then, create child classes like `Dog`, `Cat`, and `Bird`, each with their own `speak()` method. Demonstrate polymorphism by calling the `speak()` method \n",
    "on objects of different subclasses."
   ]
  },
  {
   "cell_type": "code",
   "execution_count": 1,
   "id": "b99e6c65",
   "metadata": {},
   "outputs": [
    {
     "name": "stdout",
     "output_type": "stream",
     "text": [
      "meow>>>>>>\n",
      "doggi voice>>>>>\n",
      "chew>>>>>>\n"
     ]
    }
   ],
   "source": [
    "class Animal:\n",
    "    \n",
    "    def speak(self):\n",
    "        pass\n",
    "class Dog(Animal):\n",
    "    def __init__(self):\n",
    "        pass\n",
    "    def speak(self):\n",
    "        print(\"doggi voice>>>>>\")\n",
    "        \n",
    "class Cat(Animal):\n",
    "    \n",
    "    def __init__(self):\n",
    "        pass\n",
    "    def speak(self):\n",
    "        print(\"meow>>>>>>\")\n",
    "        \n",
    "class Bird(Animal):\n",
    "    \n",
    "    def __init__(self):\n",
    "        pass\n",
    "    def speak(self):\n",
    "        print(\"chew>>>>>>\")\n",
    "cat = Cat()\n",
    "dog = Dog()\n",
    "bird = Bird()\n",
    "\n",
    "cat.speak()\n",
    "dog.speak()\n",
    "bird.speak()"
   ]
  },
  {
   "cell_type": "markdown",
   "id": "b12fbb9f",
   "metadata": {},
   "source": [
    "##### 7. Discuss the use of abstract methods and classes in achieving polymorphism in Python. Provide an example \n",
    "using the `abc` module"
   ]
  },
  {
   "cell_type": "code",
   "execution_count": 202,
   "id": "6e02b2ba",
   "metadata": {},
   "outputs": [
    {
     "name": "stdout",
     "output_type": "stream",
     "text": [
      "i have checked you id \n"
     ]
    },
    {
     "data": {
      "text/plain": [
       "'you wil go to your seat'"
      ]
     },
     "execution_count": 202,
     "metadata": {},
     "output_type": "execute_result"
    }
   ],
   "source": [
    "from abc import ABC, abstractmethod\n",
    "\n",
    "class Aeroplane_conductor(ABC): \n",
    "    \n",
    "    def __init__(self):\n",
    "        self.passport = 28958\n",
    "        self.name = \"Aryan Yadav\"\n",
    "        \n",
    "    @abstractmethod\n",
    "    def my_info(self):\n",
    "        return self.name + self.passport\n",
    "    \n",
    "class traveller(Aeroplane_conductor):\n",
    "    \n",
    "    def __init__(self):\n",
    "        pass\n",
    "    \n",
    "    def my_info(self):\n",
    "        return  \"i have checked you id \"\n",
    "    \n",
    "    def flag(self): \n",
    "        \n",
    "        return \"you wil go to your seat\"\n",
    "    \n",
    "obj = traveller()\n",
    "\n",
    "print(obj.my_info())\n",
    "obj.flag()\n",
    "    \n",
    "    \n",
    "    \n",
    "        \n",
    "    "
   ]
  },
  {
   "cell_type": "code",
   "execution_count": 6,
   "id": "52720f13",
   "metadata": {},
   "outputs": [
    {
     "name": "stdout",
     "output_type": "stream",
     "text": [
      "🐂\n"
     ]
    }
   ],
   "source": [
    "print('\\U0001F402')"
   ]
  },
  {
   "cell_type": "markdown",
   "id": "38493bbe",
   "metadata": {},
   "source": [
    "##### . Create a Python class hierarchy for a vehicle system (e.g., car, bicycle, boat) and implement a polymorphic `start()` method that prints a message specific to each vehicle type"
   ]
  },
  {
   "cell_type": "code",
   "execution_count": 212,
   "id": "b06dd668",
   "metadata": {},
   "outputs": [
    {
     "name": "stdout",
     "output_type": "stream",
     "text": [
      "this car is started \n",
      "\n",
      "\n",
      " now paddles the bicycle.\n"
     ]
    },
    {
     "data": {
      "text/plain": [
       "'now paddles the bicycle.'"
      ]
     },
     "execution_count": 212,
     "metadata": {},
     "output_type": "execute_result"
    }
   ],
   "source": [
    "class Vehicle:\n",
    "    def __init__(self):\n",
    "        pass\n",
    "    \n",
    "    def start(self):\n",
    "        pass\n",
    "class car(Vehicle):\n",
    "    \n",
    "    def __init__(self):\n",
    "        pass\n",
    "    \n",
    "    def start(self):\n",
    "        return \"this car is started \"\n",
    "    \n",
    "class bicycle(Vehicle):\n",
    "    \n",
    "    def __init__(self):\n",
    "        pass\n",
    "    \n",
    "    def start(self):\n",
    "        return \"now paddles the bicycle.\"\n",
    "\n",
    "class boat(Vehicle):\n",
    "    \n",
    "    def __init__(self):\n",
    "        pass\n",
    "    \n",
    "    def start(self):\n",
    "        return \"the boat get runs on the river.\"\n",
    "\n",
    "obj1 = car()\n",
    "obj2 = bicycle()\n",
    "obj3 = boat()\n",
    "print(obj1.start())\n",
    "print(\"\\n\\n\" , obj2.start())\n",
    "obj2.start()"
   ]
  },
  {
   "cell_type": "markdown",
   "id": "f076b370",
   "metadata": {},
   "source": [
    "##### 9.. Explain the significance of the `isinstance()` and `issubclass()` functions in Python polymorphism.5"
   ]
  },
  {
   "cell_type": "code",
   "execution_count": 243,
   "id": "b9d9ae8e",
   "metadata": {},
   "outputs": [
    {
     "name": "stdout",
     "output_type": "stream",
     "text": [
      "True\n",
      "True\n"
     ]
    }
   ],
   "source": [
    "# isinstance to check either given obj is a part of the class\n",
    "\n",
    "# issubclass this peform the or check eithe subclass is a subset of that parent class\n",
    "class Policestation:\n",
    "    \n",
    "    def case1(self):\n",
    "        return \"the police catch the robbers\"\n",
    "    \n",
    "class superitendentSI(Policestation):\n",
    "    def __init__(self):\n",
    "        pass \n",
    "    \n",
    "    def fir(self):\n",
    "        return \"fir from the city state bank \"\n",
    "obj = Policestation()\n",
    "obj_3 = superitendentSI()\n",
    "\n",
    "print(isinstance(obj,Policestation))\n",
    "print(issubclass(superitendentSI,Policestation))"
   ]
  },
  {
   "cell_type": "markdown",
   "id": "6994e9af",
   "metadata": {},
   "source": [
    "##### 15. Describe the concept of operator overloading in Python and how it relates to polymorphism. Provide \n",
    "examples using operators like `+` and `*`"
   ]
  },
  {
   "cell_type": "code",
   "execution_count": 268,
   "id": "007dcf91",
   "metadata": {},
   "outputs": [
    {
     "name": "stdout",
     "output_type": "stream",
     "text": [
      "Enter 1 for '+' and 2 for '*' : 2\n",
      "19983170880\n",
      "Enter 1 for '+' and 2 for '*' : 2\n",
      "233195664\n",
      "Enter 1 for '+' and 2 for '*' : 2\n",
      "17578858140\n"
     ]
    }
   ],
   "source": [
    " from functools import reduce\n",
    "class Calcuation :\n",
    "    \n",
    "    def __init__(self,*args):\n",
    "        self.args = args\n",
    "        \n",
    "        \n",
    "    def operation(self):\n",
    "        op = int(input(\"Enter 1 for '+' and 2 for '*' : \"))\n",
    "        if op == 1:\n",
    "            return reduce(lambda p,q : p+q ,self.args)\n",
    "        elif op ==2:\n",
    "            return reduce(lambda x,y:x*y ,self.args)\n",
    "        else:\n",
    "            return \"invalid input\"\n",
    "obj1 = Calcuation(302,53,27,85,544)\n",
    "obj2 = Calcuation(38,13,78,89,34,2)\n",
    "\n",
    "obj3 = Calcuation(93,89,38,45,23,54)\n",
    "print(obj1.operation())\n",
    "print(obj2.operation())\n",
    "print(obj3.operation())\n"
   ]
  },
  {
   "cell_type": "code",
   "execution_count": null,
   "id": "dba3a6e1",
   "metadata": {},
   "outputs": [],
   "source": []
  },
  {
   "cell_type": "code",
   "execution_count": null,
   "id": "d6fd24dd",
   "metadata": {},
   "outputs": [],
   "source": []
  },
  {
   "cell_type": "code",
   "execution_count": null,
   "id": "4c42af3b",
   "metadata": {},
   "outputs": [],
   "source": []
  },
  {
   "cell_type": "code",
   "execution_count": null,
   "id": "a888df9c",
   "metadata": {},
   "outputs": [],
   "source": []
  },
  {
   "cell_type": "code",
   "execution_count": null,
   "id": "a0a2a07f",
   "metadata": {},
   "outputs": [],
   "source": []
  },
  {
   "cell_type": "markdown",
   "id": "8d8c8097",
   "metadata": {},
   "source": [
    "# Abstraction"
   ]
  },
  {
   "cell_type": "markdown",
   "id": "f84f0dd4",
   "metadata": {},
   "source": [
    "##### 1. What is abstraction in Python, and how does it relate to object-oriented programming?"
   ]
  },
  {
   "cell_type": "markdown",
   "id": "d832904a",
   "metadata": {},
   "source": [
    "In summary, abstraction in Python, within the realm of object-oriented programming, provides a way to manage complexity by emphasizing essential features while hiding implementation details. It allows for better structuring of code, improved maintainability, and the creation of more flexible and reusable software components."
   ]
  },
  {
   "cell_type": "code",
   "execution_count": 19,
   "id": "156c771a",
   "metadata": {},
   "outputs": [],
   "source": [
    "#  Example\n",
    "from abc import ABC ,abstractmethod   # full of ABC Is abstract base class\n",
    "class Bank(ABC):      # here you focus to inherit the ABC \n",
    "    \n",
    "    def Head_of_bank(self):\n",
    "        pass\n",
    "    \n",
    "    @abstractmethod\n",
    "    def make_secure_site(self):\n",
    "        pass"
   ]
  },
  {
   "cell_type": "code",
   "execution_count": 23,
   "id": "9ab40297",
   "metadata": {},
   "outputs": [],
   "source": [
    "class employes(Bank):# employs works in the bank\n",
    "    \n",
    "    def employer_output(self):\n",
    "        return \"i have done the program.\"\n",
    "\n",
    "    \n",
    "    "
   ]
  },
  {
   "cell_type": "code",
   "execution_count": 24,
   "id": "5c283303",
   "metadata": {},
   "outputs": [
    {
     "ename": "TypeError",
     "evalue": "Can't instantiate abstract class employes with abstract method make_secure_site",
     "output_type": "error",
     "traceback": [
      "\u001b[1;31m---------------------------------------------------------------------------\u001b[0m",
      "\u001b[1;31mTypeError\u001b[0m                                 Traceback (most recent call last)",
      "Cell \u001b[1;32mIn[24], line 1\u001b[0m\n\u001b[1;32m----> 1\u001b[0m show \u001b[38;5;241m=\u001b[39m employes()\n",
      "\u001b[1;31mTypeError\u001b[0m: Can't instantiate abstract class employes with abstract method make_secure_site"
     ]
    }
   ],
   "source": [
    "show = employes()\n",
    "# because this is not done the head of bank work  that is to make secure site"
   ]
  },
  {
   "cell_type": "code",
   "execution_count": 25,
   "id": "282ccd57",
   "metadata": {},
   "outputs": [
    {
     "data": {
      "text/plain": [
       "'i have done the program.'"
      ]
     },
     "execution_count": 25,
     "metadata": {},
     "output_type": "execute_result"
    }
   ],
   "source": [
    "show.employer_output() "
   ]
  },
  {
   "cell_type": "markdown",
   "id": "1b6461c6",
   "metadata": {},
   "source": [
    "###### solution"
   ]
  },
  {
   "cell_type": "code",
   "execution_count": 46,
   "id": "42531a59",
   "metadata": {},
   "outputs": [],
   "source": [
    " #  Example\n",
    "from abc import ABC ,abstractmethod\n",
    "class Bank(ABC):      # here you focus to inherit the ABC \n",
    "    \n",
    "    def Head_of_bank(self):\n",
    "        pass\n",
    "    \n",
    "    @abstractmethod\n",
    "    \n",
    "    \n",
    "    def make_secure_site(self):\n",
    "        pass"
   ]
  },
  {
   "cell_type": "code",
   "execution_count": 49,
   "id": "f2a01963",
   "metadata": {},
   "outputs": [],
   "source": [
    "class employes(Bank):\n",
    "    \n",
    "    def make_secure_site(self):\n",
    "        return  \"https://aryanmakesitee.url.in.\"\n",
    "        \n",
    "    def employer_output(self):\n",
    "        return \"i have done my work sir \"\n"
   ]
  },
  {
   "cell_type": "code",
   "execution_count": 50,
   "id": "022d14fa",
   "metadata": {},
   "outputs": [],
   "source": [
    "show = employes()"
   ]
  },
  {
   "cell_type": "code",
   "execution_count": 51,
   "id": "e7adecb7",
   "metadata": {},
   "outputs": [
    {
     "data": {
      "text/plain": [
       "'https://aryanmakesitee.url.in.'"
      ]
     },
     "execution_count": 51,
     "metadata": {},
     "output_type": "execute_result"
    }
   ],
   "source": [
    "show.make_secure_site()"
   ]
  },
  {
   "cell_type": "code",
   "execution_count": 53,
   "id": "cb0f5b21",
   "metadata": {},
   "outputs": [
    {
     "data": {
      "text/plain": [
       "'i have done my work sir '"
      ]
     },
     "execution_count": 53,
     "metadata": {},
     "output_type": "execute_result"
    }
   ],
   "source": [
    "show.employer_output()"
   ]
  },
  {
   "cell_type": "markdown",
   "id": "324942f6",
   "metadata": {},
   "source": [
    "##### 2. Describe the benefits of abstraction in terms of code organization and complexity reduction."
   ]
  },
  {
   "cell_type": "markdown",
   "id": "5173f7ea",
   "metadata": {},
   "source": [
    "Firstly, it helps us write organised code that is easier to read and understand. This also means that our code is more efficient and less prone to errors. Additionally, abstraction helps us save time since we don’t have to worry about low-level details and can instead focus on the bigger picture."
   ]
  },
  {
   "cell_type": "markdown",
   "id": "64032bd8",
   "metadata": {},
   "source": [
    "##### 3. Create a Python class called `Shape` with an abstract method `calculate_area()`. Then, create child classes (e.g., `Circle`, `Rectangle`) that implement the `calculate_area()` method. Provide an example of \n",
    "using these classes."
   ]
  },
  {
   "cell_type": "code",
   "execution_count": 74,
   "id": "336b54ce",
   "metadata": {},
   "outputs": [],
   "source": [
    "from abc import ABC ,abstractmethod\n",
    "import math\n",
    "class Shape(ABC):\n",
    "    \n",
    "    def __init__(self):\n",
    "        pass\n",
    "    \n",
    "    @abstractmethod\n",
    "    def calculate_area(self):\n",
    "        pass\n",
    "    \n",
    "class Circle(Shape):\n",
    "    \n",
    "    def __init__(self,radius):\n",
    "        self.radius  = radius\n",
    "    \n",
    "    def calculate_area(self):\n",
    "        return \"the area of circle is : \" , int(math.pi*self.radius*self.radius)\n",
    "    \n",
    "class Rectangle(Shape):\n",
    "    \n",
    "    def __init__(self,length, breadth):\n",
    "        self.length = length\n",
    "        self.breadth = breadth\n",
    "    \n",
    "    def calculate_area(self):\n",
    "        return \"the area of rectangle is :\" ,self.length*self.breadth\n",
    "\n"
   ]
  },
  {
   "cell_type": "code",
   "execution_count": 75,
   "id": "abb806c1",
   "metadata": {},
   "outputs": [
    {
     "name": "stdout",
     "output_type": "stream",
     "text": [
      "Enter the radius :8\n",
      "Enter the length : 10\n",
      "Enter the breadth : 90\n"
     ]
    }
   ],
   "source": [
    "obj = Circle(int(input(\"Enter the radius :\")))\n",
    "rect = Rectangle(int(input(\"Enter the length : \")),int(input(\"Enter the breadth : \")))"
   ]
  },
  {
   "cell_type": "code",
   "execution_count": 76,
   "id": "b3a1eb26",
   "metadata": {},
   "outputs": [
    {
     "name": "stdout",
     "output_type": "stream",
     "text": [
      "('the area of circle is : ', 201)\n"
     ]
    },
    {
     "data": {
      "text/plain": [
       "('the area of rectangle is :', 900)"
      ]
     },
     "execution_count": 76,
     "metadata": {},
     "output_type": "execute_result"
    }
   ],
   "source": [
    "print(obj.calculate_area())\n",
    "rect.calculate_area()"
   ]
  },
  {
   "cell_type": "markdown",
   "id": "b8c38a4b",
   "metadata": {},
   "source": [
    "##### 4. Explain the concept of abstract classes in Python and how they are defined using the `abc` module. \n",
    " "
   ]
  },
  {
   "cell_type": "markdown",
   "id": "fc5fb08b",
   "metadata": {},
   "source": [
    "Purpose of Abstract Classes: Abstract classes promote a consistent structure by defining a common interface that concrete subclasses must follow. They enable code reuse and ensure that subclasses have certain methods implemented, enhancing maintainability and consistency in a codebase."
   ]
  },
  {
   "cell_type": "markdown",
   "id": "e60ecf06",
   "metadata": {},
   "source": [
    "##### 5. How do abstract classes differ from regular classes in Python? Discuss their use cases"
   ]
  },
  {
   "cell_type": "raw",
   "id": "ad780cb8",
   "metadata": {},
   "source": [
    "Use Cases:\n",
    "Abstract Classes: They are beneficial when you want to create a common interface for multiple classes, ensuring that specific methods are implemented by subclasses. They provide a way to enforce a certain structure while allowing flexibility in implementation.\n",
    "\n",
    "Regular Classes: They are suitable for creating standalone objects with their own defined behavior. These classes may or may not be part of an inheritance hierarchy and are used when you want concrete instances without the necessity of providing implementations for specific methods in subclasses.\n",
    "\n",
    "In summary, abstract classes focus on defining a structure that subclasses must adhere to, while regular classes are instantiated to create objects with defined attributes and methods. Choosing between them depends on whether you need a blueprint for other classes (abstract classes) or standalone objects with their own implementations (regular classes)."
   ]
  },
  {
   "cell_type": "code",
   "execution_count": 37,
   "id": "a570df14",
   "metadata": {},
   "outputs": [],
   "source": [
    "from abc import ABC , abstractmethod\n",
    "class AI(ABC):\n",
    "    def __init__(self):\n",
    "        pass\n",
    "    \n",
    "    @abstractmethod\n",
    "    def my_performance(self):\n",
    "        pass \n",
    "    \n",
    "class ISC(AI):\n",
    "    def __init__(self,score):\n",
    "        self.score = score\n",
    "        \n",
    "    def my_score(self):\n",
    "        return self.score\n",
    "    def my_performance(self):\n",
    "        return \"my score is average in isc\"\n",
    "    \n",
    "class Maths(AI):\n",
    "    \n",
    "    def __init__(self):\n",
    "        pass \n",
    "    def my_performance(self):\n",
    "            return \"i score better in maths \"\n",
    "    def my_score(self,score):\n",
    "#         self.score = score\n",
    "        return score\n",
    "obj = ISC(89)"
   ]
  },
  {
   "cell_type": "code",
   "execution_count": 38,
   "id": "66fdd1ee",
   "metadata": {},
   "outputs": [
    {
     "name": "stdout",
     "output_type": "stream",
     "text": [
      "89\n"
     ]
    },
    {
     "data": {
      "text/plain": [
       "'my score is average in isc'"
      ]
     },
     "execution_count": 38,
     "metadata": {},
     "output_type": "execute_result"
    }
   ],
   "source": [
    "print(obj.my_score())\n",
    "obj.my_performance()"
   ]
  },
  {
   "cell_type": "code",
   "execution_count": 39,
   "id": "befb7398",
   "metadata": {},
   "outputs": [
    {
     "name": "stdout",
     "output_type": "stream",
     "text": [
      "i score better in maths \n"
     ]
    },
    {
     "data": {
      "text/plain": [
       "4"
      ]
     },
     "execution_count": 39,
     "metadata": {},
     "output_type": "execute_result"
    }
   ],
   "source": [
    "obj2 = Maths()\n",
    "print(obj2.my_performance())\n",
    "obj2.my_score(4)"
   ]
  },
  {
   "cell_type": "markdown",
   "id": "44fd6baf",
   "metadata": {},
   "source": [
    "##### 6. Create a Python class for a bank account and demonstrate abstraction by hiding the account balance and \n",
    "providing methods to deposit and withdraw funds"
   ]
  },
  {
   "cell_type": "code",
   "execution_count": 27,
   "id": "348c0ae4",
   "metadata": {},
   "outputs": [
    {
     "name": "stdout",
     "output_type": "stream",
     "text": [
      "enter your account number  : 234567\n"
     ]
    }
   ],
   "source": [
    "from abc import ABC , abstractmethod\n",
    "\n",
    "class Bank(ABC):\n",
    "    \n",
    "    def __init__(self,):\n",
    "        self.account_num  = 29852733\n",
    "        self.balance  = 548939\n",
    "        \n",
    "    @abstractmethod\n",
    "    def your_info(self):\n",
    "        return self.account_num  , \"your balance \" ,self.balance\n",
    "    \n",
    "class bankworkers(Bank):\n",
    "        \n",
    "        def __init__(self):\n",
    "            self.balance = 50000\n",
    "            \n",
    "        def your_info(self,account_num):\n",
    "            self.account_num = account_num\n",
    "            if self.account_num == 234567:\n",
    "                self.account_num = account_num\n",
    "                print(f\"the nomine is Aryan and account number is { self.account_num} \\n\\n\" )\n",
    "                return \" your account is active\"\n",
    "            else:\n",
    "                return \"invalid account number \"\n",
    "\n",
    "            \n",
    "        def deposite(self):\n",
    "            if 234567 == self.account_num:\n",
    "                deposite = int(input(\"Enter depositing amount: \"))\n",
    "                self.balance +=deposite\n",
    "                return deposite\n",
    "            else:\n",
    "                return \"invalid account number\"\n",
    "                \n",
    "        def withdraw(self):\n",
    "            if 234567 == self.account_num:   \n",
    "                withdraw = int(input(\"Enter the withdrawing  amount : \"))\n",
    "                if self.balance>=withdraw:\n",
    "                    self.balance = self.balance - withdraw\n",
    "                    return \"yours withdrawing amount is \" , withdraw\n",
    "                else: \n",
    "                    return \"not enough ammount \"\n",
    "            else:\n",
    "                return \"invalid account number \"\n",
    "obj = bankworkers()\n",
    "n = int(input(\"enter your account number  : \"))\n"
   ]
  },
  {
   "cell_type": "code",
   "execution_count": 28,
   "id": "b341a7aa",
   "metadata": {},
   "outputs": [
    {
     "name": "stdout",
     "output_type": "stream",
     "text": [
      "the nomine is Aryan and account number is 234567 \n",
      "\n",
      "\n"
     ]
    },
    {
     "data": {
      "text/plain": [
       "' your account is active'"
      ]
     },
     "execution_count": 28,
     "metadata": {},
     "output_type": "execute_result"
    }
   ],
   "source": [
    "obj.your_info(n)"
   ]
  },
  {
   "cell_type": "code",
   "execution_count": 29,
   "id": "ac7160fb",
   "metadata": {},
   "outputs": [
    {
     "name": "stdout",
     "output_type": "stream",
     "text": [
      "Enter depositing amount: 7890\n"
     ]
    },
    {
     "data": {
      "text/plain": [
       "7890"
      ]
     },
     "execution_count": 29,
     "metadata": {},
     "output_type": "execute_result"
    }
   ],
   "source": [
    "obj.deposite()"
   ]
  },
  {
   "cell_type": "code",
   "execution_count": 30,
   "id": "0a87f17e",
   "metadata": {},
   "outputs": [
    {
     "name": "stdout",
     "output_type": "stream",
     "text": [
      "Enter the withdrawing  amount : 9000\n"
     ]
    },
    {
     "data": {
      "text/plain": [
       "('yours withdrawing amount is ', 9000)"
      ]
     },
     "execution_count": 30,
     "metadata": {},
     "output_type": "execute_result"
    }
   ],
   "source": [
    "obj.withdraw()"
   ]
  },
  {
   "cell_type": "markdown",
   "id": "41316f79",
   "metadata": {},
   "source": [
    "##### 7. Discuss the concept of interface classes in Python and their role in achieving abstraction"
   ]
  },
  {
   "cell_type": "code",
   "execution_count": 35,
   "id": "dbcec41b",
   "metadata": {},
   "outputs": [
    {
     "name": "stdout",
     "output_type": "stream",
     "text": [
      "आर्यन\n",
      "आ\n",
      "र\n",
      "्\n",
      "य\n",
      "न\n"
     ]
    }
   ],
   "source": [
    "a = 'आर्यन'\n",
    "print(a)\n",
    "for i in a:\n",
    "    print(i)"
   ]
  },
  {
   "cell_type": "code",
   "execution_count": 164,
   "id": "a94961a3",
   "metadata": {},
   "outputs": [
    {
     "name": "stdout",
     "output_type": "stream",
     "text": [
      "good start \n",
      "Start working on that \n",
      "project you always wanted \n",
      "stars are  shining brightly\n",
      "hi there\n",
      "start and try to\n",
      "finish the book \n",
      "bye\n"
     ]
    }
   ],
   "source": [
    "para='''good start \n",
    "Start working on that \n",
    "project you always wanted \n",
    "stars are  shining brightly\n",
    "hi there\n",
    "start and try to\n",
    "finish the book \n",
    "bye'''\n",
    "print(str(para))"
   ]
  },
  {
   "cell_type": "code",
   "execution_count": 163,
   "id": "bfe94213",
   "metadata": {},
   "outputs": [
    {
     "name": "stdout",
     "output_type": "stream",
     "text": [
      "project you always wanted  stars are  shining brightly hi there finish the book  bye\n"
     ]
    }
   ],
   "source": [
    "\n",
    "\n",
    "# para\n",
    "r = para.replace('\\n','*') \n",
    "aryan = r.split(\"*\")\n",
    "\n",
    "# print(aryan,end = ' ')\n",
    "neraj = [ ]\n",
    "for i in aryan:\n",
    "    if 'start'not in i.split():\n",
    "        neraj.append(i)\n",
    "neraj.pop(0)\n",
    "print(\" \".join(neraj))"
   ]
  },
  {
   "cell_type": "code",
   "execution_count": 169,
   "id": "c6d003c5",
   "metadata": {},
   "outputs": [
    {
     "name": "stdout",
     "output_type": "stream",
     "text": [
      "project you always wanted \n",
      "stars are shining brightly\n",
      "hi there\n",
      "finish the book \n",
      "bye\n"
     ]
    }
   ],
   "source": [
    "para = \"\"\"good start \n",
    "Start working on that \n",
    "project you always wanted \n",
    "stars are shining brightly\n",
    "hi there\n",
    "start and try to\n",
    "finish the book \n",
    "bye\"\"\"\n",
    "\n",
    "for line in para.splitlines():\n",
    "    if not \"start\".casefold() in line.casefold():  # Case-insensitive check\n",
    "        print(line)\n",
    "       "
   ]
  },
  {
   "cell_type": "markdown",
   "id": "6965052f",
   "metadata": {},
   "source": [
    "##### 9. Explain the significance of encapsulation in achieving abstraction. Provide examples."
   ]
  },
  {
   "cell_type": "raw",
   "id": "7703338d",
   "metadata": {},
   "source": [
    "Encapsulation is a cornerstone of abstraction in object-oriented programming. It involves bundling data and the methods that operate on that data within a single unit, typically a class. "
   ]
  },
  {
   "cell_type": "markdown",
   "id": "6e45ed36",
   "metadata": {},
   "source": [
    "##### 10. What is the purpose of abstract methods, and how do they enforce abstraction in Python classes?"
   ]
  },
  {
   "cell_type": "code",
   "execution_count": null,
   "id": "947f7eee",
   "metadata": {},
   "outputs": [],
   "source": []
  },
  {
   "cell_type": "code",
   "execution_count": null,
   "id": "22f6621b",
   "metadata": {},
   "outputs": [],
   "source": []
  },
  {
   "cell_type": "code",
   "execution_count": null,
   "id": "c87c966d",
   "metadata": {},
   "outputs": [],
   "source": []
  },
  {
   "cell_type": "code",
   "execution_count": null,
   "id": "779b1e0f",
   "metadata": {},
   "outputs": [],
   "source": []
  },
  {
   "cell_type": "code",
   "execution_count": null,
   "id": "29870af9",
   "metadata": {},
   "outputs": [],
   "source": []
  },
  {
   "cell_type": "code",
   "execution_count": null,
   "id": "23d17588",
   "metadata": {},
   "outputs": [],
   "source": []
  },
  {
   "cell_type": "code",
   "execution_count": null,
   "id": "69f8107c",
   "metadata": {},
   "outputs": [],
   "source": []
  },
  {
   "cell_type": "code",
   "execution_count": null,
   "id": "94b54a0f",
   "metadata": {},
   "outputs": [],
   "source": []
  },
  {
   "cell_type": "code",
   "execution_count": null,
   "id": "a1f26174",
   "metadata": {},
   "outputs": [],
   "source": []
  },
  {
   "cell_type": "code",
   "execution_count": null,
   "id": "9475b597",
   "metadata": {},
   "outputs": [],
   "source": []
  },
  {
   "cell_type": "markdown",
   "id": "43ac68f1",
   "metadata": {},
   "source": [
    "# composition"
   ]
  },
  {
   "cell_type": "markdown",
   "id": "7ff08e66",
   "metadata": {},
   "source": [
    "##### 1. Explain the concept of composition in Python and how it is used to build complex objects from simpler ones"
   ]
  },
  {
   "cell_type": "markdown",
   "id": "b25fbdea",
   "metadata": {},
   "source": [
    "Building Complex Objects: Composition enables the creation of more intricate and feature-rich objects by combining instances of simpler classes.\n",
    "\n",
    "Code Reusability and Modularity: It promotes code reusability by allowing individual components to be reused across different objects. It also enhances modularity as changes to one component generally do not impact the entire structure.\n",
    "\n",
    "Flexibility and Maintainability: Objects created through composition are often more flexible as they can easily swap out or modify their components without affecting the overall functionality. This promotes easier maintenance and scalability of codebases.\n",
    "\n",
    "Different from Inheritance: Unlike inheritance, where classes inherit behaviors and attributes, composition involves containing instances of other classes as attributes to build object relationships.\n",
    "\n",
    "Utilizing composition in Python leads to more flexible, maintainable, and modular code, offering a powerful way to create complex structures by combining simpler components or objects"
   ]
  },
  {
   "cell_type": "markdown",
   "id": "eb19c032",
   "metadata": {},
   "source": [
    "### Owned class"
   ]
  },
  {
   "cell_type": "code",
   "execution_count": 51,
   "id": "0361045e",
   "metadata": {},
   "outputs": [],
   "source": [
    "class Engine:\n",
    "\n",
    "    def __init__(self,capacity = 0):\n",
    "        self.capacity = capacity\n",
    "        \n",
    "    def printDetail(self):\n",
    "        print(\"the capacity of the engine is \" ,self.capacity)\n",
    "        \n",
    "class Tire:\n",
    "    \n",
    "    def __init__(self,tires = 0):\n",
    "        self.tires = tires\n",
    "        \n",
    "    def printDetail(self):\n",
    "        print(\"number of tires in car : \",self.tires)\n",
    "        \n",
    "class Door:\n",
    "    \n",
    "    def __init__(self,doors):\n",
    "        self.doors = doors\n",
    "        \n",
    "    def printDetail(self):\n",
    "        print(\"number os Doors in car : \",self.doors)\n"
   ]
  },
  {
   "cell_type": "markdown",
   "id": "bf2953c6",
   "metadata": {},
   "source": [
    "### Owner class"
   ]
  },
  {
   "cell_type": "code",
   "execution_count": 52,
   "id": "b70ad018",
   "metadata": {},
   "outputs": [],
   "source": [
    "        \n",
    "class Car:\n",
    "    \n",
    "    def __init__(self,color = '',capacity = 0, tires =0,doors=0):\n",
    "        self.color = color\n",
    "        self.tires = Tire(tires)\n",
    "        self.doors = Door(doors)\n",
    "        self.capacity = Engine(capacity)\n",
    "        \n",
    "    def print_all(self):\n",
    "        print(self.color)\n",
    "        self.capacity.printDetail() \n",
    "        self.tires.printDetail()\n",
    "        self.doors.printDetail()\n",
    "      "
   ]
  },
  {
   "cell_type": "code",
   "execution_count": 53,
   "id": "5c217739",
   "metadata": {},
   "outputs": [],
   "source": [
    "obj = Car(\"white\",822,4,4)"
   ]
  },
  {
   "cell_type": "code",
   "execution_count": 54,
   "id": "c0bbdbb4",
   "metadata": {},
   "outputs": [
    {
     "name": "stdout",
     "output_type": "stream",
     "text": [
      "white\n",
      "the capacity of the engine is  822\n",
      "number of tires in car :  4\n",
      "number os Doors in car :  4\n"
     ]
    }
   ],
   "source": [
    "obj.print_all()"
   ]
  },
  {
   "cell_type": "markdown",
   "id": "8410f74e",
   "metadata": {},
   "source": [
    "##### 2. Describe the difference between composition and inheritance in object-oriented programming"
   ]
  },
  {
   "cell_type": "raw",
   "id": "9569ab34",
   "metadata": {},
   "source": [
    "composition = the class which have similar relation  with all other class by emphasizing to\n",
    "use the \"has to \" compostion with the class whie \n",
    "\n",
    "Inheritance = the class focus on the base class and subclasses will inhereited in the subclasses \n",
    "by the compostion used to facilitate is \"is to \""
   ]
  },
  {
   "cell_type": "markdown",
   "id": "f75d5c60",
   "metadata": {},
   "source": [
    "##### 3. Create a Python class called `Author` with attributes for name and birthdate. Then, create a `Book` class \n",
    "that contains an instance of `Author` as a composition. Provide an example of creating a `Book` object"
   ]
  },
  {
   "cell_type": "code",
   "execution_count": 43,
   "id": "e8ddec1e",
   "metadata": {},
   "outputs": [
    {
     "data": {
      "text/plain": [
       "'physic'"
      ]
     },
     "execution_count": 43,
     "metadata": {},
     "output_type": "execute_result"
    }
   ],
   "source": [
    "class Author:\n",
    "    \n",
    "    def __init__(self,name,birthdate):\n",
    "        self.name = name \n",
    "        self.birthdate = birthdate\n",
    "        \n",
    "class Book:\n",
    "    \n",
    "    def __init__(self,bname,pageno,author):\n",
    "        self.bname = bname\n",
    "        self.pageno = pageno\n",
    "        self.author = author\n",
    "        \n",
    "obj = Author(\"newton\",1991)\n",
    "obj2 = Book(\"physic\",43,\"verma\")\n",
    "obj2.bname"
   ]
  },
  {
   "cell_type": "code",
   "execution_count": 44,
   "id": "dab58260",
   "metadata": {},
   "outputs": [
    {
     "name": "stdout",
     "output_type": "stream",
     "text": [
      "newton\n",
      "physic\n",
      "verma\n"
     ]
    }
   ],
   "source": [
    "print(obj.name)\n",
    "print(obj2.bname)\n",
    "print(obj2.author)"
   ]
  },
  {
   "cell_type": "markdown",
   "id": "913d6d81",
   "metadata": {},
   "source": [
    "##### 4. Discuss the benefits of using composition over inheritance in Python, especially in terms of code flexibility \n",
    "and reusability."
   ]
  },
  {
   "cell_type": "markdown",
   "id": "ebbae795",
   "metadata": {},
   "source": [
    "\n",
    "while inheritance has its uses, composition provides a more flexible and maintainable approach to building complex systems by focusing on assembling objects through relationships rather than building a hierarchy of classes. It promotes code reusability, easier maintenance, and better flexibility, especially in larger and evolving codebases."
   ]
  },
  {
   "cell_type": "code",
   "execution_count": 16,
   "id": "a72f1707",
   "metadata": {},
   "outputs": [
    {
     "name": "stdout",
     "output_type": "stream",
     "text": [
      "neeraj gupta \n",
      "aryan gupta \n"
     ]
    }
   ],
   "source": [
    "def test():\n",
    "    return 'neeraj gupta '\n",
    "    \n",
    "def now(test):\n",
    "    \n",
    "    print(\"aryan gupta \")\n",
    "(test())\n",
    "now(test)"
   ]
  },
  {
   "cell_type": "code",
   "execution_count": 15,
   "id": "b2791cb0",
   "metadata": {},
   "outputs": [
    {
     "name": "stdout",
     "output_type": "stream",
     "text": [
      "prince Yadav\n"
     ]
    },
    {
     "data": {
      "text/plain": [
       "'my name is Aryan yadav'"
      ]
     },
     "execution_count": 15,
     "metadata": {},
     "output_type": "execute_result"
    }
   ],
   "source": [
    " def nested_func():\n",
    "        def my_name():\n",
    "            return \"my name is Aryan yadav\"\n",
    "        print(\"prince Yadav\")\n",
    "        return my_name()\n",
    "nested_func()"
   ]
  },
  {
   "cell_type": "code",
   "execution_count": null,
   "id": "d4991511",
   "metadata": {},
   "outputs": [],
   "source": []
  },
  {
   "cell_type": "code",
   "execution_count": 172,
   "id": "0736c286",
   "metadata": {},
   "outputs": [],
   "source": [
    "class Processor:\n",
    "    def __init__(self, processor = 0):\n",
    "        self.processor = processor\n",
    "        \n",
    "    def print_about(self):\n",
    "        print(f\"this is processor of the computer {self.processor} speed \" )\n",
    "class CPU:\n",
    "    \n",
    "    def __init__(self,cpu = 0):\n",
    "        self.cpu  = cpu\n",
    "        \n",
    "    def cpu_details(self):\n",
    "        print(f\"my cpu details is {self.cpu} processor\")\n",
    "\n",
    "class RAM:\n",
    "    \n",
    "    def __init__(self,ram = 1):\n",
    "        self.ram = ram\n",
    "        \n",
    "    def RAM_info(self):\n",
    "        print(f\"the RAM of the cpu is {self.ram} gb\")\n",
    "\n",
    "        \n",
    "\n"
   ]
  },
  {
   "cell_type": "markdown",
   "id": "eacf4c35",
   "metadata": {},
   "source": [
    "##### 8. Create a Python class for a computer system, using composition to represent components like CPU, RAM, \n",
    "and storage devices."
   ]
  },
  {
   "cell_type": "code",
   "execution_count": 176,
   "id": "0ac81622",
   "metadata": {},
   "outputs": [],
   "source": [
    "class MY_PC:\n",
    "    \n",
    "    def __init__(self,ram = 1,cpu = 0,processor= 0):\n",
    "        self.ram = RAM(ram) \n",
    "        self.cpu = CPU(cpu)\n",
    "        self.processor =Processor(processor)\n",
    "        \n",
    "    def all_info(self):\n",
    "        self.ram.RAM_info()\n",
    "        self.cpu.cpu_details()\n",
    "        self.processor.print_about()"
   ]
  },
  {
   "cell_type": "code",
   "execution_count": 177,
   "id": "a0483015",
   "metadata": {},
   "outputs": [],
   "source": [
    "obj = MY_PC(234,53,256)"
   ]
  },
  {
   "cell_type": "code",
   "execution_count": 178,
   "id": "9e762331",
   "metadata": {},
   "outputs": [
    {
     "name": "stdout",
     "output_type": "stream",
     "text": [
      "the RAM of the cpu is 234 gb\n",
      "my cpu details is 53 processor\n",
      "this is processor of the computer 256 speed \n"
     ]
    }
   ],
   "source": [
    "obj.all_info()"
   ]
  },
  {
   "cell_type": "code",
   "execution_count": null,
   "id": "5f20423b",
   "metadata": {},
   "outputs": [],
   "source": []
  },
  {
   "cell_type": "code",
   "execution_count": null,
   "id": "7aa601b1",
   "metadata": {},
   "outputs": [],
   "source": []
  }
 ],
 "metadata": {
  "kernelspec": {
   "display_name": "Python 3 (ipykernel)",
   "language": "python",
   "name": "python3"
  },
  "language_info": {
   "codemirror_mode": {
    "name": "ipython",
    "version": 3
   },
   "file_extension": ".py",
   "mimetype": "text/x-python",
   "name": "python",
   "nbconvert_exporter": "python",
   "pygments_lexer": "ipython3",
   "version": "3.11.5"
  }
 },
 "nbformat": 4,
 "nbformat_minor": 5
}
