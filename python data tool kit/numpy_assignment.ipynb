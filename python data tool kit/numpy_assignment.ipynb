{
 "cells": [
  {
   "cell_type": "markdown",
   "id": "fb6bb04e-bf2b-402b-972f-816494faefbc",
   "metadata": {},
   "source": [
    "Numpy assignment "
   ]
  },
  {
   "cell_type": "code",
   "execution_count": null,
   "id": "a7677e11-6d67-4213-9157-54e9a9767853",
   "metadata": {},
   "outputs": [],
   "source": []
  },
  {
   "cell_type": "code",
   "execution_count": null,
   "id": "243e93a9-9e5a-468c-9c63-0b711b07a318",
   "metadata": {},
   "outputs": [],
   "source": []
  },
  {
   "cell_type": "markdown",
   "id": "05ba873d-b847-4996-a84e-02a67743ed23",
   "metadata": {},
   "source": [
    "1. What is a Python library? Why do we use Python libraries?"
   ]
  },
  {
   "cell_type": "markdown",
   "id": "a0ddd668-ab4e-4770-833d-b41724c3a5eb",
   "metadata": {},
   "source": [
    "ans ==> A python library is a collection of pre-written code that provides function , classes,module,  \n",
    "        perform various kind of task and implement some data.\n",
    "\n",
    "\n",
    "        1.code reusability\n",
    "        2.community support\n",
    "        3.open source\n",
    "        4.easy to use\n",
    "        5 standardization"
   ]
  },
  {
   "cell_type": "markdown",
   "id": "ee37d5d0-556a-4481-bebc-59ba37da7a1d",
   "metadata": {},
   "source": [
    "#2. What is the difference between Numpy array and List?"
   ]
  },
  {
   "cell_type": "markdown",
   "id": "977efb25-2fe1-427e-81c3-d8a91009bf33",
   "metadata": {},
   "source": [
    "Numpy array --> all element in a numpy array must have \n",
    " same data type\n",
    "\n",
    "example --> np.array([1,23,2])\n",
    "\n",
    "\n",
    "list --> python store heterogenous data like boolean ,int, float,str,etc\n",
    "        list are slower when it ocmes in numerical operation because\n",
    "they implemented in python and more general purpose.\n",
    "\n",
    "example --> l [2,3,'Aryan','Yadav',True,2]"
   ]
  },
  {
   "cell_type": "markdown",
   "id": "021395c6-5d15-412d-82cf-8ebf2574ee63",
   "metadata": {},
   "source": [
    "3. Find the shape, size and dimension of the following array?\n",
    "\n",
    "[[1, 2, 3, 4]\n",
    "\n",
    "[5, 6, 7, 8],\n",
    "\n",
    "[9, 10, 11, 12]]"
   ]
  },
  {
   "cell_type": "code",
   "execution_count": 18,
   "id": "4f790ae8-959d-4c12-8d1a-6e4f3082c543",
   "metadata": {},
   "outputs": [],
   "source": [
    "import numpy as np\n",
    "arr = np.array([[1,2,3,4],\n",
    "               [5,6,7,8],\n",
    "               [9,10,11,12]])"
   ]
  },
  {
   "cell_type": "code",
   "execution_count": 19,
   "id": "98be9e43-ff7f-4dda-89f4-c875c746cb4a",
   "metadata": {},
   "outputs": [
    {
     "data": {
      "text/plain": [
       "(3, 4)"
      ]
     },
     "execution_count": 19,
     "metadata": {},
     "output_type": "execute_result"
    }
   ],
   "source": [
    "arr.shape"
   ]
  },
  {
   "cell_type": "code",
   "execution_count": 20,
   "id": "5cd7f08e-c7f9-4522-a168-9bcb5e1e9b5a",
   "metadata": {},
   "outputs": [
    {
     "data": {
      "text/plain": [
       "12"
      ]
     },
     "execution_count": 20,
     "metadata": {},
     "output_type": "execute_result"
    }
   ],
   "source": [
    "arr.size"
   ]
  },
  {
   "cell_type": "code",
   "execution_count": 21,
   "id": "f73bd8e7-dfb5-4712-8bd3-37b2962a14d0",
   "metadata": {},
   "outputs": [
    {
     "data": {
      "text/plain": [
       "2"
      ]
     },
     "execution_count": 21,
     "metadata": {},
     "output_type": "execute_result"
    }
   ],
   "source": [
    "arr.ndim"
   ]
  },
  {
   "cell_type": "markdown",
   "id": "e30afc19-fc36-4247-bc9a-cbc33943dfa6",
   "metadata": {},
   "source": [
    "4. Write python code to access the first row of the following array?\n",
    "\n",
    "[[1, 2, 3, 4]\n",
    "\n",
    "[5, 6, 7, 8],\n",
    "\n",
    "[9, 10, 11, 12]]\n",
    "\n"
   ]
  },
  {
   "cell_type": "code",
   "execution_count": 22,
   "id": "f3fa34fe-cfb3-4562-9456-37ea7c288fd5",
   "metadata": {},
   "outputs": [
    {
     "data": {
      "text/plain": [
       "array([1, 2, 3, 4])"
      ]
     },
     "execution_count": 22,
     "metadata": {},
     "output_type": "execute_result"
    }
   ],
   "source": [
    "firstRow = arr[0]\n",
    "firstRow"
   ]
  },
  {
   "cell_type": "markdown",
   "id": "42d3bbca-186a-483f-8686-e2d4ae104af1",
   "metadata": {},
   "source": [
    "5. How do you access the element at the third row and fourth column from the given numpy array?\n",
    "\n",
    "[[1, 2, 3, 4]\n",
    "\n",
    "[5, 6, 7, 8],\n",
    "\n",
    "[9, 10, 11, 12]]"
   ]
  },
  {
   "cell_type": "code",
   "execution_count": 23,
   "id": "a337f1b0-9ddf-4557-be37-516d03fb1755",
   "metadata": {},
   "outputs": [],
   "source": [
    "third_row_forth_col = arr[2,3]"
   ]
  },
  {
   "cell_type": "code",
   "execution_count": 24,
   "id": "5162d28b-b1d9-4cd4-929d-c4efc717d592",
   "metadata": {},
   "outputs": [
    {
     "data": {
      "text/plain": [
       "np.int64(12)"
      ]
     },
     "execution_count": 24,
     "metadata": {},
     "output_type": "execute_result"
    }
   ],
   "source": [
    "third_row_forth_col"
   ]
  },
  {
   "cell_type": "markdown",
   "id": "2a2c33ad-8259-44b3-942f-c8ceae860c06",
   "metadata": {},
   "source": [
    "\n",
    "6. Write code to extract all odd-indexed elements from the given numpy array?\n",
    "\n",
    "[[1, 2, 3, 4]\n",
    "\n",
    "[5, 6, 7, 8],\n",
    "\n",
    "[9, 10, 11, 12]]"
   ]
  },
  {
   "cell_type": "code",
   "execution_count": 25,
   "id": "ae653024-519c-4215-9991-f82577593c39",
   "metadata": {},
   "outputs": [
    {
     "name": "stdout",
     "output_type": "stream",
     "text": [
      "[[ 2  4]\n",
      " [ 6  8]\n",
      " [10 12]]\n"
     ]
    }
   ],
   "source": [
    "import numpy as np\n",
    "\n",
    "arr = np.array([[1, 2, 3, 4],\n",
    "                [5, 6, 7, 8],\n",
    "                [9, 10, 11, 12]])\n",
    "\n",
    "odd_indexed_elements = arr[:, 1::2] \n",
    "\n",
    "print(odd_indexed_elements)"
   ]
  },
  {
   "cell_type": "markdown",
   "id": "db68279a-4fba-424e-b606-2f7aa58816ad",
   "metadata": {},
   "source": [
    "7. How can you generate a random 3x3 matrix with values between 0 and 1?\n",
    "\n"
   ]
  },
  {
   "cell_type": "code",
   "execution_count": 26,
   "id": "33b4db03-f99b-4d97-a0c0-6b5a4de4f438",
   "metadata": {},
   "outputs": [
    {
     "data": {
      "text/plain": [
       "array([[0.1493756 , 0.2554915 , 0.60854244],\n",
       "       [0.25592679, 0.90267195, 0.24326119],\n",
       "       [0.69458633, 0.3734237 , 0.34543851]])"
      ]
     },
     "execution_count": 26,
     "metadata": {},
     "output_type": "execute_result"
    }
   ],
   "source": [
    "rand_matrix = np.random.rand(3,3)\n",
    "rand_matrix"
   ]
  },
  {
   "cell_type": "code",
   "execution_count": 27,
   "id": "40c9f41e-d419-4d4b-8c07-37240ee50083",
   "metadata": {},
   "outputs": [
    {
     "data": {
      "text/plain": [
       "array([[ 5, 13, 15],\n",
       "       [ 5, 14,  5],\n",
       "       [13, 18, 18]])"
      ]
     },
     "execution_count": 27,
     "metadata": {},
     "output_type": "execute_result"
    }
   ],
   "source": [
    "rInt_matrix = np.random.randint(low = 0,high = 20,size = (3,3))\n",
    "rInt_matrix"
   ]
  },
  {
   "cell_type": "markdown",
   "id": "5e192f3b-07e3-4b2a-9358-7bcad7816eba",
   "metadata": {},
   "source": [
    "8. Describe the difference between np.random.rand and np.random.randn?\n"
   ]
  },
  {
   "cell_type": "markdown",
   "id": "3fa6fe76-2a52-4898-a6d2-37d22a24f50f",
   "metadata": {},
   "source": [
    "1. --> Use np.random.rand when you need random numbers \n",
    "that are equally likely to occur within a specific range.\n",
    "\n",
    "2. --> Use np.random.randn when you need random numbers that\n",
    "are more likely to be close to the mean and less likely to be far from it."
   ]
  },
  {
   "cell_type": "markdown",
   "id": "d1e0dbc3-120c-43e7-a5c1-69060e002aed",
   "metadata": {},
   "source": [
    "9. Write code to increase the dimension of the following array?\n",
    "\n",
    "[[1, 2, 3, 4]\n",
    "\n",
    "[5, 6, 7, 8],\n",
    "\n",
    "[9, 10, 11, 12]]\n",
    "\n"
   ]
  },
  {
   "cell_type": "code",
   "execution_count": 28,
   "id": "67ea1f02-26f3-4313-a1c6-8c803df57b5e",
   "metadata": {},
   "outputs": [
    {
     "data": {
      "text/plain": [
       "array([[[ 1,  2,  3,  4],\n",
       "        [ 5,  6,  7,  8],\n",
       "        [ 9, 10, 11, 12]]])"
      ]
     },
     "execution_count": 28,
     "metadata": {},
     "output_type": "execute_result"
    }
   ],
   "source": [
    "expand_arr = np.expand_dims(arr,axis = 0)\n",
    "expand_arr"
   ]
  },
  {
   "cell_type": "code",
   "execution_count": 29,
   "id": "88315efd-f374-4afb-a6da-3d38caa9d139",
   "metadata": {},
   "outputs": [
    {
     "data": {
      "text/plain": [
       "3"
      ]
     },
     "execution_count": 29,
     "metadata": {},
     "output_type": "execute_result"
    }
   ],
   "source": [
    "expand_arr.ndim"
   ]
  },
  {
   "cell_type": "markdown",
   "id": "ff5ffd7d-d3a4-46df-b6bc-860f907b6943",
   "metadata": {},
   "source": [
    ". How to transpose the following array in NumPy?\n",
    "\n",
    "[[1, 2, 3, 4]\n",
    "\n",
    "[5, 6, 7, 8],\n",
    "\n",
    "[9, 10, 11, 12]]"
   ]
  },
  {
   "cell_type": "code",
   "execution_count": 30,
   "id": "0d3a9727-0d36-4b14-8b15-7cf29d70c8d2",
   "metadata": {},
   "outputs": [
    {
     "data": {
      "text/plain": [
       "array([[ 1,  5,  9],\n",
       "       [ 2,  6, 10],\n",
       "       [ 3,  7, 11],\n",
       "       [ 4,  8, 12]])"
      ]
     },
     "execution_count": 30,
     "metadata": {},
     "output_type": "execute_result"
    }
   ],
   "source": [
    "# i would use T attribute for transpose the array\n",
    "transpose = arr.T\n",
    "transpose"
   ]
  },
  {
   "cell_type": "markdown",
   "id": "9e8e6853-d49f-44cd-874d-e64a3bbd08d7",
   "metadata": {},
   "source": [
    " 11. Consider the following matrix:\n",
    "\n",
    "Matrix A: [[1, 2, 3, 4] [5, 6, 7, 8],[9, 10, 11, 12]]\n",
    "\n",
    "Matrix B: [[1, 2, 3, 4] [5, 6, 7, 8],[9, 10, 11, 12]]\n",
    "\n",
    "\n",
    "Perform the following operation using Python\n",
    "1,+ Index wise multiplicatio'\n",
    "2.Matrix multiplicatio'\n",
    "3.Add both the matricK\n",
    "4.Subtract matrix B from \n",
    "5. Divide Matrix B by A"
   ]
  },
  {
   "cell_type": "code",
   "execution_count": 31,
   "id": "038b47f3-9449-4d80-8d91-905cebfdca88",
   "metadata": {},
   "outputs": [],
   "source": [
    "matrix1 = np.array([[1,2,3,4],\n",
    "                    [5,6,7,8],\n",
    "                    [9,10,11,12]])\n",
    "\n"
   ]
  },
  {
   "cell_type": "code",
   "execution_count": 32,
   "id": "7f191d71-478d-4db1-97b0-58cd7024afc3",
   "metadata": {},
   "outputs": [
    {
     "data": {
      "text/plain": [
       "array([[ 1,  2,  3,  4],\n",
       "       [ 5,  6,  7,  8],\n",
       "       [ 9, 10, 11, 12]])"
      ]
     },
     "execution_count": 32,
     "metadata": {},
     "output_type": "execute_result"
    }
   ],
   "source": [
    "matrix1"
   ]
  },
  {
   "cell_type": "code",
   "execution_count": 33,
   "id": "5debfc25-612c-4f3e-a2a4-74a2556d0a6b",
   "metadata": {},
   "outputs": [],
   "source": [
    "matrix2 = np.array([[1,2,3,4],\n",
    "                    [5,6,7,8],\n",
    "                    [9,10,11,12]])\n"
   ]
  },
  {
   "cell_type": "code",
   "execution_count": 34,
   "id": "d6d4f64c-1774-4478-b635-ae0dd302017f",
   "metadata": {},
   "outputs": [
    {
     "data": {
      "text/plain": [
       "array([[  1,   4,   9,  16],\n",
       "       [ 25,  36,  49,  64],\n",
       "       [ 81, 100, 121, 144]])"
      ]
     },
     "execution_count": 34,
     "metadata": {},
     "output_type": "execute_result"
    }
   ],
   "source": [
    "# index wise mulitplication\n",
    "mult = matrix1*matrix2\n",
    "mult"
   ]
  },
  {
   "cell_type": "code",
   "execution_count": 35,
   "id": "11bb0072-b45d-4e56-b74c-c4c66a03d7be",
   "metadata": {},
   "outputs": [
    {
     "data": {
      "text/plain": [
       "array([[ 30,  70, 110],\n",
       "       [ 70, 174, 278],\n",
       "       [110, 278, 446]])"
      ]
     },
     "execution_count": 35,
     "metadata": {},
     "output_type": "execute_result"
    }
   ],
   "source": [
    "mtx_mlt = np.dot(matrix1,matrix2.T)\n",
    "mtx_mlt"
   ]
  },
  {
   "cell_type": "code",
   "execution_count": 36,
   "id": "1658b323-a1e4-43c2-b166-702d11191682",
   "metadata": {},
   "outputs": [
    {
     "data": {
      "text/plain": [
       "array([[ 2,  4,  6,  8],\n",
       "       [10, 12, 14, 16],\n",
       "       [18, 20, 22, 24]])"
      ]
     },
     "execution_count": 36,
     "metadata": {},
     "output_type": "execute_result"
    }
   ],
   "source": [
    "# add both matrix\n",
    "add = matrix1+matrix2\n",
    "add"
   ]
  },
  {
   "cell_type": "code",
   "execution_count": 37,
   "id": "a43bc54a-5a7d-404f-86a9-f2910cf0f6dd",
   "metadata": {},
   "outputs": [
    {
     "data": {
      "text/plain": [
       "array([[0, 0, 0, 0],\n",
       "       [0, 0, 0, 0],\n",
       "       [0, 0, 0, 0]])"
      ]
     },
     "execution_count": 37,
     "metadata": {},
     "output_type": "execute_result"
    }
   ],
   "source": [
    "sub = matrix1-matrix2\n",
    "sub"
   ]
  },
  {
   "cell_type": "code",
   "execution_count": 38,
   "id": "82a8a547-c63c-4dff-beb0-d83a776e9b6e",
   "metadata": {},
   "outputs": [
    {
     "data": {
      "text/plain": [
       "array([[1., 1., 1., 1.],\n",
       "       [1., 1., 1., 1.],\n",
       "       [1., 1., 1., 1.]])"
      ]
     },
     "execution_count": 38,
     "metadata": {},
     "output_type": "execute_result"
    }
   ],
   "source": [
    "div =matrix1/matrix2\n",
    "div"
   ]
  },
  {
   "cell_type": "markdown",
   "id": "be80ce71-0809-4d38-8820-e78a37d7a1fe",
   "metadata": {},
   "source": [
    "12.  Which function in Numpy can be used to swap the byte order of an array?"
   ]
  },
  {
   "cell_type": "markdown",
   "id": "d230ef19-4f79-4de2-a93f-75569f231793",
   "metadata": {},
   "source": [
    "numpy.ndarray.byteswap(inplace=False)\n",
    "this function use to swap the byte order of an array\n"
   ]
  },
  {
   "cell_type": "code",
   "execution_count": null,
   "id": "188208a3-df21-4b3f-a847-c80f94ab1250",
   "metadata": {},
   "outputs": [],
   "source": []
  },
  {
   "cell_type": "markdown",
   "id": "42b0ca8d-42c2-4b87-9bfa-640d90e5dc4e",
   "metadata": {},
   "source": [
    "13.  What is the significance of the np.linalg.inv function?"
   ]
  },
  {
   "cell_type": "markdown",
   "id": "33fd7748-a314-471a-9780-97ee4d0a44f0",
   "metadata": {},
   "source": [
    "The np.linalg.inv() function in NumPy is used to compute the inverse of a given square matrix."
   ]
  },
  {
   "cell_type": "code",
   "execution_count": null,
   "id": "2317ac83-4ff3-4cae-a125-eae149e0c23e",
   "metadata": {},
   "outputs": [],
   "source": []
  },
  {
   "cell_type": "markdown",
   "id": "cab5063d-a36d-4816-85ef-540e7b48b2b8",
   "metadata": {},
   "source": [
    "14. What does the np.reshape function do, and how is it used?"
   ]
  },
  {
   "cell_type": "markdown",
   "id": "7ef2f59b-ae11-437c-9045-699d677b891a",
   "metadata": {},
   "source": [
    "\n",
    "The np.reshape() function in NumPy is used to change the shape or dimensions of an existing NumPy array without changing its data."
   ]
  },
  {
   "cell_type": "code",
   "execution_count": null,
   "id": "90edb6cd-a13f-4c26-b0d6-9f87c6fdb10a",
   "metadata": {},
   "outputs": [],
   "source": []
  },
  {
   "cell_type": "markdown",
   "id": "0878a2ff-99db-4b73-bb88-26286a9ea744",
   "metadata": {},
   "source": [
    "15. What is broadcasting in Numpy?"
   ]
  },
  {
   "cell_type": "markdown",
   "id": "96055698-e8a4-450d-b497-ba8e3e4d13d0",
   "metadata": {},
   "source": [
    "broadcasting allows NumPy to perform operations on arrays of different shapes by automatically adjusting their sizes to match."
   ]
  },
  {
   "cell_type": "code",
   "execution_count": null,
   "id": "99854ebe-86ca-4cd0-b3d6-b9afbfb2bced",
   "metadata": {},
   "outputs": [],
   "source": []
  },
  {
   "cell_type": "code",
   "execution_count": null,
   "id": "92bbede0-7c00-4b50-b668-40080d2513cc",
   "metadata": {},
   "outputs": [],
   "source": []
  },
  {
   "cell_type": "code",
   "execution_count": null,
   "id": "80d7813b-2127-466a-bc8f-6a75773d83ee",
   "metadata": {},
   "outputs": [],
   "source": []
  },
  {
   "cell_type": "code",
   "execution_count": null,
   "id": "9d76eae5-b294-4adb-bc97-e12a8bcb7e32",
   "metadata": {},
   "outputs": [],
   "source": []
  },
  {
   "cell_type": "code",
   "execution_count": null,
   "id": "36b07350-de60-4532-9280-ffa18a0a47e0",
   "metadata": {},
   "outputs": [],
   "source": []
  },
  {
   "cell_type": "code",
   "execution_count": null,
   "id": "102a9f50-ea5c-4c45-a37c-60dfa5bd9b2b",
   "metadata": {},
   "outputs": [],
   "source": []
  }
 ],
 "metadata": {
  "kernelspec": {
   "display_name": "Python 3 (ipykernel)",
   "language": "python",
   "name": "python3"
  },
  "language_info": {
   "codemirror_mode": {
    "name": "ipython",
    "version": 3
   },
   "file_extension": ".py",
   "mimetype": "text/x-python",
   "name": "python",
   "nbconvert_exporter": "python",
   "pygments_lexer": "ipython3",
   "version": "3.12.8"
  }
 },
 "nbformat": 4,
 "nbformat_minor": 5
}
