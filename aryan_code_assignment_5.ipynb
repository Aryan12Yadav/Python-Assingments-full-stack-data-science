{
 "cells": [
  {
   "cell_type": "markdown",
   "id": "784dfa94",
   "metadata": {},
   "source": [
    "# Assignment 6"
   ]
  },
  {
   "cell_type": "markdown",
   "id": "afdd7db4",
   "metadata": {},
   "source": [
    "Problem 1:      Bank Account Create a class representing a bank account with attributes like account number, account holder name, and balance. Implement methods to deposit and withdraw money from the account.\n",
    "\n"
   ]
  },
  {
   "cell_type": "code",
   "execution_count": 12,
   "id": "4a8bdc53",
   "metadata": {},
   "outputs": [],
   "source": [
    "class Bank:\n",
    "    \n",
    "    def __init__(self,account_number,account_holder_name,):\n",
    "        self.account_number = account_number\n",
    "        self.account_holder_name = account_holder_name\n",
    "    \n",
    "    def your_acc_num(self):\n",
    "        return self.account_number\n",
    "    \n",
    "    def beneficiary_name(self):\n",
    "        return self.account_holder_name  ,\"for balance enter the yes \"\n",
    "    \n",
    "    def get_balance(self,yes):\n",
    "        return \"your current balance is Rs 870028.343 \""
   ]
  },
  {
   "cell_type": "code",
   "execution_count": 13,
   "id": "49da4779",
   "metadata": {},
   "outputs": [],
   "source": [
    "get = Bank(\"896758483\",\"Saxena\")"
   ]
  },
  {
   "cell_type": "code",
   "execution_count": 14,
   "id": "d2e08a3b",
   "metadata": {},
   "outputs": [
    {
     "data": {
      "text/plain": [
       "'896758483'"
      ]
     },
     "execution_count": 14,
     "metadata": {},
     "output_type": "execute_result"
    }
   ],
   "source": [
    "get.your_acc_num()"
   ]
  },
  {
   "cell_type": "code",
   "execution_count": 15,
   "id": "42342bab",
   "metadata": {},
   "outputs": [
    {
     "data": {
      "text/plain": [
       "('Saxena', 'for balance enter the yes ')"
      ]
     },
     "execution_count": 15,
     "metadata": {},
     "output_type": "execute_result"
    }
   ],
   "source": [
    "get.beneficiary_name()"
   ]
  },
  {
   "cell_type": "code",
   "execution_count": 16,
   "id": "57833c00",
   "metadata": {},
   "outputs": [
    {
     "data": {
      "text/plain": [
       "'your current balance is Rs 870028.343 '"
      ]
     },
     "execution_count": 16,
     "metadata": {},
     "output_type": "execute_result"
    }
   ],
   "source": [
    "get.get_balance(\"yes\")"
   ]
  },
  {
   "cell_type": "code",
   "execution_count": 67,
   "id": "a8874ea9",
   "metadata": {},
   "outputs": [],
   "source": [
    "class Bank:\n",
    "    def __init__(self):\n",
    "        self.current_balance = 0 # init funtion does not use return function\n",
    "        print (\"your account has been created.\")\n",
    "    \n",
    "    def deposite_money(self):\n",
    "        deposited = float(input(\"Enter the depositing amount:\"))\n",
    "        self.current_balance = self.current_balance+deposited\n",
    "        print (\"your credited amount is\", {deposited},\" and current balance is \",  self.current_balance)\n",
    "        \n",
    "    def withdraw_amount(self):\n",
    "        withdraw  = float(input(\"Enter the withdrawing money : \"))\n",
    "        if self.current_balance >= withdraw:\n",
    "            self.current_balance = self.current_balance - withdraw\n",
    "            print (\"you debited amount is \",{withdraw} ,\"and current  balance is %f\" % self.current_balance) \n",
    "        else:                                                    #\"%f % ke place pr comma bhi laga skte hai\"\n",
    "            print (\"your account is not have sufficient balance .\")\n",
    "    def enquiry_account(self):\n",
    "        return \"yours current balance is ==\" , self.current_balance"
   ]
  },
  {
   "cell_type": "code",
   "execution_count": 68,
   "id": "f5b8c771",
   "metadata": {},
   "outputs": [
    {
     "name": "stdout",
     "output_type": "stream",
     "text": [
      "your account has been created.\n"
     ]
    }
   ],
   "source": [
    "account = Bank()"
   ]
  },
  {
   "cell_type": "code",
   "execution_count": 69,
   "id": "e53a83c8",
   "metadata": {},
   "outputs": [
    {
     "name": "stdout",
     "output_type": "stream",
     "text": [
      "Enter the depositing amount:56.4\n",
      "your credited amount is {56.4}  and current balance is  56.4\n"
     ]
    }
   ],
   "source": [
    "account.deposite_money()"
   ]
  },
  {
   "cell_type": "code",
   "execution_count": 70,
   "id": "1aa29fb6",
   "metadata": {},
   "outputs": [
    {
     "name": "stdout",
     "output_type": "stream",
     "text": [
      "Enter the withdrawing money : 45.78\n",
      "you debited amount is  {45.78} and current  balance is 10.620000\n"
     ]
    }
   ],
   "source": [
    "account.withdraw_amount()"
   ]
  },
  {
   "cell_type": "code",
   "execution_count": 71,
   "id": "883c402f",
   "metadata": {},
   "outputs": [
    {
     "data": {
      "text/plain": [
       "('yours current balance is ==', 10.619999999999997)"
      ]
     },
     "execution_count": 71,
     "metadata": {},
     "output_type": "execute_result"
    }
   ],
   "source": [
    "account.enquiry_account()"
   ]
  },
  {
   "cell_type": "markdown",
   "id": "2a401b82",
   "metadata": {},
   "source": [
    "Problem 2: Employee Management Create a class representing an employee with attributes like employee ID, name, and salary. Implement methods to calculate the yearly bonus and display employee details."
   ]
  },
  {
   "cell_type": "code",
   "execution_count": 201,
   "id": "bb8e906d",
   "metadata": {},
   "outputs": [],
   "source": [
    "class Employee_management:\n",
    "    \n",
    "    def __init__(self,employee_Id,name,salary):\n",
    "        self.employe_id = employee_Id\n",
    "        self.name =  name\n",
    "        self.employe_salary = salary\n",
    "        self.bonus = 32000\n",
    "        \n",
    "    def employee_detail(self):\n",
    "        return self.employe_id  ,self.name\n",
    "    \n",
    "    def emplye_monthly_salary(self):\n",
    "        return \"the monthly salary is \"  ,self.employe_salary\n",
    "    \n",
    "    def employe_bonus(self):\n",
    "        return  self.bonus\n",
    "    def employe_details(self):\n",
    "        return self.employe_id ,self.name, self.employe_salary , self.bonus "
   ]
  },
  {
   "cell_type": "code",
   "execution_count": 202,
   "id": "2dc3b9b1",
   "metadata": {},
   "outputs": [],
   "source": [
    "engineer = Employee_management(2938,\"sumit singh\",93800)"
   ]
  },
  {
   "cell_type": "code",
   "execution_count": 203,
   "id": "cb157a3b",
   "metadata": {},
   "outputs": [
    {
     "data": {
      "text/plain": [
       "(2938, 'sumit singh')"
      ]
     },
     "execution_count": 203,
     "metadata": {},
     "output_type": "execute_result"
    }
   ],
   "source": [
    "engineer.employee_detail()"
   ]
  },
  {
   "cell_type": "code",
   "execution_count": 204,
   "id": "a535d029",
   "metadata": {},
   "outputs": [
    {
     "data": {
      "text/plain": [
       "('the monthly salary is ', 93800)"
      ]
     },
     "execution_count": 204,
     "metadata": {},
     "output_type": "execute_result"
    }
   ],
   "source": [
    "engineer.emplye_monthly_salary()"
   ]
  },
  {
   "cell_type": "code",
   "execution_count": 205,
   "id": "27c3b813",
   "metadata": {},
   "outputs": [
    {
     "data": {
      "text/plain": [
       "method"
      ]
     },
     "execution_count": 205,
     "metadata": {},
     "output_type": "execute_result"
    }
   ],
   "source": [
    "type(engineer.employe_bonus)"
   ]
  },
  {
   "cell_type": "code",
   "execution_count": 206,
   "id": "a8720b93",
   "metadata": {},
   "outputs": [
    {
     "data": {
      "text/plain": [
       "32000"
      ]
     },
     "execution_count": 206,
     "metadata": {},
     "output_type": "execute_result"
    }
   ],
   "source": [
    "engineer.employe_bonus()"
   ]
  },
  {
   "cell_type": "code",
   "execution_count": 207,
   "id": "993fb7b9",
   "metadata": {},
   "outputs": [
    {
     "data": {
      "text/plain": [
       "(2938, 'sumit singh', 93800, 32000)"
      ]
     },
     "execution_count": 207,
     "metadata": {},
     "output_type": "execute_result"
    }
   ],
   "source": [
    "engineer.employe_details()"
   ]
  },
  {
   "cell_type": "markdown",
   "id": "e597c2ef",
   "metadata": {},
   "source": [
    "Problem 3: Vehicle Rental Create a class representing a vehicle rental system. Implement methods to rent a vehicle, return a vehicle, and display available vehicles."
   ]
  },
  {
   "cell_type": "code",
   "execution_count": 5,
   "id": "4f5a2fd6",
   "metadata": {},
   "outputs": [],
   "source": [
    "class check_vehicle:\n",
    "    \n",
    "    def __init__(self):\n",
    "        self.available_Vehicle = 0\n",
    "        print(\"now i will check the data of the vehicles \")\n",
    "        \n",
    "    def aviable_veh(self):\n",
    "        self.available_Vehicle = int(input(\" Enter no of vehicle \"))\n",
    "        return self.available_Vehicle\n",
    "    \n",
    "    def rented_vehicle(self):\n",
    "        vehicle = int(input(\"Enter the input : \"))\n",
    "        self.available_Vehicle = self.available_Vehicle-vehicle\n",
    "        return \"the available vehicle is \", self.available_Vehicle , \"rented vehicle = \",vehicle\n",
    "    \n",
    "    def returned_vehicle(self):\n",
    "        returns = int(input(\"Enter the input ; \"))\n",
    "        self.available_Vehicle+returns\n",
    "        return \"available vehicle is \",self.available_Vehicle,\"returned vehicle is \",returns\n",
    "    "
   ]
  },
  {
   "cell_type": "code",
   "execution_count": 6,
   "id": "189a8327",
   "metadata": {},
   "outputs": [
    {
     "name": "stdout",
     "output_type": "stream",
     "text": [
      "now i will check the data of the vehicles \n"
     ]
    }
   ],
   "source": [
    "agency = check_vehicle()       # comma works as a or ii"
   ]
  },
  {
   "cell_type": "code",
   "execution_count": 7,
   "id": "26cab4bf",
   "metadata": {},
   "outputs": [
    {
     "name": "stdout",
     "output_type": "stream",
     "text": [
      " Enter no of vehicle 98\n"
     ]
    },
    {
     "data": {
      "text/plain": [
       "98"
      ]
     },
     "execution_count": 7,
     "metadata": {},
     "output_type": "execute_result"
    }
   ],
   "source": [
    "agency.aviable_veh()"
   ]
  },
  {
   "cell_type": "code",
   "execution_count": 8,
   "id": "1cd3bac5",
   "metadata": {},
   "outputs": [
    {
     "name": "stdout",
     "output_type": "stream",
     "text": [
      "Enter the input : 44\n"
     ]
    },
    {
     "data": {
      "text/plain": [
       "('the available vehicle is ', 54, 'rented vehicle = ', 44)"
      ]
     },
     "execution_count": 8,
     "metadata": {},
     "output_type": "execute_result"
    }
   ],
   "source": [
    "agency.rented_vehicle()"
   ]
  },
  {
   "cell_type": "code",
   "execution_count": 9,
   "id": "9c572ca0",
   "metadata": {},
   "outputs": [
    {
     "name": "stdout",
     "output_type": "stream",
     "text": [
      "Enter the input ; 32\n"
     ]
    },
    {
     "data": {
      "text/plain": [
       "('available vehicle is ', 54, 'returned vehicle is ', 32)"
      ]
     },
     "execution_count": 9,
     "metadata": {},
     "output_type": "execute_result"
    }
   ],
   "source": [
    "agency.returned_vehicle()"
   ]
  },
  {
   "cell_type": "markdown",
   "id": "ce507645",
   "metadata": {},
   "source": [
    "Problem 4: Library Catalog Create classes representing a library and a book. Implement methods to add books to the library, borrow books, and display available books."
   ]
  },
  {
   "cell_type": "code",
   "execution_count": 30,
   "id": "a92a2e29",
   "metadata": {},
   "outputs": [],
   "source": [
    "class Library:\n",
    "    \n",
    "    def __init__(self):\n",
    "        self.available_books = int(input(\"Enter the available books : \"))\n",
    "        print(\"the available books are=  \",self.available_books)\n",
    "        \n",
    "    def borrow_books(self):\n",
    "        borrow = int(input(\"borrow books : \"))\n",
    "        self.available_books= self.available_books - borrow\n",
    "        return \"the borrwed books are \",borrow , \"and available are \", self.available_books\n",
    "    \n",
    "    def add_books(self):\n",
    "        add  = int(input(\" Enter the number of books that you wants to add :  \"))\n",
    "        self.available_books = self.available_books + add\n",
    "        print(\"the adding  books are  \", add)\n",
    "        print(\" the available books are : \", self.available_books)"
   ]
  },
  {
   "cell_type": "code",
   "execution_count": 31,
   "id": "d4e9c8e1",
   "metadata": {},
   "outputs": [
    {
     "name": "stdout",
     "output_type": "stream",
     "text": [
      "Enter the available books : 456\n",
      "the available books are=   456\n"
     ]
    }
   ],
   "source": [
    "study = Library()"
   ]
  },
  {
   "cell_type": "code",
   "execution_count": 32,
   "id": "64611ce3",
   "metadata": {},
   "outputs": [
    {
     "name": "stdout",
     "output_type": "stream",
     "text": [
      "borrow books : 78\n"
     ]
    },
    {
     "data": {
      "text/plain": [
       "('the borrwed books are ', 78, 'and available are ', 378)"
      ]
     },
     "execution_count": 32,
     "metadata": {},
     "output_type": "execute_result"
    }
   ],
   "source": [
    "study.borrow_books()"
   ]
  },
  {
   "cell_type": "code",
   "execution_count": 33,
   "id": "68853256",
   "metadata": {},
   "outputs": [
    {
     "name": "stdout",
     "output_type": "stream",
     "text": [
      " Enter the number of books that you wants to add :  6\n",
      "the adding  books are   6\n",
      " the available books are :  384\n"
     ]
    }
   ],
   "source": [
    "study.add_books()"
   ]
  },
  {
   "cell_type": "markdown",
   "id": "263339d3",
   "metadata": {},
   "source": [
    "Problem 5: Product Inventory Create classes representing a product and an inventory system. Implement methods to add products to the inventory, update product quantity, and display available products."
   ]
  },
  {
   "cell_type": "code",
   "execution_count": 13,
   "id": "00f63388",
   "metadata": {},
   "outputs": [
    {
     "name": "stdout",
     "output_type": "stream",
     "text": [
      "Enter the items : 6435\n",
      "the available items in the inventory are  6435\n"
     ]
    }
   ],
   "source": [
    "class My_inventary:\n",
    "    \n",
    "    def __init__(self):\n",
    "        products = int(input(\"Enter the items : \"))\n",
    "        self.available_products = products\n",
    "        print(\"the available items in the inventory are \", self.available_products)\n",
    "        \n",
    "    def add_product(self):\n",
    "        items = int(input(\"Enter the items to add in the inventory : \"))\n",
    "        self.available_products = self.available_products+items\n",
    "        return \"the addition items in the inventory are : \",items\n",
    "    \n",
    "    def update_product(self):\n",
    "        return \"the product quantity are : \" ,self.available_products\n",
    "    \n",
    "    def available_product(self):\n",
    "        return \"the available products are : \" , self.available_products\n",
    "shop = My_inventary()\n",
    " "
   ]
  },
  {
   "cell_type": "code",
   "execution_count": 14,
   "id": "9ac6c865",
   "metadata": {},
   "outputs": [
    {
     "name": "stdout",
     "output_type": "stream",
     "text": [
      "Enter the items to add in the inventory : 89\n"
     ]
    },
    {
     "data": {
      "text/plain": [
       "('the addition items in the inventory are : ', 89)"
      ]
     },
     "execution_count": 14,
     "metadata": {},
     "output_type": "execute_result"
    }
   ],
   "source": [
    "shop.add_product()"
   ]
  },
  {
   "cell_type": "code",
   "execution_count": 15,
   "id": "71f66ae7",
   "metadata": {},
   "outputs": [
    {
     "data": {
      "text/plain": [
       "('the product quantity are : ', 6524)"
      ]
     },
     "execution_count": 15,
     "metadata": {},
     "output_type": "execute_result"
    }
   ],
   "source": [
    "shop.update_product()"
   ]
  },
  {
   "cell_type": "code",
   "execution_count": 16,
   "id": "0bdc17de",
   "metadata": {},
   "outputs": [
    {
     "data": {
      "text/plain": [
       "('the available products are : ', 6524)"
      ]
     },
     "execution_count": 16,
     "metadata": {},
     "output_type": "execute_result"
    }
   ],
   "source": [
    "shop.available_product()"
   ]
  },
  {
   "cell_type": "markdown",
   "id": "a768ea65",
   "metadata": {},
   "source": [
    "Problem 6: Shape Calculation Create a class representing a shape with attributes like length, width, and height. Implement methods to calculate the area and perimeter of the shape."
   ]
  },
  {
   "cell_type": "markdown",
   "id": "dc285d4f",
   "metadata": {},
   "source": [
    "# chatgpt answer"
   ]
  },
  {
   "cell_type": "code",
   "execution_count": 1,
   "id": "a2a842d1",
   "metadata": {},
   "outputs": [
    {
     "name": "stdout",
     "output_type": "stream",
     "text": [
      "Rectangle Area: 50\n",
      "Rectangle Perimeter: 30\n",
      "Square Area: None\n",
      "Square Perimeter: None\n",
      "Triangle Area: 6.0\n",
      "Triangle Perimeter: 12\n"
     ]
    }
   ],
   "source": [
    "class Shape:\n",
    "    def __init__(self, length=0, width=0, height=0):\n",
    "        self.length = length\n",
    "        self.width = width\n",
    "        self.height = height\n",
    "\n",
    "    def calculate_area(self):\n",
    "        pass  # To be implemented in subclasses\n",
    "\n",
    "    def calculate_perimeter(self):\n",
    "        pass  # To be implemented in subclasses\n",
    "\n",
    "class Rectangle(Shape):\n",
    "    def calculate_area(self):\n",
    "        return self.length * self.width\n",
    "\n",
    "    def calculate_perimeter(self):\n",
    "        return 2 * (self.length + self.width)\n",
    "\n",
    "class Square(Shape):\n",
    "    def __init__(self, side):\n",
    "        super().__init__(side, side)\n",
    "\n",
    "class Triangle(Shape):\n",
    "    def calculate_area(self):\n",
    "        # Using Heron's formula to calculate the area of a triangle\n",
    "        s = (self.length + self.width + self.height) / 2\n",
    "        return (s * (s - self.length) * (s - self.width) * (s - self.height)) ** 0.5\n",
    "\n",
    "    def calculate_perimeter(self):\n",
    "        return self.length + self.width + self.height\n",
    "\n",
    "# Example usage:\n",
    "rectangle = Rectangle(5, 10)\n",
    "print(\"Rectangle Area:\", rectangle.calculate_area())\n",
    "print(\"Rectangle Perimeter:\", rectangle.calculate_perimeter())\n",
    "\n",
    "square = Square(7)\n",
    "print(\"Square Area:\", square.calculate_area())\n",
    "print(\"Square Perimeter:\", square.calculate_perimeter())\n",
    "\n",
    "triangle = Triangle(3, 4, 5)\n",
    "print(\"Triangle Area:\", triangle.calculate_area())\n",
    "print(\"Triangle Perimeter:\", triangle.calculate_perimeter())\n"
   ]
  },
  {
   "cell_type": "markdown",
   "id": "dacf6127",
   "metadata": {},
   "source": [
    "### my answer"
   ]
  },
  {
   "cell_type": "code",
   "execution_count": 2,
   "id": "4bbc8964",
   "metadata": {},
   "outputs": [],
   "source": [
    "class display:\n",
    "    \n",
    "    def __init__(self,length,breadth,height):\n",
    "        self.length = length\n",
    "        self.breadth = breadth\n",
    "        self.height = height\n",
    "        \n",
    "        \n",
    "    def display(self):\n",
    "            print(\"length = \" , self.length)\n",
    "            print(\"Breadth\",self.breadth)\n",
    "            print(\"Height\" , self.height)\n",
    "    \n",
    "    def Perimeter_of_rectangle(self):\n",
    "        print(\"the perimeter of rectangle is \" ,2*self.length+2*self.breadth)\n",
    "        \n",
    "    def perimeter_of_square(self):\n",
    "        print(\"the perimeter of square is ; \" , 4*self.length)\n",
    "        \n",
    "    def perimeter_of_cube(self):\n",
    "        print(\"the perimeter of cube is : \",6*(self.length)**2)\n",
    "        \n",
    "        \n",
    "    def perimeter_of_cuboid(self):\n",
    "        print(\"the perimeter of cuboid is : \" , 2*(self.length*self.breadth)+(self.breadth*self.height)+(self.height*self.length))\n",
    "        \n",
    "\n"
   ]
  },
  {
   "cell_type": "code",
   "execution_count": 3,
   "id": "b04d7cea",
   "metadata": {},
   "outputs": [
    {
     "name": "stdout",
     "output_type": "stream",
     "text": [
      "Enter the length: \n"
     ]
    },
    {
     "ename": "ValueError",
     "evalue": "invalid literal for int() with base 10: ''",
     "output_type": "error",
     "traceback": [
      "\u001b[1;31m---------------------------------------------------------------------------\u001b[0m",
      "\u001b[1;31mValueError\u001b[0m                                Traceback (most recent call last)",
      "Cell \u001b[1;32mIn[3], line 1\u001b[0m\n\u001b[1;32m----> 1\u001b[0m l \u001b[38;5;241m=\u001b[39m \u001b[38;5;28mint\u001b[39m(\u001b[38;5;28minput\u001b[39m(\u001b[38;5;124m\"\u001b[39m\u001b[38;5;124mEnter the length: \u001b[39m\u001b[38;5;124m\"\u001b[39m))\n\u001b[0;32m      2\u001b[0m b \u001b[38;5;241m=\u001b[39m \u001b[38;5;28mint\u001b[39m(\u001b[38;5;28minput\u001b[39m(\u001b[38;5;124m\"\u001b[39m\u001b[38;5;124mEnter the breadth : \u001b[39m\u001b[38;5;124m\"\u001b[39m))\n\u001b[0;32m      3\u001b[0m h \u001b[38;5;241m=\u001b[39m \u001b[38;5;28mint\u001b[39m(\u001b[38;5;28minput\u001b[39m(\u001b[38;5;124m\"\u001b[39m\u001b[38;5;124mEnter the height : \u001b[39m\u001b[38;5;124m\"\u001b[39m))\n",
      "\u001b[1;31mValueError\u001b[0m: invalid literal for int() with base 10: ''"
     ]
    }
   ],
   "source": [
    "l = int(input(\"Enter the length: \"))\n",
    "b = int(input(\"Enter the breadth : \"))\n",
    "h = int(input(\"Enter the height : \"))\n",
    "\n",
    "find = display(l,b,h)\n",
    "\n",
    "find.display()\n",
    "    \n",
    "    \n",
    "print(\"\")\n",
    "print(find.Perimeter_of_rectangle())\n",
    "print(\"\")\n",
    "print(find.perimeter_of_square())\n",
    "print(\"\")\n",
    "print(find.perimeter_of_cube())\n",
    "print(\"\")\n",
    "print(find.perimeter_of_cuboid())\n"
   ]
  },
  {
   "cell_type": "markdown",
   "id": "791d90d2",
   "metadata": {},
   "source": [
    "Problem 7: Student Management Create a class representing a student with attributes like student ID, name, and grades. Implement methods to calculate the average grade and display student details."
   ]
  },
  {
   "cell_type": "code",
   "execution_count": 4,
   "id": "dc2428ca",
   "metadata": {},
   "outputs": [],
   "source": [
    "class Students:\n",
    "    \n",
    "    def __init__(self,Id,name,grade):\n",
    "        self.Id = Id\n",
    "        self.name = name\n",
    "        self.grade = grade\n",
    "    \n",
    "    def std_grade(self):\n",
    "        if self.grade==[]:\n",
    "            print(\"the student not having \" )\n",
    "        else:\n",
    "            gr = sum(self.grade)/len(self.grade)\n",
    "            return \"the student have grade is \" , gr\n",
    "    def stud_details(self):\n",
    "        print(\"student Id is \",self.Id)\n",
    "        print(\"student name is \",self.name)\n",
    "        print('student grade',self.std_grade())\n",
    " \n",
    "s1 = Students(3423,\"satya\",[98,67,69,88,78])\n",
    "s2 = Students(3434,\"ram\",[89,76,80,97,86])\n",
    "s3 = Students(3435,\"rahul\",[90,78,66,77,87])\n",
    "\n"
   ]
  },
  {
   "cell_type": "code",
   "execution_count": 5,
   "id": "a35adf53",
   "metadata": {},
   "outputs": [
    {
     "name": "stdout",
     "output_type": "stream",
     "text": [
      "('the student have grade is ', 80.0)\n",
      "('the student have grade is ', 85.6)\n",
      "('the student have grade is ', 79.6)\n"
     ]
    }
   ],
   "source": [
    "print(s1.std_grade())\n",
    "print(s2.std_grade())\n",
    "print(s3.std_grade())"
   ]
  },
  {
   "cell_type": "code",
   "execution_count": 6,
   "id": "113eba86",
   "metadata": {},
   "outputs": [
    {
     "name": "stdout",
     "output_type": "stream",
     "text": [
      "student Id is  3423\n",
      "student name is  satya\n",
      "student grade ('the student have grade is ', 80.0)\n",
      "None\n",
      "student Id is  3434\n",
      "student name is  ram\n",
      "student grade ('the student have grade is ', 85.6)\n",
      "None\n",
      "student Id is  3435\n",
      "student name is  rahul\n",
      "student grade ('the student have grade is ', 79.6)\n",
      "None\n"
     ]
    }
   ],
   "source": [
    "print(s1.stud_details())\n",
    "print(s2.stud_details())\n",
    "print(s3.stud_details())"
   ]
  },
  {
   "cell_type": "markdown",
   "id": "70bfa792",
   "metadata": {},
   "source": [
    "Problem 8: Email Management Create a class representing an email with attributes like sender, recipient, and subject. Implement methods to send an email and display email details."
   ]
  },
  {
   "cell_type": "code",
   "execution_count": 7,
   "id": "c4fa3f3e",
   "metadata": {},
   "outputs": [
    {
     "name": "stdout",
     "output_type": "stream",
     "text": [
      "Enter the sender email :  hhl\n",
      "Enter the reciver email : jk\n",
      "Enter the subject : jhb\n",
      "message is sending ... .... .... .... ... ...\n",
      "message sent.\n",
      "sender Id is == hhl \n",
      "receiver== jk\n",
      "subject is jhb \n"
     ]
    }
   ],
   "source": [
    "class Email:\n",
    "    \n",
    "    def __init__(self,sender,recipient,subject,):\n",
    "        self.sender_id = sender\n",
    "        self.receiver  = recipient\n",
    "        self.subject = subject\n",
    "        self.sent = False\n",
    "        \n",
    "    def check_status(self):\n",
    "        print(\"message is sending ... .... .... .... ... ...\")\n",
    "        self.sent = True\n",
    "        print(\"message sent.\")\n",
    "    \n",
    "    def display_this(self):\n",
    "        print(f\"sender Id is == {self.sender_id} \")\n",
    "        print(f\"receiver== {self.receiver}\")\n",
    "        print(f\"subject is {self.subject} \")\n",
    "        \n",
    "l = input(\"Enter the sender email :  \")\n",
    "m = input(\"Enter the reciver email : \")\n",
    "n= input(\"Enter the subject : \")\n",
    "\n",
    "email = Email(l,m,n)\n",
    "email.check_status()\n",
    "email.display_this()\n",
    "\n"
   ]
  },
  {
   "cell_type": "markdown",
   "id": "48f5ef52",
   "metadata": {},
   "source": [
    "Problem 9: Social Media Profile Create a class representing a social media profile with attributes like username and posts. Implement methods to add posts, display posts, and search for posts by keyword."
   ]
  },
  {
   "cell_type": "code",
   "execution_count": 12,
   "id": "e165de8d",
   "metadata": {},
   "outputs": [],
   "source": [
    "import logging  \n",
    "class Social_media_account: \n",
    "    logging.basicConfig(filename = \"opp.txt\",level = logging.DEBUG,format = '%(asctime)s-%(message)s')\n",
    "    def __init__(self,username):\n",
    "        logging.info(\"get your user name \")\n",
    "        self.username = username\n",
    "        logging.info(\"append the post\")\n",
    "        self.post = []\n",
    "        logging.info(\"your new post\")\n",
    "    def Post_content_add(self,new_post):\n",
    "        logging.info(\"your display\")\n",
    "        self.post.append(new_post)\n",
    "        self.post = \"\".join(self.post)\n",
    "        return \"new post is :\",self.post\n",
    "        \n",
    "    def display(self):\n",
    "        return \"user name is : \",self.username ,\"and post is \",self.post        \n"
   ]
  },
  {
   "cell_type": "code",
   "execution_count": 13,
   "id": "9f7a92b8",
   "metadata": {},
   "outputs": [
    {
     "name": "stdout",
     "output_type": "stream",
     "text": [
      "Enter the name : aryan \n",
      "create new post : today is monday\n",
      "('new post is :', 'today is monday')\n",
      "('user name is : ', 'aryan ', 'and post is ', 'today is monday')\n"
     ]
    }
   ],
   "source": [
    "user = input(\"Enter the name : \")\n",
    "create_post = input(\"create new post : \")\n",
    "social = Social_media_account(user)\n",
    "print(social.Post_content_add(create_post))\n",
    "print(social.display())"
   ]
  },
  {
   "cell_type": "markdown",
   "id": "34dfc712",
   "metadata": {},
   "source": [
    "Problem 10: ToDo List Create a class representing a ToDo list with attributes like tasks and due dates. Implement methods to add tasks, mark tasks as completed, and display pending tasks"
   ]
  },
  {
   "cell_type": "code",
   "execution_count": 115,
   "id": "c6584cf9",
   "metadata": {},
   "outputs": [
    {
     "name": "stdout",
     "output_type": "stream",
     "text": [
      "Pending Tasks:\n",
      "1. Complete project proposal (Due Date: 2024-01-10)\n",
      "2. Buy groceries (Due Date: 2024-01-05)\n",
      "3. Prepare presentation slides (Due Date: 2024-01-15)\n",
      "Task 'Buy groceries' marked as completed.\n",
      "Pending Tasks:\n",
      "1. Complete project proposal (Due Date: 2024-01-10)\n",
      "2. Prepare presentation slides (Due Date: 2024-01-15)\n"
     ]
    }
   ],
   "source": [
    "class ToDoList:\n",
    "    def __init__(self):\n",
    "        self.tasks = {}  # Using a dictionary to store tasks and their completion status\n",
    "\n",
    "    def add_task(self, task, due_date):\n",
    "        self.tasks[task] = {'due_date': due_date, 'completed': False}\n",
    "\n",
    "    def mark_task_as_completed(self, task):\n",
    "        if task in self.tasks:\n",
    "            self.tasks[task]['completed'] = True\n",
    "            print(f\"Task '{task}' marked as completed.\")\n",
    "        else:\n",
    "            print(f\"Task '{task}' not found in the ToDo list.\")\n",
    "\n",
    "    def display_pending_tasks(self):\n",
    "        pending_tasks = [task for task, details in self.tasks.items() if not details['completed']]\n",
    "        if not pending_tasks:\n",
    "            print(\"No pending tasks.\")\n",
    "        else:\n",
    "            print(\"Pending Tasks:\")\n",
    "            for index, task in enumerate(pending_tasks, start=1):\n",
    "                print(f\"{index}. {task} (Due Date: {self.tasks[task]['due_date']})\")\n",
    "\n",
    "# Example usage:\n",
    "to_do_list = ToDoList()\n",
    "\n",
    "# Adding tasks to the ToDo list\n",
    "to_do_list.add_task(\"Complete project proposal\", \"2024-01-10\")\n",
    "to_do_list.add_task(\"Buy groceries\", \"2024-01-05\")\n",
    "to_do_list.add_task(\"Prepare presentation slides\", \"2024-01-15\")\n",
    "\n",
    "# Displaying pending tasks\n",
    "to_do_list.display_pending_tasks()\n",
    "\n",
    "# Marking a task as completed\n",
    "to_do_list.mark_task_as_completed(\"Buy groceries\")\n",
    "\n",
    "# Displaying pending tasks after marking one task as completed\n",
    "to_do_list.display_pending_tasks()\n"
   ]
  },
  {
   "cell_type": "code",
   "execution_count": 2,
   "id": "035ad406",
   "metadata": {},
   "outputs": [
    {
     "name": "stdout",
     "output_type": "stream",
     "text": [
      "😀\n"
     ]
    }
   ],
   "source": [
    "print(\"\\U0001F600\")"
   ]
  },
  {
   "cell_type": "code",
   "execution_count": 5,
   "id": "5ec27105",
   "metadata": {},
   "outputs": [
    {
     "name": "stdout",
     "output_type": "stream",
     "text": [
      "😄\n"
     ]
    }
   ],
   "source": [
    "print(\"\\U0001F604\")"
   ]
  },
  {
   "cell_type": "code",
   "execution_count": 11,
   "id": "1afd58cc",
   "metadata": {},
   "outputs": [
    {
     "name": "stdout",
     "output_type": "stream",
     "text": [
      "🤄\n"
     ]
    }
   ],
   "source": [
    "print(\"\\U0001F904\")"
   ]
  },
  {
   "cell_type": "code",
   "execution_count": 13,
   "id": "4ad35f90",
   "metadata": {},
   "outputs": [
    {
     "name": "stdout",
     "output_type": "stream",
     "text": [
      "🜄\n"
     ]
    }
   ],
   "source": [
    "print(\"\\U0001F704\")"
   ]
  },
  {
   "cell_type": "code",
   "execution_count": 20,
   "id": "b05ad2bb",
   "metadata": {},
   "outputs": [
    {
     "name": "stdout",
     "output_type": "stream",
     "text": [
      "😂\n"
     ]
    }
   ],
   "source": [
    "print(\"\\U0001F602\")"
   ]
  },
  {
   "cell_type": "code",
   "execution_count": 21,
   "id": "d2232659",
   "metadata": {},
   "outputs": [
    {
     "name": "stdout",
     "output_type": "stream",
     "text": [
      "🄄\n"
     ]
    }
   ],
   "source": [
    "print(\"\\U0001F104\")"
   ]
  },
  {
   "cell_type": "code",
   "execution_count": 23,
   "id": "3a319462",
   "metadata": {},
   "outputs": [
    {
     "name": "stdout",
     "output_type": "stream",
     "text": [
      "🔄\n"
     ]
    }
   ],
   "source": [
    "print(\"\\U0001F504\")"
   ]
  },
  {
   "cell_type": "code",
   "execution_count": null,
   "id": "e45518a7",
   "metadata": {},
   "outputs": [],
   "source": [
    "\n"
   ]
  }
 ],
 "metadata": {
  "kernelspec": {
   "display_name": "Python 3 (ipykernel)",
   "language": "python",
   "name": "python3"
  },
  "language_info": {
   "codemirror_mode": {
    "name": "ipython",
    "version": 3
   },
   "file_extension": ".py",
   "mimetype": "text/x-python",
   "name": "python",
   "nbconvert_exporter": "python",
   "pygments_lexer": "ipython3",
   "version": "3.11.5"
  }
 },
 "nbformat": 4,
 "nbformat_minor": 5
}
