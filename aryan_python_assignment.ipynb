{
 "cells": [
  {
   "cell_type": "markdown",
   "id": "88982dfe",
   "metadata": {},
   "source": [
    "# Assignment no 3 "
   ]
  },
  {
   "cell_type": "markdown",
   "id": "816cc15a",
   "metadata": {},
   "source": [
    "# ##Question 1 \n",
    "Write a Python program to print the numbers from 1 to 10 using a for loop."
   ]
  },
  {
   "cell_type": "code",
   "execution_count": 1,
   "id": "73863e9f",
   "metadata": {},
   "outputs": [
    {
     "name": "stdout",
     "output_type": "stream",
     "text": [
      "1 2 3 4 5 6 7 8 9 10 "
     ]
    }
   ],
   "source": [
    "for p in range (1,11):\n",
    "    print(p,end = ' ')\n",
    "    "
   ]
  },
  {
   "cell_type": "markdown",
   "id": "3bb7221d",
   "metadata": {},
   "source": [
    "# ##Question 2\n",
    "Create a program that calculate the sum of all numbers in a list using a for loop "
   ]
  },
  {
   "cell_type": "code",
   "execution_count": 2,
   "id": "453a05c9",
   "metadata": {},
   "outputs": [
    {
     "name": "stdout",
     "output_type": "stream",
     "text": [
      "158\n"
     ]
    }
   ],
   "source": [
    "list =  [2,53,6,46,7,4,34,6]\n",
    "sum = 0\n",
    "for i in list:\n",
    "    sum = sum+i\n",
    "print(sum)             \n",
    "    "
   ]
  },
  {
   "cell_type": "markdown",
   "id": "320d6e6f",
   "metadata": {},
   "source": [
    "### Question 3\n",
    "Write a program to print a character of the string in the reverse order using the for loop ."
   ]
  },
  {
   "cell_type": "code",
   "execution_count": null,
   "id": "53ef1a41",
   "metadata": {},
   "outputs": [],
   "source": [
    "a = \"Aryan Yadav\"\n",
    "for i in range ((len(a)-1),-1,-1):\n",
    "    print(a[i],end='')"
   ]
  },
  {
   "cell_type": "markdown",
   "id": "66d8b423",
   "metadata": {},
   "source": [
    "### Question 4\n",
    "    Write a program that finds the factorial of a given number using a for loop."
   ]
  },
  {
   "cell_type": "code",
   "execution_count": null,
   "id": "81d2368b",
   "metadata": {},
   "outputs": [],
   "source": [
    "g = int(input(\"enter the number:\"))\n",
    "factorial = 1 \n",
    "if factorial<0:\n",
    "    print(\"it does not exist\")\n",
    "elif factorial==0:\n",
    "    print(\"1\")\n",
    "else:\n",
    "    for i in range (1,g+1):\n",
    "        factorial= factorial*i\n",
    "                             \n",
    "    print(factorial)"
   ]
  },
  {
   "cell_type": "raw",
   "id": "a90604c7",
   "metadata": {},
   "source": [
    "### Question 5 \n",
    "     Create a program to print the multiplication table of a given number using a `for` loop."
   ]
  },
  {
   "cell_type": "markdown",
   "id": "7e83c3ef",
   "metadata": {},
   "source": [
    "### Question 6\n",
    "Write a program that counts the number of even and odd numbers in a list using a `for` loop."
   ]
  },
  {
   "cell_type": "code",
   "execution_count": 1,
   "id": "fdfba14f",
   "metadata": {},
   "outputs": [
    {
     "name": "stdout",
     "output_type": "stream",
     "text": [
      "odd numbers are 7\n",
      " even numbers are  4\n"
     ]
    }
   ],
   "source": [
    "lis = [2,3,5,6,7,47,3,134,89,5,10]\n",
    "even = 0\n",
    "odd = 0\n",
    "for i in lis:\n",
    "    if (i%2==0):\n",
    "        even += 1\n",
    "    else:\n",
    "        odd +=1\n",
    "print(\"odd numbers are\",odd)\n",
    "print(\" even numbers are \",even)\n",
    "        \n",
    "        \n",
    "        "
   ]
  },
  {
   "cell_type": "markdown",
   "id": "0b2ee229",
   "metadata": {},
   "source": [
    "### Question 7\n",
    " Develop a program that prints the squares of numbers from 1 to 5 using a `for` loop"
   ]
  },
  {
   "cell_type": "code",
   "execution_count": 2,
   "id": "6d2d4bab",
   "metadata": {},
   "outputs": [
    {
     "name": "stdout",
     "output_type": "stream",
     "text": [
      "the square of 1 is: 1\n",
      "the square of 2 is: 4\n",
      "the square of 3 is: 9\n",
      "the square of 4 is: 16\n",
      "the square of 5 is: 25\n"
     ]
    }
   ],
   "source": [
    "for i in range(1,6):\n",
    "    u = i*i\n",
    "    print(\"the square of\", i ,\"is:\",u)"
   ]
  },
  {
   "cell_type": "markdown",
   "id": "9f0821da",
   "metadata": {},
   "source": [
    "# Question 8 \n",
    "  Create a program to find the length of a string without using the `len()` function."
   ]
  },
  {
   "cell_type": "code",
   "execution_count": 3,
   "id": "b33fc53c",
   "metadata": {
    "scrolled": true
   },
   "outputs": [
    {
     "name": "stdout",
     "output_type": "stream",
     "text": [
      "the length of string is : 31\n"
     ]
    }
   ],
   "source": [
    "h = \"I am appreciating your work bro\"\n",
    "l=list(h)\n",
    "p = 0\n",
    "for i in l:\n",
    "    p = p+1\n",
    "print(\"the length of string is :\",p)"
   ]
  },
  {
   "cell_type": "markdown",
   "id": "9dc48263",
   "metadata": {},
   "source": [
    "# Question 9:\n",
    "    Write a program that calculates the average of a list of numbers using a `for` loop."
   ]
  },
  {
   "cell_type": "code",
   "execution_count": 4,
   "id": "42f75955",
   "metadata": {},
   "outputs": [
    {
     "name": "stdout",
     "output_type": "stream",
     "text": [
      "26.444444444444443\n"
     ]
    }
   ],
   "source": [
    "lis1= [2,4,5,35,46,6,46,4,90]\n",
    "l = 0\n",
    "for i in range(len(lis1)):\n",
    "    l = l+lis1[i]\n",
    "    avg=l/len(lis1)\n",
    "print(avg)\n",
    " "
   ]
  },
  {
   "cell_type": "markdown",
   "id": "f51a180e",
   "metadata": {},
   "source": [
    "### Question 10 \n",
    " Develop a program that prints the first `n` Fibonacci numbers using a `for` loop"
   ]
  },
  {
   "cell_type": "code",
   "execution_count": null,
   "id": "87d428e1",
   "metadata": {},
   "outputs": [],
   "source": [
    "n = int(input(\"Enter the number: \"))\n",
    "x = 0\n",
    "y = 1\n",
    "z= 0\n",
    "while(z<=n):\n",
    "    print(z)\n",
    "    x=y\n",
    "    y=z\n",
    "    z=x+y\n",
    " \n",
    "   "
   ]
  },
  {
   "cell_type": "markdown",
   "id": "90599497",
   "metadata": {},
   "source": [
    "### Question 11\n",
    "Write a program to check if a given list contains any duplicates using a `for` loop."
   ]
  },
  {
   "cell_type": "code",
   "execution_count": null,
   "id": "7614838d",
   "metadata": {},
   "outputs": [],
   "source": [
    "l = [2,5,569,20,47,9,9,6,5,6,78,8,45,5,2,45,23]\n",
    "for i in range (0,len(l)):\n",
    "    for j in range(i+1,len(l)):\n",
    "        if l[i]==l[j]:\n",
    "            print(l[i],\"has duplicate value\")\n",
    " \n",
    "        "
   ]
  },
  {
   "cell_type": "markdown",
   "id": "6cd2526b",
   "metadata": {},
   "source": [
    "### Question 12:\n",
    "     Create a program that prints the prime numbers in a given range using a `for` loop."
   ]
  },
  {
   "cell_type": "code",
   "execution_count": null,
   "id": "bd9bf1d2",
   "metadata": {},
   "outputs": [],
   "source": [
    "lis = [23,245,53,2,5,13,64,24,97,976,345,43,83]\n",
    "for i in lis:\n",
    "    \n",
    "    if  i ==2:\n",
    "        print(i, \" is a prime number\")\n",
    "    elif (i%5!=0 and i%2!=0):\n",
    "        print(i, \" is a prime number\")\n",
    "    else:\n",
    "        print(i,\"is not a prime number\")\n",
    "        \n",
    "    "
   ]
  },
  {
   "cell_type": "markdown",
   "id": "8ba828c0",
   "metadata": {},
   "source": [
    "### Question 13\n",
    " Develop a program that counts the number of vowels in a string using a `for` loop"
   ]
  },
  {
   "cell_type": "code",
   "execution_count": null,
   "id": "bc4f94ee",
   "metadata": {},
   "outputs": [],
   "source": [
    "sentence = str(input(\"Enter the sentence :\"))\n",
    "sentence.lower()\n",
    "count= 0\n",
    "for k in sentence:\n",
    "    if (k == \"a\" or k ==\"e\" or k == \"i\" or k == \"o\"  or k == \"u\"):\n",
    "        count = count+1\n",
    "print(\"The number of vowels in the sentence is \",count)"
   ]
  },
  {
   "cell_type": "markdown",
   "id": "c3e59795",
   "metadata": {},
   "source": [
    "### Question 14\n",
    " Write a program to find the maximum element in a 2D list using a nested `for` loop."
   ]
  },
  {
   "cell_type": "markdown",
   "id": "8c99b705",
   "metadata": {},
   "source": [
    "### Question 15\n",
    "  Create a program that removes all occurrences of a specific element from a list using a `for` loop."
   ]
  },
  {
   "cell_type": "code",
   "execution_count": null,
   "id": "c1f18932",
   "metadata": {},
   "outputs": [],
   "source": [
    "lis = [45,336,64,67,95,5]\n",
    "n=int(input())\n",
    "for j in lis:\n",
    "    for i in n:\n",
    "        if j==i:\n",
    "            continue\n",
    "print(j)\n",
    "        \n"
   ]
  },
  {
   "cell_type": "markdown",
   "id": "96a57e91",
   "metadata": {},
   "source": [
    "### Question 16\n",
    " Develop a program that generates a multiplication table for numbers from 1 to 5 using a nested `for` loop."
   ]
  },
  {
   "cell_type": "code",
   "execution_count": null,
   "id": "4b7a7bc7",
   "metadata": {},
   "outputs": [],
   "source": [
    " for i in range(1,6):\n",
    "        for j in range(1,6):\n",
    "            print(i*j,end = ' ')\n",
    "        print()"
   ]
  },
  {
   "cell_type": "markdown",
   "id": "05124de4",
   "metadata": {},
   "source": [
    "### Question 17\n",
    "17. Write a program that converts a list of Fahrenheit temperatures to Celsius using a `for` loop."
   ]
  },
  {
   "cell_type": "code",
   "execution_count": 19,
   "id": "8adc66e7",
   "metadata": {},
   "outputs": [
    {
     "name": "stdout",
     "output_type": "stream",
     "text": [
      "172.77777777777777\n",
      "106.11111111111111\n",
      "90.55555555555556\n",
      "169.44444444444443\n",
      "245.55555555555554\n",
      "115.0\n"
     ]
    }
   ],
   "source": [
    "Temperature = [343,223,195,337,474,239] # in  fahrenheit\n",
    "# converting fahernheit to celcius\n",
    "for f in Temperature:\n",
    "    c = (f-32)/1.8\n",
    "    f +=1\n",
    "    print(c)\n",
    "    "
   ]
  },
  {
   "cell_type": "markdown",
   "id": "cf12b226",
   "metadata": {},
   "source": [
    "### Question 18.\n",
    ". Create a program to print the common elements from two lists using a `for` loop"
   ]
  },
  {
   "cell_type": "code",
   "execution_count": 33,
   "id": "933f4963",
   "metadata": {},
   "outputs": [
    {
     "name": "stdout",
     "output_type": "stream",
     "text": [
      "pwskills\n",
      "2\n",
      "science\n",
      "India\n"
     ]
    }
   ],
   "source": [
    "l1 = [\"aryan\",\"pwskills\",2,4,1,35,\"data\",\"science\",\"India\"]\n",
    "l2 = [\"ya\",\"pwskills\",\"sand\",\"India\",\"science\",34,2,534,]\n",
    "for i in l1:\n",
    "    for j in l2:\n",
    "        if i == j:\n",
    "            print(j)"
   ]
  },
  {
   "cell_type": "markdown",
   "id": "4bbb0c35",
   "metadata": {},
   "source": [
    "### Question 19 .\n",
    ". Develop a program that prints the pattern of right-angled triangles using a `for` loop. Use ‘*’ to draw the \n",
    "pattern"
   ]
  },
  {
   "cell_type": "code",
   "execution_count": 42,
   "id": "86177c2a",
   "metadata": {},
   "outputs": [
    {
     "name": "stdout",
     "output_type": "stream",
     "text": [
      "* \n",
      "* * \n",
      "* * * \n",
      "* * * * \n",
      "* * * * * \n",
      "* * * * * * \n",
      "* * * * * * * \n",
      "* * * * * * * * \n",
      "* * * * * * * * * \n",
      "* * * * * * * * * * \n"
     ]
    }
   ],
   "source": [
    "for i in range (10):\n",
    "    for j in range(i+1):\n",
    "        print(\"*\",end = ' ')\n",
    "    print()"
   ]
  },
  {
   "cell_type": "markdown",
   "id": "2a74d555",
   "metadata": {},
   "source": [
    "### Question 20\n",
    "Write a program to find the greatest common divisor (GCD) of two numbers using a `for` loop."
   ]
  },
  {
   "cell_type": "code",
   "execution_count": 11,
   "id": "fee72803",
   "metadata": {},
   "outputs": [
    {
     "name": "stdout",
     "output_type": "stream",
     "text": [
      "Enter the first number : 69\n",
      "Enter the second number :3\n",
      "the gcd of the given data is 3\n"
     ]
    }
   ],
   "source": [
    "num1= int(input(\"Enter the first number : \"))\n",
    "num2 = int(input(\"Enter the second number :\"))\n",
    "if num2>num1:\n",
    "    minimum = num1\n",
    "else:\n",
    "    minimum = num2\n",
    "    \n",
    "for i in range(1, minimum+1):\n",
    "    if num1%i==0 and num2%i == 0:\n",
    "        gcd = i\n",
    "print(f\"the gcd of the given data is {gcd}\")"
   ]
  },
  {
   "cell_type": "markdown",
   "id": "9a2c2f95",
   "metadata": {},
   "source": [
    "### Question 21 \n",
    " Create a program that calculates the sum of the digits of numbers in a list using a list comprehension"
   ]
  },
  {
   "cell_type": "code",
   "execution_count": 20,
   "id": "dde74870",
   "metadata": {},
   "outputs": [
    {
     "name": "stdout",
     "output_type": "stream",
     "text": [
      "2804.573\n"
     ]
    }
   ],
   "source": [
    "lis1 = [54,70,80,93,85,32.28,2341,49.293]\n",
    "c =0\n",
    "list2 = [c := c+i for i in lis1]\n",
    "print(c)\n"
   ]
  },
  {
   "cell_type": "markdown",
   "id": "f08bda35",
   "metadata": {},
   "source": [
    "### Question 22\n",
    " Write a program to find the prime factors of a given number using a `for` loop and list comprehension"
   ]
  },
  {
   "cell_type": "code",
   "execution_count": 13,
   "id": "2b94a353",
   "metadata": {},
   "outputs": [
    {
     "name": "stdout",
     "output_type": "stream",
     "text": [
      "Enter the user input:5\n",
      "5\n"
     ]
    },
    {
     "ename": "KeyboardInterrupt",
     "evalue": "",
     "output_type": "error",
     "traceback": [
      "\u001b[1;31m---------------------------------------------------------------------------\u001b[0m",
      "\u001b[1;31mKeyboardInterrupt\u001b[0m                         Traceback (most recent call last)",
      "Cell \u001b[1;32mIn[13], line 4\u001b[0m\n\u001b[0;32m      2\u001b[0m c\u001b[38;5;241m=\u001b[39m[]\n\u001b[0;32m      3\u001b[0m b \u001b[38;5;241m=\u001b[39m \u001b[38;5;241m2\u001b[39m \n\u001b[1;32m----> 4\u001b[0m \u001b[38;5;28;01mwhile\u001b[39;00m a\u001b[38;5;241m!=\u001b[39m\u001b[38;5;241m0\u001b[39m:\n\u001b[0;32m      5\u001b[0m     \u001b[38;5;28;01mif\u001b[39;00m a\u001b[38;5;241m%\u001b[39mb \u001b[38;5;241m==\u001b[39m \u001b[38;5;241m0\u001b[39m:\n\u001b[0;32m      6\u001b[0m         a \u001b[38;5;241m=\u001b[39m a\u001b[38;5;241m/\u001b[39mb\n",
      "\u001b[1;31mKeyboardInterrupt\u001b[0m: "
     ]
    }
   ],
   "source": [
    "a = int(input(\"Enter the user input:\"))\n",
    "c=[]\n",
    "b = 2 \n",
    "while a!=0:\n",
    "    if a%b == 0:\n",
    "        a = a/b\n",
    "        print(b)\n",
    "        c.append(b)\n",
    "    else:\n",
    "        b= b+1\n",
    "        "
   ]
  },
  {
   "cell_type": "markdown",
   "id": "1cb6e5d7",
   "metadata": {},
   "source": [
    "### Question 23\n",
    "Develop a program that extracts unique elements from a list and stores them in a new list     using a list \n",
    "comprehension."
   ]
  },
  {
   "cell_type": "code",
   "execution_count": 220,
   "id": "eb51e3c6",
   "metadata": {},
   "outputs": [
    {
     "data": {
      "text/plain": [
       "[2, 3, 4, 5, 6, 8, 21, 23, 36, 45, 56, 58, 89, 100, 474]"
      ]
     },
     "execution_count": 220,
     "metadata": {},
     "output_type": "execute_result"
    }
   ],
   "source": [
    "l = [ 2,3,4,5,5,89,100,100,100,56,23,8,45,6,58,45,21,23,36,36,474,3,2,]\n",
    "l2 =[]\n",
    "[l2.append(i)for i in l if i not in l2]\n",
    "l2.sort()\n",
    "l2"
   ]
  },
  {
   "cell_type": "markdown",
   "id": "a511bd68",
   "metadata": {},
   "source": [
    "### question 24\n",
    "Create a program that generates a list of all palindromic numbers up to a specified\n",
    "limit using a list comprehension."
   ]
  },
  {
   "cell_type": "code",
   "execution_count": 222,
   "id": "40e77abb",
   "metadata": {},
   "outputs": [
    {
     "name": "stdout",
     "output_type": "stream",
     "text": [
      "1881\n",
      "121\n",
      "989\n",
      "505\n",
      "7\n",
      "Total palindrone numbers are : 5\n"
     ]
    }
   ],
   "source": [
    " def palindrome_num(lis1):\n",
    "        c = 0\n",
    "        for i in lis1:\n",
    "            if str(i)==str(i)[::-1]:\n",
    "                print(i)\n",
    "                c +=1\n",
    "        print(\"Total palindrone numbers are :\",c)\n",
    "        \n",
    "lis1 = [1881,56,121,989,25,362,500,505,7]\n",
    "palindrome_num(lis1)\n",
    " "
   ]
  },
  {
   "cell_type": "markdown",
   "id": "ca0db0c2",
   "metadata": {},
   "source": [
    "### Question 25\n",
    "     Write a program to flatten a nested list using list comprehension"
   ]
  },
  {
   "cell_type": "code",
   "execution_count": 223,
   "id": "f96c0ff9",
   "metadata": {},
   "outputs": [
    {
     "data": {
      "text/plain": [
       "[23, 3535, 5, 3, 53, 353, 35, 35, 3, 98]"
      ]
     },
     "execution_count": 223,
     "metadata": {},
     "output_type": "execute_result"
    }
   ],
   "source": [
    "lisnested = [[23],[3535,5,3,53,],[353,35],[35,3],[98]]\n",
    "[lis2 for item in lisnested for lis2 in item]"
   ]
  },
  {
   "cell_type": "markdown",
   "id": "76e50e8c",
   "metadata": {},
   "source": [
    "### Question 26\n",
    " Develop a program that computes the sum of even and odd numbers in a list separately using list \n",
    "comprehension."
   ]
  },
  {
   "cell_type": "code",
   "execution_count": 229,
   "id": "b0af1593",
   "metadata": {},
   "outputs": [
    {
     "data": {
      "text/plain": [
       "[2, 42, 536, 4, 74, 584, 898, 76, 96, 56, 5856, 48, 8, 88, 0, 6]"
      ]
     },
     "execution_count": 229,
     "metadata": {},
     "output_type": "execute_result"
    }
   ],
   "source": [
    "l1 = [2,42,536,7,97,57,4,74,584,584457,898,76,96,56,5856,83,48,31,75,8,979,7,7,87,88,0,87,6,]\n",
    "[even for  even in  l1 if even%2==0]\n",
    "\n"
   ]
  },
  {
   "cell_type": "code",
   "execution_count": 230,
   "id": "571973a4",
   "metadata": {},
   "outputs": [
    {
     "data": {
      "text/plain": [
       "[7, 97, 57, 584457, 83, 31, 75, 979, 7, 7, 87, 87]"
      ]
     },
     "execution_count": 230,
     "metadata": {},
     "output_type": "execute_result"
    }
   ],
   "source": [
    "[odd for odd in l1 if odd%2!=0]"
   ]
  },
  {
   "cell_type": "markdown",
   "id": "8c1f36ee",
   "metadata": {},
   "source": [
    "### Question 27\n",
    " Create a program that generates a list of squares of odd numbers between 1 and 10 using list \n",
    "comprehension."
   ]
  },
  {
   "cell_type": "code",
   "execution_count": 231,
   "id": "6e1b7a2e",
   "metadata": {},
   "outputs": [
    {
     "name": "stdout",
     "output_type": "stream",
     "text": [
      "[1, 9, 25, 49, 81]\n"
     ]
    }
   ],
   "source": [
    "ab=[]\n",
    "for i in range(1,11):\n",
    "    if i%2!=0:\n",
    "        j = i*i\n",
    "        ab.append(j)\n",
    "print(ab)"
   ]
  },
  {
   "cell_type": "markdown",
   "id": "43b821b6",
   "metadata": {},
   "source": [
    "### Question 28\n",
    " Write a program that combines two lists into a dictionary using list comprehension."
   ]
  },
  {
   "cell_type": "code",
   "execution_count": 232,
   "id": "b5bd1ba0",
   "metadata": {},
   "outputs": [
    {
     "name": "stdout",
     "output_type": "stream",
     "text": [
      "{1: 'aryan', 3: 'Ramam', 5: 'flag', 6: 'dss', 78: 'coding'}\n"
     ]
    }
   ],
   "source": [
    "l1 =[1,3,5,6,78]\n",
    "l2= [\"aryan\",\"Ramam\",\"flag\",\"dss\",\"coding\"]\n",
    "dictionary = {key:values for key,values in zip(l1,l2)}\n",
    "print(dictionary)"
   ]
  },
  {
   "cell_type": "markdown",
   "id": "a4869364",
   "metadata": {},
   "source": [
    "### question 29\n",
    ". Develop a program that extracts the vowels from a string and stores them in a list using list comprehension"
   ]
  },
  {
   "cell_type": "code",
   "execution_count": 242,
   "id": "8411e4e3",
   "metadata": {},
   "outputs": [
    {
     "name": "stdout",
     "output_type": "stream",
     "text": [
      "Enter the sentence :P[8IOHJ\n"
     ]
    },
    {
     "data": {
      "text/plain": [
       "['i', 'o']"
      ]
     },
     "execution_count": 242,
     "metadata": {},
     "output_type": "execute_result"
    }
   ],
   "source": [
    "stri = str(input(\"Enter the sentence :\"))\n",
    "[i for i in stri.lower() if (i == \"a\")or(i == \"e\")or (i == \"o\")or (i == \"i\")or(i == \"u\")]"
   ]
  },
  {
   "cell_type": "markdown",
   "id": "37b5e268",
   "metadata": {},
   "source": [
    "### Question 30\n",
    "Create a program that removes all non-numeric characters from a list of strings using list comprehension."
   ]
  },
  {
   "cell_type": "code",
   "execution_count": 5,
   "id": "3f5388c3",
   "metadata": {},
   "outputs": [
    {
     "name": "stdout",
     "output_type": "stream",
     "text": [
      "enter the number : 55hkhk 3lj\n"
     ]
    },
    {
     "data": {
      "text/plain": [
       "['h', 'k', 'h', 'k', ' ', 'l', 'j']"
      ]
     },
     "execution_count": 5,
     "metadata": {},
     "output_type": "execute_result"
    }
   ],
   "source": [
    "NUM = str(input(\"enter the number : \"))\n",
    "[i for i in NUM if not i.isdigit()]"
   ]
  },
  {
   "cell_type": "code",
   "execution_count": null,
   "id": "9e2f6cb7",
   "metadata": {},
   "outputs": [],
   "source": []
  },
  {
   "cell_type": "code",
   "execution_count": null,
   "id": "a89c33a2",
   "metadata": {},
   "outputs": [],
   "source": []
  },
  {
   "cell_type": "code",
   "execution_count": null,
   "id": "acf2290e",
   "metadata": {},
   "outputs": [],
   "source": []
  }
 ],
 "metadata": {
  "kernelspec": {
   "display_name": "Python 3 (ipykernel)",
   "language": "python",
   "name": "python3"
  },
  "language_info": {
   "codemirror_mode": {
    "name": "ipython",
    "version": 3
   },
   "file_extension": ".py",
   "mimetype": "text/x-python",
   "name": "python",
   "nbconvert_exporter": "python",
   "pygments_lexer": "ipython3",
   "version": "3.11.5"
  }
 },
 "nbformat": 4,
 "nbformat_minor": 5
}
